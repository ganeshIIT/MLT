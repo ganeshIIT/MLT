{
 "cells": [
  {
   "cell_type": "markdown",
   "metadata": {},
   "source": [
    "### **Perceptron from scratch**\n",
    "\n",
    "We will implement perceptron from scratch in this notebook.\n",
    "\n",
    "#### *Summary of perceptron components:* \n",
    "\n",
    "##### **1. Training Data** \n",
    "* Feature matrix: $\\mathbf X_{n \\times (m+1)} $ includes a dummy feature $x_0$ that is set to 1.\n",
    "\n",
    "* Label vector: $\\mathbf y_{n \\times 1}$ \n",
    "\n",
    "**Note :**  Perceptron can solve only **binary classification** problems.\n",
    "\n",
    "\n",
    "##### **2. Model** \n",
    "\n",
    "\\begin{align} \n",
    "h_{\\mathbf w} \\colon y  &=& \\text{sign}(\\mathbf w^T \\phi(\\mathbf x)) \n",
    "\\end{align}\n",
    "\n",
    "\\begin{align} \n",
    "\\\\&=& \\text {sign}(z)  \n",
    "\\end{align}\n",
    "\n",
    "where,\n",
    "* $\\mathbf w$ is a weight vector in $ {\\Re}^{(m+1)} $\n",
    "\n",
    "<!-- \\begin{align}  \n",
    " \\begin{cases} +1, \\mbox { if $z$ $\\ge$ 0}\\\\-1, \\text {otherwise} (i.e. z < 0) \\end{cases}  \n",
    "\\end{align}  -->\n",
    "\n",
    "*   \\begin{equation}\n",
    "    \\text {sign} (z)=\n",
    "    \\begin{cases}\n",
    "      +1, \\text { if $z$ $\\ge$ 0}\\\\\n",
    "      -1, \\text {otherwise} (i.e. z < 0)\n",
    "    \\end{cases}\n",
    "    \\end{equation}\n",
    "\n",
    "\n",
    "<!-- \\begin{equation}  \n",
    "\\begin{align}\n",
    "\\text {sign} (z)=  \n",
    "\\\\+1,\\Aboxed{if $z$ $\\ge$ 0}\n",
    "\\\\-1, \\text {otherwise} (i.e. z < 0)\n",
    "\\end{align}  \n",
    "\\end{equation} -->\n",
    "\n",
    "\n",
    "##### **3. Loss function** \n",
    "\n",
    "\\begin{align} \n",
    "\\\\J(\\mathbf w) &=& \\sum_{i=1}^{n}\\text {max} (-h_{\\mathbf w}(\\mathbf x^{(i)})y^{(i)},0) \n",
    "\\end{align}\n",
    "\n",
    "\n",
    "##### **4. Optimization procedure (Perceptron update rule)** \n",
    "1. Initialize $\\mathbf w^{(0)} =0$\n",
    "\n",
    "2. For each training example $(\\mathbf x^{(i)},y^{(i)})\\colon $\n",
    "    * $\\hat y^{(i)}= \\text{sign}(\\mathbf w^T \\phi(\\mathbf x))$ [Calculate the ouput value] \n",
    "    \n",
    "    * $\\mathbf w^{(t+1}:= \\mathbf w^{(t)}+ \\alpha (y^{(i)} -\\hat y^{(i)}) \\phi(\\mathbf x^{(i)})$ [Update the weights] \n",
    "\n",
    "Linear separable examples leads to convergence of the algorightm with zero training loss, else it oscillates. \n",
    "\n",
    "##### **5. Evaluation metrics** \n",
    "* Confusion matrix \n",
    "* Precision/Recall/F1 \n",
    "\n"
   ]
  },
  {
   "cell_type": "markdown",
   "metadata": {},
   "source": [
    "#### **Implementation**"
   ]
  },
  {
   "cell_type": "code",
   "execution_count": 1,
   "metadata": {},
   "outputs": [],
   "source": [
    "import numpy as np \n",
    "import matplotlib.pyplot as plt \n",
    "import seaborn as sns\n",
    "\n",
    "import itertools \n",
    "import functools"
   ]
  },
  {
   "cell_type": "code",
   "execution_count": 2,
   "metadata": {},
   "outputs": [],
   "source": [
    "class Perceptron:\n",
    "    \"\"\" Implements perceptron class.\n",
    "    \n",
    "    It uses the following class variables: \n",
    "    w: stores the final weight vector \n",
    "    w_all: stores all weight vector in training iterations.\n",
    "    errors_all: stores all errors in training iterations.\n",
    "    \"\"\" \n",
    "\n",
    "    def __init__(self):\n",
    "        return \n",
    "    \n",
    "    def predict(self,X):\n",
    "        ''' Predicts labels for input feature matrix X.''' \n",
    "\n",
    "        z = X @ self.w \n",
    "        return np.where(z>=0 , 1, -1)\n",
    "    \n",
    "\n",
    "    def loss(self, X,y):\n",
    "        ''' Calculates loss due to current weight vector w on feature matrix X and label vector y:\n",
    "        Args: \n",
    "        X: feature matrix \n",
    "        y: Label vector \n",
    "\n",
    "        Returns:\n",
    "        None \n",
    "\n",
    "        ''' \n",
    "        return np.sum(np.maximum(-1*self.predict(X)*y, np.zeros(y.shape[0])))\n",
    "\n",
    "    def train(self, X, y, epochs=10, lr = 0.001):\n",
    "        ''' Implements perceptron update rule.\n",
    "\n",
    "        Args: \n",
    "        X: feature matrix\n",
    "        y = Label vector \n",
    "        epochs =Number of epochs\n",
    "        lr = Learning rate\n",
    "\n",
    "        Returns: \n",
    "        None\n",
    "        '''\n",
    "        self.w = np.zeros(X.shape[1])\n",
    "        self.errors_all =[]\n",
    "        self.w_all=[] \n",
    "\n",
    "\n",
    "        for _ in range(epochs):\n",
    "            errors = 0 \n",
    "            for xi, target in zip(X,y): \n",
    "                self.w+=lr*(target -self.predict(xi))*xi \n",
    "                errors += (max(-1*self.predict(xi)*target, 0)) \n",
    "            self.errors_all.append(errors)\n",
    "            self.w_all.append(self.w) \n",
    "\n",
    "            print('Weight vector :', perceptron_obj.w) \n",
    "            print(\"Loss / J(w):\", perceptron_obj.errors_all[-1]) \n",
    "            print('-----------------------------------------------------')\n",
    "\n",
    "        #Note: Commented for loss visualization. Uncomment in actual implementation.\n",
    "        #if self.loss(X,y)==0:\n",
    "        # break"
   ]
  },
  {
   "cell_type": "code",
   "execution_count": 3,
   "metadata": {},
   "outputs": [],
   "source": [
    "## Polynomial Transformation\n",
    "\n",
    "def polynomial_transform(x, degree):\n",
    "    if x.ndim == 1:\n",
    "        x = x[:, None]\n",
    "    x_t = x.transpose()\n",
    "    features = [np.ones(len(x))]\n",
    "    for degree in range(1, degree+1):\n",
    "        for items in itertools.combinations_with_replacement(x_t, degree):\n",
    "            features.append(functools.reduce(lambda x, y: x*y, items))\n",
    "    return np.asarray(features).transpose()\n"
   ]
  },
  {
   "cell_type": "markdown",
   "metadata": {},
   "source": [
    "##### Model Visualization"
   ]
  },
  {
   "cell_type": "code",
   "execution_count": 4,
   "metadata": {},
   "outputs": [],
   "source": [
    "def visualize_model(X_train, y_train, perceptron_obj, degree=1):\n",
    "\n",
    "    f = plt.figure(figsize=(8, 8))\n",
    "\n",
    "    #compute xlim and ylim\n",
    "    x1_min = np.min(X_train[:, 1])\n",
    "    x1_max = np.max(X_train[:, 1])\n",
    "    x2_min = np.min(X_train[:, 2])\n",
    "    x2_max = np.max(X_train[:, 2])\n",
    "\n",
    "    x1_test, x2_test = np.meshgrid(np.linspace(x1_min, x1_max, 100), np.linspace(x2_min, x2_max, 100))\n",
    "    x_test = np.array([x1_test, x2_test]).reshape(2, -1).T\n",
    "\n",
    "    x_test_poly = polynomial_transform(x_test, degree=degree)\n",
    "    y_test = perceptron_obj.predict(x_test_poly)\n",
    "\n",
    "    sns.scatterplot(data=X_train, x=X_train[:, 1], y=X_train[:, 2], hue=y_train)\n",
    "    plt.contourf(x1_test, x2_test, y_test.reshape(100, 100),alpha=0.5, levels=np.linspace(0, 1, 3))\n",
    "\n",
    "    plt.xlabel(\"$x_1$\")\n",
    "    plt.ylabel(\"$x_2$\")\n",
    "    plt.xlim(x1_min, x1_max)\n",
    "    plt.ylim(x2_min, x2_max)\n",
    "    plt.gca().set_aspect('equal', adjustable='box')\n",
    "    \n",
    "    return plt.show()\n"
   ]
  },
  {
   "cell_type": "markdown",
   "metadata": {},
   "source": [
    "#### **Demonstration**\n",
    "\n",
    "We will demonstrate working on least square classification in the following set ups:\n",
    "1. Linearly separable binary classification set up.\n",
    "\n",
    "2. Linearly non-separable binary classification set up "
   ]
  },
  {
   "cell_type": "code",
   "execution_count": 5,
   "metadata": {},
   "outputs": [],
   "source": [
    "def create_toy_data(add_outliers=False, add_class=False):\n",
    "    x0 = np.random.normal(size=50).reshape(-1,2)-1\n",
    "    x1= np.random.normal(size=50).reshape(-1,2) +1.\n",
    "    \n",
    "    if add_outliers: \n",
    "        x_1  = np.random.normal(size=10).reshape(-1,2) + np.array([5.,10.])\n",
    "        return np.concatenate([x0,x1,x_1]) , np.concatenate([np.zeros(25), np.ones(30)]).astype(int) \n",
    "\n",
    "    if add_class: \n",
    "        x2 = np.random.normal(size=50).reshape(-1,2) + 2.\n",
    "        return np.concatenate([x0,x1,x2]), np.concatenate([np.zeros(25), np.ones(25),2 + np.zeros(25)]).astype(int)\n",
    "    return np.concatenate([x0,x1]), np.concatenate([np.zeros(25),np.ones(25)]).astype(int) "
   ]
  },
  {
   "cell_type": "markdown",
   "metadata": {},
   "source": [
    "Also defining a generic *data preprocessing function* that :\n",
    "\n",
    "1. Generates synthetic data by calling `create_toy_data` function.\n",
    "\n",
    "2. Perform *polynomial transformation* (default degree = 1) on feature set.\n",
    "\n",
    "3. Divide the data into training and evaluation sets with `train_test_split` from `sklearn` library."
   ]
  },
  {
   "cell_type": "code",
   "execution_count": 6,
   "metadata": {},
   "outputs": [],
   "source": [
    "from sklearn.model_selection import train_test_split\n",
    "\n",
    "def preprocess(add_class=False, add_outliers=False, degree=1):\n",
    "    X, y = create_toy_data(add_outliers, add_class)\n",
    "\n",
    "    X_poly = polynomial_transform(X, degree=degree)\n",
    "    X_train, X_test, y_train, y_test = train_test_split(X_poly, y)\n",
    "\n",
    "    return X_train, X_test, y_train, y_test"
   ]
  },
  {
   "cell_type": "markdown",
   "metadata": {},
   "source": [
    "#### DEMO 1: *Linear separable binary classification*"
   ]
  },
  {
   "cell_type": "code",
   "execution_count": 7,
   "metadata": {},
   "outputs": [
    {
     "name": "stdout",
     "output_type": "stream",
     "text": [
      "Shape of training feature-matrix: (37, 3)\n",
      "Shape of label-vector (37,)\n",
      "\n",
      "Shape of test feature-matrix: (13, 3)\n",
      "Shape of test label-vector: (13,)\n"
     ]
    }
   ],
   "source": [
    "X_train, X_test, y_train, y_test = preprocess()\n",
    "\n",
    "print('Shape of training feature-matrix:', X_train.shape)\n",
    "print('Shape of label-vector', y_train.shape)\n",
    "\n",
    "print(\"\\nShape of test feature-matrix:\", X_test.shape)\n",
    "print(\"Shape of test label-vector:\", y_test.shape)\n"
   ]
  },
  {
   "cell_type": "markdown",
   "metadata": {},
   "source": [
    "Visualizing the data"
   ]
  },
  {
   "cell_type": "code",
   "execution_count": 8,
   "metadata": {},
   "outputs": [
    {
     "data": {
      "image/png": "[encoded data removed]",
      "text/plain": [
       "<Figure size 576x576 with 1 Axes>"
      ]
     },
     "metadata": {},
     "output_type": "display_data"
    }
   ],
   "source": [
    "sns.set_style('white')\n",
    "f = plt.figure(figsize=(8, 8))\n",
    "sns.set_context(\"notebook\", font_scale=1.5, rc={'lines.linewidth': 2.5})\n",
    "\n",
    "sns.scatterplot(data=X_train, x=X_train[:, -2], y=X_train[:, -1], hue=y_train)\n",
    "plt.xlabel('$x_1$')\n",
    "plt.ylabel('$x_2$')\n",
    "plt.show()"
   ]
  },
  {
   "cell_type": "markdown",
   "metadata": {},
   "source": [
    "##### Learning model parameters"
   ]
  },
  {
   "cell_type": "code",
   "execution_count": 9,
   "metadata": {},
   "outputs": [
    {
     "name": "stdout",
     "output_type": "stream",
     "text": [
      "Weight vector : [ 0.004      -0.00011203  0.00229835]\n",
      "Loss / J(w): 0\n",
      "-----------------------------------------------------\n",
      "Weight vector : [0.002      0.00302479 0.0013778 ]\n",
      "Loss / J(w): 0\n",
      "-----------------------------------------------------\n",
      "Weight vector : [ 0.002      -0.00025723 -0.00028898]\n",
      "Loss / J(w): 0\n",
      "-----------------------------------------------------\n",
      "Weight vector : [0.002      0.00248022 0.00078821]\n",
      "Loss / J(w): 0\n",
      "-----------------------------------------------------\n",
      "Weight vector : [0.         0.00156845 0.00116509]\n",
      "Loss / J(w): 0\n",
      "-----------------------------------------------------\n",
      "Weight vector : [0.         0.00084163 0.00184825]\n",
      "Loss / J(w): 0\n",
      "-----------------------------------------------------\n",
      "Weight vector : [0.         0.00161196 0.00086225]\n",
      "Loss / J(w): 0\n",
      "-----------------------------------------------------\n",
      "Weight vector : [0.002      0.00114213 0.00296545]\n",
      "Loss / J(w): 0\n",
      "-----------------------------------------------------\n",
      "Weight vector : [0.         0.00074466 0.00209859]\n",
      "Loss / J(w): 0\n",
      "-----------------------------------------------------\n",
      "Weight vector : [0.         0.00151499 0.00111258]\n",
      "Loss / J(w): 0\n",
      "-----------------------------------------------------\n"
     ]
    }
   ],
   "source": [
    "perceptron_obj = Perceptron()\n",
    "perceptron_obj.train(X_train, y_train)"
   ]
  },
  {
   "cell_type": "code",
   "execution_count": 10,
   "metadata": {},
   "outputs": [
    {
     "data": {
      "image/png": "[encoded data removed]",
      "text/plain": [
       "<Figure size 576x576 with 1 Axes>"
      ]
     },
     "metadata": {},
     "output_type": "display_data"
    }
   ],
   "source": [
    "visualize_model(X_train, y_train, perceptron_obj)"
   ]
  },
  {
   "cell_type": "code",
   "execution_count": 11,
   "metadata": {},
   "outputs": [
    {
     "data": {
      "text/plain": [
       "[0, 0, 0, 0, 0, 0, 0, 0, 0, 0]"
      ]
     },
     "execution_count": 11,
     "metadata": {},
     "output_type": "execute_result"
    }
   ],
   "source": [
    "perceptron_obj.errors_all"
   ]
  },
  {
   "cell_type": "code",
   "execution_count": 12,
   "metadata": {},
   "outputs": [
    {
     "data": {
      "image/png": "[encoded data removed]",
      "text/plain": [
       "<Figure size 432x288 with 1 Axes>"
      ]
     },
     "metadata": {},
     "output_type": "display_data"
    }
   ],
   "source": [
    "plt.plot(np.arange(len(perceptron_obj.errors_all)),perceptron_obj.errors_all, 'p-')\n",
    "plt.grid()\n",
    "plt.xlabel('Iteration#')\n",
    "plt.ylabel('$J(\\mathbf{w})$')\n",
    "plt.title(\"Learning Curve\")\n",
    "plt.show()"
   ]
  },
  {
   "cell_type": "markdown",
   "metadata": {},
   "source": [
    "#### DEMO 2: *Linear non-separable binary classification*"
   ]
  },
  {
   "cell_type": "code",
   "execution_count": 13,
   "metadata": {},
   "outputs": [
    {
     "name": "stdout",
     "output_type": "stream",
     "text": [
      "Shape of training feature-matrix: (37, 3)\n",
      "Shape of label-vector (37,)\n",
      "\n",
      "Shape of test feature-matrix: (13, 3)\n",
      "Shape of test label-vector: (13,)\n"
     ]
    }
   ],
   "source": [
    "X_train, X_test, y_train, y_test = preprocess()\n",
    "\n",
    "print('Shape of training feature-matrix:', X_train.shape)\n",
    "print('Shape of label-vector', y_train.shape)\n",
    "\n",
    "print(\"\\nShape of test feature-matrix:\", X_test.shape)\n",
    "print(\"Shape of test label-vector:\", y_test.shape)\n"
   ]
  },
  {
   "cell_type": "code",
   "execution_count": 14,
   "metadata": {},
   "outputs": [
    {
     "name": "stdout",
     "output_type": "stream",
     "text": [
      "Weight vector : [2.         0.87722756 2.12596572]\n",
      "Loss / J(w): 0\n",
      "-----------------------------------------------------\n",
      "Weight vector : [4.         5.18161026 0.32948243]\n",
      "Loss / J(w): 0\n",
      "-----------------------------------------------------\n",
      "Weight vector : [4.         3.87541666 2.92963291]\n",
      "Loss / J(w): 0\n",
      "-----------------------------------------------------\n",
      "Weight vector : [2.         0.69378776 2.53024392]\n",
      "Loss / J(w): 0\n",
      "-----------------------------------------------------\n",
      "Weight vector : [4.         4.99817046 0.73376063]\n",
      "Loss / J(w): 0\n",
      "-----------------------------------------------------\n",
      "Weight vector : [0.         2.70011294 0.24889732]\n",
      "Loss / J(w): 0\n",
      "-----------------------------------------------------\n",
      "Weight vector : [2.         1.41837302 1.26382536]\n",
      "Loss / J(w): 0\n",
      "-----------------------------------------------------\n",
      "Weight vector : [4.         4.15241691 0.56210317]\n",
      "Loss / J(w): 0\n",
      "-----------------------------------------------------\n",
      "Weight vector : [4.         4.04142436 0.98425625]\n",
      "Loss / J(w): 0\n",
      "-----------------------------------------------------\n",
      "Weight vector : [4.         3.93043182 1.40640933]\n",
      "Loss / J(w): 0\n",
      "-----------------------------------------------------\n"
     ]
    }
   ],
   "source": [
    "# create_toy_data(factor=0.5)\n",
    "X, y = create_toy_data()\n",
    "X_poly = polynomial_transform(X, degree=1)\n",
    "X_train, X_test, y_train, y_test = train_test_split(X_poly, y)\n",
    "\n",
    "perceptron_obj = Perceptron()\n",
    "perceptron_obj.train(X_train, y_train, lr=1)"
   ]
  },
  {
   "cell_type": "code",
   "execution_count": 15,
   "metadata": {},
   "outputs": [
    {
     "data": {
      "image/png": "[encoded data removed]",
      "text/plain": [
       "<Figure size 576x576 with 1 Axes>"
      ]
     },
     "metadata": {},
     "output_type": "display_data"
    }
   ],
   "source": [
    "visualize_model(X_train, y_train, perceptron_obj, degree=1)"
   ]
  },
  {
   "cell_type": "code",
   "execution_count": 16,
   "metadata": {},
   "outputs": [
    {
     "data": {
      "image/png": "[encoded data removed]",
      "text/plain": [
       "<Figure size 432x288 with 1 Axes>"
      ]
     },
     "metadata": {},
     "output_type": "display_data"
    }
   ],
   "source": [
    "plt.plot(np.arange(len(perceptron_obj.errors_all)),\n",
    "         perceptron_obj.errors_all)\n",
    "plt.xlabel('Iteration#')\n",
    "plt.ylabel(\"$J (\\mathbf {w})$\")\n",
    "plt.grid()\n",
    "plt.show()"
   ]
  }
 ],
 "metadata": {
  "kernelspec": {
   "display_name": "Python 3.9.7 ('tensorflow')",
   "language": "python",
   "name": "python3"
  },
  "language_info": {
   "codemirror_mode": {
    "name": "ipython",
    "version": 3
   },
   "file_extension": ".py",
   "mimetype": "text/x-python",
   "name": "python",
   "nbconvert_exporter": "python",
   "pygments_lexer": "ipython3",
   "version": "3.9.7"
  },
  "orig_nbformat": 4,
  "vscode": {
   "interpreter": {
    "hash": "32f02dc107888b055323539767db1f9cf579f03b0ed3a3ace7986ed2d38433ec"
   }
  }
 },
 "nbformat": 4,
 "nbformat_minor": 2
}
