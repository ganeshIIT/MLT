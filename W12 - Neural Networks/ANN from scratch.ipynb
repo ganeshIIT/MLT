{
 "cells": [
  {
   "cell_type": "markdown",
   "metadata": {},
   "source": [
    "## **Artificial Neural Networks (ANN)**\n",
    "\n",
    "We begin by importing numpy and setting up a random number generator rng, with a seed value of 42. \n",
    "\n",
    "This seed value will be used throughout the notebook to ensure reproducability of experiments.\n"
   ]
  },
  {
   "cell_type": "code",
   "execution_count": 1,
   "metadata": {},
   "outputs": [],
   "source": [
    "import numpy as np \n",
    "rng = np.random.default_rng(seed=42)\n",
    "\n",
    "import warnings \n",
    "warnings.filterwarnings('ignore')"
   ]
  },
  {
   "cell_type": "markdown",
   "metadata": {},
   "source": [
    "### **Network Class**\n",
    "\n",
    "We shall start writing the network class. The two methods that are indispensable for any ML class are : \n",
    "\n",
    "* `fit` \n",
    "\n",
    "* `predict` \n",
    "\n",
    "Fitting a neural network model requires us to compute **two passes** on the data : \n",
    "\n",
    "1. **forward** propagation \n",
    "\n",
    "2. **backward** propagation \n",
    "\n",
    "We need to start at some place by initializing the network and various hyperparameters and this requires an `init` method. \n",
    "\n",
    "In most of these methods, we would have to take the help of certain helper functions : \n",
    "\n",
    "* **activation** function \n",
    "\n",
    "* **loss** function \n"
   ]
  },
  {
   "cell_type": "markdown",
   "metadata": {},
   "source": [
    "\n",
    "This is the process. But we will work through it in reverse order so that each step of the process doesn't have any forward references : \n",
    "\n",
    "**helpers --> init --> forward --> backward --> fit --> predict**"
   ]
  },
  {
   "cell_type": "markdown",
   "metadata": {},
   "source": [
    "The skeleton of the class is given in the code block that follows. \n",
    "\n",
    "For ease of of exposition, we are going to discuss the methods one at a time and then plug them into the class right at the end. "
   ]
  },
  {
   "cell_type": "code",
   "execution_count": 2,
   "metadata": {},
   "outputs": [],
   "source": [
    "class Network: \n",
    "    def init(self, layers, activation_choice = 'relu', output_choice='softmax', loss_choice='cce'):\n",
    "        pass \n",
    "\n",
    "    def forward(self, X):\n",
    "        pass \n",
    "\n",
    "    def backward(self, y,_y_hat):\n",
    "        pass \n",
    "\n",
    "    def fit(self, X,y, lr=0.01, epochs=100, batch_size=100):\n",
    "        pass\n",
    "\n",
    "    def predict(self,X): \n",
    "        pass"
   ]
  },
  {
   "cell_type": "markdown",
   "metadata": {},
   "source": [
    "### **Activation Functions**\n"
   ]
  },
  {
   "cell_type": "markdown",
   "metadata": {},
   "source": [
    "\n",
    "#### **Hidden Layers**\n",
    "\n",
    "We will look at two activation functions for the hidden layers. Both these functions will be applied function-wise. \n",
    "\n",
    "The input to these functions can **scalars, vectors or matrices**. \n",
    "\n",
    "1. **Sigmoid**\n",
    "\n",
    "\\begin{align}\n",
    "\\text {g}(z) = \\frac{1}{1 + e^{-z}}\n",
    "\\end{align}\n",
    "\n",
    "2. **Relu**\n",
    "\n",
    "\n",
    "\\begin{equation}\n",
    "    \\text {g} (z)=\n",
    "    \\begin{cases}\n",
    "      z, \\text { $z$ $\\ge$ 0}\\\\\n",
    "      0, \\text { $z$ $<$ 0}\n",
    "    \\end{cases}\n",
    "\\end{equation}\n",
    "\n",
    "We also need the derivatives of these functions while computing the backward pass. "
   ]
  },
  {
   "cell_type": "code",
   "execution_count": 3,
   "metadata": {},
   "outputs": [],
   "source": [
    "def sigmoid(z): \n",
    "    return 1 / (1 + np.exp(-z))\n",
    "\n",
    "def grad_sigmoid(z):\n",
    "    return sigmoid(z) * (1 - sigmoid(z))\n",
    "\n",
    "def relu(z):\n",
    "    np.where(z>=0, z ,0)\n",
    "\n",
    "def grad_relu(z):\n",
    "    return np.where(z>=0 ,1,0)\n",
    "\n",
    "hidden_act = {'sigmoid':sigmoid, 'relu':relu}\n",
    "grad_hidden_act = {'sigmoid': grad_sigmoid, 'relu': grad_relu}\n"
   ]
  },
  {
   "cell_type": "markdown",
   "metadata": {},
   "source": [
    "#### **Output Layers**\n",
    "\n",
    "We will look at two activation functions for the **output layer** which are **identity for regression and softmax for classification**. \n",
    "\n",
    "\n",
    "1. **Identity** function (for **regression**)\n",
    "\n",
    "\\begin{align}\n",
    "\\text {g}(z) = \\text {z}\n",
    "\\end{align}\n",
    "\n",
    "2. **Softmax** function (for **classification**)\n",
    "\n",
    "\n",
    "The input to the softmax function will always be a matrix of size n X k, where k is the number of classes. Since we need a probablity distribution for each datapoint , the softmax will be computed row wise.\n",
    "\n",
    "\n",
    "\\begin{equation} \n",
    "\\text {softmax} \\textbf (Z) = \\frac{\\text {exp} \\textbf (Z)}{\\sum \\text {exp}(Z)}\n",
    "\\end{equation}\n",
    "\n",
    "To avoid overflow, we will subtract the row-wise maximum from each row while computing the softmax.\n"
   ]
  },
  {
   "cell_type": "code",
   "execution_count": 4,
   "metadata": {},
   "outputs": [],
   "source": [
    "def identity(z):\n",
    "    return z \n",
    "\n",
    "def softmax(z):\n",
    "    # check if z is a matrix\n",
    "    assert z.ndim == 2\n",
    "\n",
    "    # to prevent overflow, subtract max, row-wise\n",
    "    z -= z.max(axis=1, keepdims = True)\n",
    "\n",
    "    # Compute rowwise softmax\n",
    "    prob = np.exp(z) / np.exp(z).sum(axis=1 ,keepdims = True)\n",
    "\n",
    "    # check if each row is a probablity distribution \n",
    "    assert np.allclose(prob.sum(axis=1), np.ones(z.shape[0]))\n",
    "    return prob"
   ]
  },
  {
   "cell_type": "code",
   "execution_count": 5,
   "metadata": {},
   "outputs": [],
   "source": [
    "output_act = {'softmax':softmax, 'identity':identity}"
   ]
  },
  {
   "cell_type": "markdown",
   "metadata": {},
   "source": [
    "### **Loss function**\n",
    "\n",
    "There are two types of losses we will use, **least square error for regression** and **categorical cross-entropy for classification**.\n",
    "\n",
    "1. **Least Square Error (LSE)**\n",
    "\n",
    "* **y** is a vector of target labels for *n* datapoints. \n",
    "\n",
    "* **ŷ** is the output of the network and corresponds to the predicted labels. \n",
    "\n",
    "\\begin{align}\n",
    "\\text{L} (y, ŷ) = \\frac{1}{2} (ŷ - y)^{\\intercal} (ŷ - y)\n",
    "\\end{align}\n",
    "\n",
    "2. **Categorical Cross-Entropy (CCE)**\n",
    "\n",
    "* **Y** is a matrix of target labels for *n* datapoints. \n",
    "\n",
    "* **Ŷ** is the output of the network and corresponds to the predicted labels. \n",
    "\n",
    "\\begin{align}\n",
    "\\text{L} (Y, Ŷ) = -1_{n}^T (\\text {Y} ⊙ \\text {log} \\text {Ŷ}) 1_k\n",
    "\\end{align}\n",
    "\n",
    "In our implementation, we will assume that the arguments to the loss function are always matrices of size **n X k**. \n",
    "\n",
    "In the case of regression, **k=1**."
   ]
  },
  {
   "cell_type": "code",
   "execution_count": 6,
   "metadata": {},
   "outputs": [],
   "source": [
    "def least_square(y, y_hat):\n",
    "    return 0.5 * np.sum(np.transpose(y-y_hat) * (y-y_hat))\n",
    "\n",
    "def cce(Y, Y_hat):\n",
    "    return -np.sum(Y * np.log(Y_hat))\n",
    "\n",
    "losses = {'least_square':least_square , 'cce':cce}"
   ]
  },
  {
   "cell_type": "markdown",
   "metadata": {},
   "source": [
    "### **Initilization**\n",
    "\n",
    "Here we will look at two parts : \n",
    "\n",
    "* Network architechture \n",
    "\n",
    "* Weight Initialization "
   ]
  },
  {
   "cell_type": "markdown",
   "metadata": {},
   "source": [
    "#### **Network architechture**\n",
    "\n",
    "The following components mainly determine the structure of the network : \n",
    "\n",
    "* number of layers \n",
    "\n",
    "* number of neurons per layer \n",
    "\n",
    "We will use *l* to index the layers. The network has *L* layers in all. \n",
    "\n",
    "* *l* = 0 : **Input Layer** \n",
    "\n",
    "* 1 <= *l* <= *L*-1 : **Hidden Layers** \n",
    "\n",
    "* *l* = *L* : **Output Layer** \n",
    "\n",
    "We shall represent the number of layers and the neurons using a list layers. The variable *L* will never make an explicit appearance anywhere, instead we will use **range(len(layers))** to iterate  through the layers.\n",
    "\n",
    "One useful task is to **compute the total number of parameters in the network**. "
   ]
  },
  {
   "cell_type": "code",
   "execution_count": 7,
   "metadata": {},
   "outputs": [],
   "source": [
    "def count_params(layers):\n",
    "    num_params = 0 \n",
    "    for l in range(1 ,len(layers)): \n",
    "        num_weights = layers[l-1] * layers[l]\n",
    "        num_biases = layers[l]\n",
    "        num_params += (num_weights + num_biases)\n",
    "    return num_params\n",
    "\n",
    "# Test count_params \n",
    "assert count_params([64,5,10]) == (64 * 5 + 5) + (5 * 10 + 10)"
   ]
  },
  {
   "cell_type": "markdown",
   "metadata": {},
   "source": [
    "### **Parameter initialization**\n",
    "\n",
    "The weight-matrix at layer *l* has a size of `layers[l - 1]` X `layers[l]`.\n",
    "\n",
    "The bias at layer *l* has a size of `layers[l]`.\n",
    "\n",
    "We will store all these weights in a list `w` of the same size as `layers`. `W[l]` would correspond to **W_l**.\n",
    "\n",
    "Since there are *L* weight matrices, W[0] would be set to `None`. Recall that the size of the list is `L+1`. A similar list wolud be required for `b`."
   ]
  },
  {
   "cell_type": "markdown",
   "metadata": {},
   "source": [
    "To make the gradient descent update simpler, it will be useful to have a **master vector, θ**, that has a reference to all the parameters in the network. \n",
    "\n",
    "We will do the same for the **gradient θ(x)**. So, **whenever θ is updated, the weights W1 will also be updated** and vice-versa."
   ]
  },
  {
   "cell_type": "markdown",
   "metadata": {},
   "source": [
    "One way to do this is to **first start with the master vector and then reshape chunks of it into the dimensions of a weight matrix**. \n",
    "\n",
    "Reshaping an array usually returns a view of an array and not a copy. \n",
    "\n",
    "To understand this function better, refer to Numpy's documentation on \"[**Copies and Views**](https://numpy.org/doc/stable/user/basics.copies.html)\". \n",
    "\n"
   ]
  },
  {
   "cell_type": "code",
   "execution_count": 8,
   "metadata": {},
   "outputs": [],
   "source": [
    "def init_params(layers):\n",
    "    # number of params in the n/w\n",
    "    num_params = count_params(layers)\n",
    "\n",
    "    # weights\n",
    "    W = [None for _ in range(len(layers))]\n",
    "    # biases    \n",
    "    b = [None for _ in range(len(layers))]\n",
    "    # gradient loss w.r.t weights    \n",
    "    gW = [None for _ in range(len(layers))]\n",
    "    # gradient loss w.r.t biases\n",
    "    gb = [None for _ in range(len(layers))]\n",
    "\n",
    "    # sample from N(0,1) to initialize the params \n",
    "    theta = rng.standard_normal(num_params)\n",
    "    g_theta = np.zeros(num_params)\n",
    "\n",
    "    # (start, end) specify the portion of theta that corresponds to the prameter W_l and b_l. \n",
    "    start, end = 0 ,0\n",
    "    for l in range(1, len(layers)):\n",
    "        # reshape the section (start, end) and assign it to W[l]\n",
    "        end = start + layers[l-1] * layers[l]\n",
    "        W[l] = theta[start:end].reshape(layers[l-1], layers[l])\n",
    "        gW[l] = g_theta[start:end].reshape(layers[l-1], layers[l])\n",
    "\n",
    "        # reshape the section (start, end) and assign it to b[l]\n",
    "        start, end = end, end + layers[l]\n",
    "        b[l] = theta[start:end].reshape(layers[l])\n",
    "        gb[l] = g_theta[start:end].reshape(layers[l])\n",
    "        start = end\n",
    "\n",
    "    return theta, g_theta, W, b, gW, gb"
   ]
  },
  {
   "cell_type": "markdown",
   "metadata": {},
   "source": [
    "Test init params"
   ]
  },
  {
   "cell_type": "code",
   "execution_count": 9,
   "metadata": {},
   "outputs": [],
   "source": [
    "layers = [64, 32, 10]\n",
    "params = init_params([64, 32, 10])\n",
    "for l in range(1, len(layers)):\n",
    "    # check if the weights are views of the master vector \n",
    "    assert params[2][1].base is params[0]\n",
    "    assert params[3][1].base is params[0]\n",
    "    assert params[4][1].base is params[1]\n",
    "    assert params[5][1].base is params[1]"
   ]
  },
  {
   "cell_type": "markdown",
   "metadata": {},
   "source": [
    "We are now ready to initialize the network."
   ]
  },
  {
   "cell_type": "code",
   "execution_count": 10,
   "metadata": {},
   "outputs": [],
   "source": [
    "def init(self, layers, activation_choice='relu', output_choice='softmax',loss_choice='cce'):\n",
    "    self.layers = layers \n",
    "\n",
    "    # Parameters and gradients \n",
    "    self.theta, self.g_theta, \\\n",
    "    self.W, self.b, \\\n",
    "    self.gW, self.gb = init_params(layers)\n",
    "\n",
    "    #activation functions \n",
    "    self.ghid = hidden_act[activation_choice]\n",
    "    self.grad_ghid = grad_hidden_act[activation_choice]\n",
    "    self.gout = output_act[output_choice]\n",
    "\n",
    "    # loss \n",
    "    self.loss = losses[loss_choice]"
   ]
  },
  {
   "cell_type": "markdown",
   "metadata": {},
   "source": [
    "### **Forward Pass**\n",
    "\n",
    "The forward algorithm is as follows : \n",
    "\n",
    "First we initialize **$A_0$ = $X$**. Then, we iteratively compute the pre activations and the activations for every layer $l$ using the equations given below : \n",
    "\n",
    "\\begin{align}\n",
    "Z_1 = A_{l-1}W_1 + b_1\n",
    "\\end{align}\n",
    "\n",
    "\\begin{align}\n",
    "A_l = g(Z_1)\n",
    "\\end{align}\n",
    "\n",
    "Finally the network's output is given by : $ŷ$ = $A_L$"
   ]
  },
  {
   "cell_type": "code",
   "execution_count": 11,
   "metadata": {},
   "outputs": [],
   "source": [
    "def forward(self,X):\n",
    "    self.z = [None for _ in range(len(self.layers))]\n",
    "    self.A = [None for _ in range(len(self.layers))]\n",
    "    self.A[0] = X\n",
    "    self.z[0] = X\n",
    "\n",
    "    for l in range(1, len(self.layers)):\n",
    "        self.z[l] = self.A[l - 1] @ self.W[l] + self.b[l]\n",
    "        self.A[l] = self.ghid(self.z[l])\n",
    "\n",
    "    self.A[-1] = self.gout(self.z[-1])\n",
    "    return self.A[-1]"
   ]
  },
  {
   "cell_type": "markdown",
   "metadata": {},
   "source": [
    "### **Backward Pass**\n",
    "\n",
    "The backward pass algorithm is as follows : \n",
    "\n",
    "We first initialize the gradients of the pre-activation at layer $L$ as $Z_L^{(g)}$ = $Ŷ$ - $Y$.\n",
    "\n",
    "It is fortunate that this true for both regression and classification. \n",
    "\n",
    "The other gradients can be iteratively updated using these equations. \n",
    "\n",
    "\\begin{align}\n",
    "W_l^{(g)} = A_{l-1}^{\\intercal} . Z_l^{(g)}\n",
    "\\end{align}\n",
    "\n",
    "\\begin{align}\n",
    "b_l^{(g)} = {Z_l^{(g)}}^{\\intercal} 1_a\n",
    "\\end{align}\n",
    "\n",
    "\\begin{align}\n",
    "A_{l - 1}^{(g)} = Z_{l}^{(g)} .{ W_l}^{\\intercal}\n",
    "\\end{align}\n",
    "\n",
    "\\begin{align}\n",
    "Z_{l - 1}^{(g)} = A_{l - 1}^{(g)} ⊙ g' (Z_{l - 1})\n",
    "\\end{align}\n",
    "\n",
    "An important point to note is the use of `self.gW[l][:, :]` , while updating the gradient of the weights and not `self.gW[l] . self.gW[l][:, :] ` does an in-place update, thus maintaining a link with the master params, namely `self.theta`.\n"
   ]
  },
  {
   "cell_type": "code",
   "execution_count": 12,
   "metadata": {},
   "outputs": [],
   "source": [
    "def backward(self, Y, Y_hat):\n",
    "    gZ = [None for _ in range(len(self.layers))]\n",
    "    gA= [None for _ in range(len(self.layers))]\n",
    "    gZ[-1] = Y_hat - Y\n",
    "\n",
    "    for l in range(len(self.layers) - 1, 0, -1):\n",
    "        self.gW[l][:, :] = self.A[l - 1].T @ gZ[l]\n",
    "        self.gb[l][:] = np.sum(gZ[l].T, axis=1)\n",
    "        gA[l - 1] = gZ[l] @ self.W[l].T\n",
    "        gZ[l - 1] = gA[l - 1] * self.grad_ghid(self.z[l - 1])"
   ]
  },
  {
   "cell_type": "markdown",
   "metadata": {},
   "source": [
    "### **Fit**\n",
    "\n",
    "We now have all the ingredient sto fit a model using gradient descent. We will use **mini-batch gradient descent**. \n",
    "\n",
    "The **batch size**, **learning rate** and the **number of epochs** will be the hyperparameters."
   ]
  },
  {
   "cell_type": "code",
   "execution_count": 13,
   "metadata": {},
   "outputs": [],
   "source": [
    "def fit(self, X,Y,lr=0.01, epochs=100, batch_size=100):\n",
    "    self.losses = []\n",
    "\n",
    "    for epoch in range(epochs):\n",
    "        # compute loss \n",
    "        Y_hat = self.forward(X)\n",
    "        self.losses.append(self.loss(Y, Y_hat))\n",
    "\n",
    "        # shuffle the dataset \n",
    "        indices = np.arange(X.shape[0])\n",
    "\n",
    "        # use rng.shuffle to maintain reproductability \n",
    "        rng.shuffle(indices)\n",
    "        X, Y = X[indices], Y[indices]\n",
    "\n",
    "        # number of batches \n",
    "        num_batches = X.shape[0] // batch_size \n",
    "\n",
    "        # mini batch GD \n",
    "        for b in range(num_batches):\n",
    "            Xb = X[b * batch_size: (b + 1) * batch_size]\n",
    "            Yb = Y[b * batch_size: (b + 1) * batch_size]\n",
    "\n",
    "            # compute the predictions for this batch \n",
    "            Y_hat_b = self.forward(Xb)\n",
    "            # compute the gradients for this batch \n",
    "            self.backward(Yb, Y_hat_b)\n",
    "            # update the gradients of all parameters \n",
    "            # -= is used for in-place update \n",
    "            self.theta -= lr * self.g_theta"
   ]
  },
  {
   "cell_type": "markdown",
   "metadata": {},
   "source": [
    "### **Predict**\n",
    "\n",
    "Finally, we can use a trained model to predict the labels. "
   ]
  },
  {
   "cell_type": "code",
   "execution_count": 14,
   "metadata": {},
   "outputs": [],
   "source": [
    "def predict(self, X):\n",
    "    Y_hat = self.forward(X)\n",
    "    # for regression \n",
    "    if X.shape[-1] == 1:\n",
    "        return Y_hat\n",
    "    # for classification \n",
    "    else : \n",
    "        return np.argmax(Y_hat, axis=1)"
   ]
  },
  {
   "cell_type": "markdown",
   "metadata": {},
   "source": [
    "### **Plugging in all functionalities**\n",
    "\n",
    "We can now plug all of this into our class. "
   ]
  },
  {
   "cell_type": "code",
   "execution_count": 15,
   "metadata": {},
   "outputs": [],
   "source": [
    "Network.__init__ = init \n",
    "Network.forward = forward \n",
    "Network.backward = backward \n",
    "Network.fit = fit \n",
    "Network.predict = predict"
   ]
  },
  {
   "cell_type": "markdown",
   "metadata": {},
   "source": [
    "### **Dealing with Data**\n",
    "\n",
    "We will import the digits dataset from `sklearn` class. "
   ]
  },
  {
   "cell_type": "code",
   "execution_count": 16,
   "metadata": {},
   "outputs": [],
   "source": [
    "from sklearn.datasets import load_digits\n",
    "digits = load_digits()"
   ]
  },
  {
   "cell_type": "code",
   "execution_count": 17,
   "metadata": {},
   "outputs": [
    {
     "data": {
      "text/plain": [
       "((1797, 8, 8), (1797,))"
      ]
     },
     "execution_count": 17,
     "metadata": {},
     "output_type": "execute_result"
    }
   ],
   "source": [
    "X = digits.images\n",
    "y = digits.target\n",
    "\n",
    "X.shape, y.shape"
   ]
  },
  {
   "cell_type": "markdown",
   "metadata": {},
   "source": [
    "##### **Normalize the data so that all features lie in (0,1).**"
   ]
  },
  {
   "cell_type": "code",
   "execution_count": 18,
   "metadata": {},
   "outputs": [],
   "source": [
    "X /= np.max(X)"
   ]
  },
  {
   "cell_type": "markdown",
   "metadata": {},
   "source": [
    "##### **Plotting the images.**"
   ]
  },
  {
   "cell_type": "code",
   "execution_count": 19,
   "metadata": {},
   "outputs": [],
   "source": [
    "import matplotlib.pyplot as plt \n",
    "import seaborn as sns; sns.set()"
   ]
  },
  {
   "cell_type": "code",
   "execution_count": 20,
   "metadata": {},
   "outputs": [
    {
     "data": {
      "image/png": "[encoded data removed]",
      "text/plain": [
       "<Figure size 432x288 with 1 Axes>"
      ]
     },
     "metadata": {},
     "output_type": "display_data"
    }
   ],
   "source": [
    "plt.imshow(X[0])\n",
    "plt.title(f'Sample image with label {y[0]}')\n",
    "plt.show()"
   ]
  },
  {
   "cell_type": "markdown",
   "metadata": {},
   "source": [
    "##### **Reshaping Input.**"
   ]
  },
  {
   "cell_type": "code",
   "execution_count": 21,
   "metadata": {},
   "outputs": [
    {
     "data": {
      "text/plain": [
       "(1797, 64)"
      ]
     },
     "execution_count": 21,
     "metadata": {},
     "output_type": "execute_result"
    }
   ],
   "source": [
    "X = X.reshape(-1, 64)\n",
    "X.shape"
   ]
  },
  {
   "cell_type": "code",
   "execution_count": 22,
   "metadata": {},
   "outputs": [],
   "source": [
    "# input size\n",
    "isize = X.shape[-1]\n",
    "# output size\n",
    "osize = len(np.unique(y))"
   ]
  },
  {
   "cell_type": "markdown",
   "metadata": {},
   "source": [
    "##### **Dealing with one hot encoding**"
   ]
  },
  {
   "cell_type": "code",
   "execution_count": 23,
   "metadata": {},
   "outputs": [],
   "source": [
    "def one_hot_encoder(y):\n",
    "    k = len(np.unique(y))\n",
    "    return np.eye(k)[y]"
   ]
  },
  {
   "cell_type": "markdown",
   "metadata": {},
   "source": [
    "##### **Train test split**"
   ]
  },
  {
   "cell_type": "code",
   "execution_count": 24,
   "metadata": {},
   "outputs": [
    {
     "name": "stdout",
     "output_type": "stream",
     "text": [
      "Training data shape :  (1078, 64) (1078, 10)\n",
      "Testing data shape :  (719, 64) (719, 10)\n"
     ]
    }
   ],
   "source": [
    "from sklearn.model_selection import train_test_split\n",
    "X_train, X_test, y_train, y_test = train_test_split(X, y, test_size=0.4, random_state=42)\n",
    "\n",
    "y_train = one_hot_encoder(y_train)\n",
    "y_test = one_hot_encoder(y_test)\n",
    "\n",
    "print('Training data shape : ', X_train.shape, y_train.shape)\n",
    "print('Testing data shape : ', X_test.shape, y_test.shape)\n"
   ]
  },
  {
   "cell_type": "markdown",
   "metadata": {},
   "source": [
    "##### **Applying Fit method.**"
   ]
  },
  {
   "cell_type": "code",
   "execution_count": 25,
   "metadata": {},
   "outputs": [],
   "source": [
    "layers = [isize, 32, osize]\n",
    "network = Network(layers, activation_choice='sigmoid', output_choice='softmax',loss_choice='cce')\n",
    "\n",
    "# fit the network on the data \n",
    "epochs = 50 \n",
    "network.fit(X_train, y_train, lr=0.01, epochs=epochs, batch_size=10)\n"
   ]
  },
  {
   "cell_type": "markdown",
   "metadata": {},
   "source": [
    "##### **Plotting the losses.** "
   ]
  },
  {
   "cell_type": "code",
   "execution_count": 26,
   "metadata": {},
   "outputs": [
    {
     "data": {
      "image/png": "[encoded data removed]",
      "text/plain": [
       "<Figure size 576x576 with 1 Axes>"
      ]
     },
     "metadata": {},
     "output_type": "display_data"
    }
   ],
   "source": [
    "plt.figure(figsize=(8,8))\n",
    "plt.plot(range(epochs), network.losses)\n",
    "plt.title('Loss vs Epochs')\n",
    "plt.xlabel('Epochs')\n",
    "plt.ylabel('CCE Loss')\n",
    "plt.show()"
   ]
  },
  {
   "cell_type": "markdown",
   "metadata": {},
   "source": [
    "#### **Computing the accuracy.**"
   ]
  },
  {
   "cell_type": "code",
   "execution_count": 27,
   "metadata": {},
   "outputs": [
    {
     "name": "stdout",
     "output_type": "stream",
     "text": [
      "Test data size = 719\n",
      "Number of parameters = 2410\n"
     ]
    }
   ],
   "source": [
    "print(f'Test data size = {X_test.shape[0]}')\n",
    "print(f'Number of parameters = {count_params(layers)}')"
   ]
  },
  {
   "cell_type": "code",
   "execution_count": 28,
   "metadata": {},
   "outputs": [
    {
     "name": "stdout",
     "output_type": "stream",
     "text": [
      "Accuracy = 0.00\n"
     ]
    }
   ],
   "source": [
    "accuracy = np.sum(network.predict(X_test) == y_test) / X_test.shape[0] * 100\n",
    "print(f'Accuracy = {accuracy:.2f}')"
   ]
  }
 ],
 "metadata": {
  "kernelspec": {
   "display_name": "Python 3.9.7 ('tensorflow')",
   "language": "python",
   "name": "python3"
  },
  "language_info": {
   "codemirror_mode": {
    "name": "ipython",
    "version": 3
   },
   "file_extension": ".py",
   "mimetype": "text/x-python",
   "name": "python",
   "nbconvert_exporter": "python",
   "pygments_lexer": "ipython3",
   "version": "3.9.7"
  },
  "orig_nbformat": 4,
  "vscode": {
   "interpreter": {
    "hash": "32f02dc107888b055323539767db1f9cf579f03b0ed3a3ace7986ed2d38433ec"
   }
  }
 },
 "nbformat": 4,
 "nbformat_minor": 2
}
