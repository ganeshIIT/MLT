{
 "cells": [
  {
   "cell_type": "markdown",
   "metadata": {},
   "source": [
    "### **Random Forests** \n",
    "\n",
    "Random Forest is a **bagging** technique that **trains multiple decision trees** with **minor modification** in split criterion.\n",
    "\n",
    "![](Images/rf_dt.png)\n",
    "\n",
    "In case of decision trees, we train a single decision tree. \n",
    "\n",
    "In random forest we train multiple decision trees on different training sets obtained through bagging (aka Boostrap Agreggation)."
   ]
  },
  {
   "cell_type": "markdown",
   "metadata": {},
   "source": [
    "### **Algorithm**\n",
    "**Input**:\n",
    "\n",
    "1. The training data $D$ with shape $(n,m)$, say $D_1,D_2,\\ldots ,D_q$ with replacement from $D$.\n",
    "\n",
    "2. In each of the datasets $D_j$, select $u$ out of $m$ where $u \\le m$ features before each split and train a full decision tree $h_j(\\mathbf x)$\n",
    "\n",
    "3. The final predictor : \n",
    "\n",
    "  * For regression, an average output from $q$ regressors is assigned to the new example:\n",
    "  \n",
    "  $$ h(\\mathbf x) = \\frac {1}{q} \\sum_{j=1}^q h_j(\\mathbf x) $$\n",
    "\n",
    "  * For classification, a majority voting is taken and the class label with the maximum number of votes is assigned to the new example."
   ]
  },
  {
   "cell_type": "markdown",
   "metadata": {},
   "source": [
    "### **Implementation**\n",
    "\n",
    "In order to keep the implementation focussed to main components of random forest, we make use of `DecisionTreeClassifier` from scikit-learn library for the decision tree components."
   ]
  },
  {
   "cell_type": "code",
   "execution_count": 1,
   "metadata": {},
   "outputs": [],
   "source": [
    "import numpy as np\n",
    "import pandas as pd\n",
    "import matplotlib.pyplot as plt\n",
    "import seaborn as sns\n",
    "\n",
    "from collections import Counter\n",
    "from sklearn.tree import DecisionTreeClassifier"
   ]
  },
  {
   "cell_type": "markdown",
   "metadata": {},
   "source": [
    "We will build the code component-wise and finally combine them into a `RandomForest` class."
   ]
  },
  {
   "cell_type": "markdown",
   "metadata": {},
   "source": [
    "#### **Bagging**\n",
    "\n",
    "We define a function for bagging - creating boostrap samples $D_1,D_2,\\ldots,D_q$ from the original dataset $D:$\n",
    "\n",
    "The **key step** is : \n",
    "\n",
    "`np.random.choice` with **size=n_samples** and **replace=True** \n",
    "\n",
    "It ensures that the boostrapped sample has the same number of samples as the original dataset and it is obtained by sampling with replacement."
   ]
  },
  {
   "cell_type": "code",
   "execution_count": 2,
   "metadata": {},
   "outputs": [],
   "source": [
    "def bag(X, y):\n",
    "    # Counts the number or rows in the feature matrix\n",
    "    n_samples = X.shape[0]\n",
    "\n",
    "    # Generates a random sample from the  given input.\n",
    "    indices = np.random.choice(n_samples, size=n_samples, replace=True, random_state=1)\n",
    "\n",
    "    # Note that the second argument size has been set to the size of the original sample dataset and replacement has been set to True\n",
    "\n",
    "    return X[indices], y[indices]"
   ]
  },
  {
   "cell_type": "markdown",
   "metadata": {},
   "source": [
    "#### **Majority Voting**\n",
    "Code `up` `most_common_label` function for obtaining majority vote for  class labels."
   ]
  },
  {
   "cell_type": "code",
   "execution_count": 3,
   "metadata": {},
   "outputs": [],
   "source": [
    "def most_common_label(y):\n",
    "    counter = Counter(y)\n",
    "    most_common = counter.most_common(1)[0][0]\n",
    "    return most_common"
   ]
  },
  {
   "cell_type": "code",
   "execution_count": 4,
   "metadata": {},
   "outputs": [
    {
     "name": "stdout",
     "output_type": "stream",
     "text": [
      "Counter({3: 5, 2: 4, 1: 3, 0: 2})\n",
      "3\n"
     ]
    }
   ],
   "source": [
    "y = [1, 1, 1, 0, 0, 2, 2, 2, 2, 3, 3, 3, 3, 3]\n",
    "\n",
    "print(Counter(y))\n",
    "print(Counter(y).most_common(2)[0][0])"
   ]
  },
  {
   "cell_type": "markdown",
   "metadata": {},
   "source": [
    "### **Random forest class**\n",
    "\n",
    "We create a `RandomForest` class with the following default parameters :\n",
    "\n",
    "* number of trees = 10\n",
    "\n",
    "* minimum number of samples = 2\n",
    "\n",
    "* maximum depth = 100 \n",
    "\n",
    "The `max_features` is a configurable parameter that can be set by the user."
   ]
  },
  {
   "cell_type": "code",
   "execution_count": 5,
   "metadata": {},
   "outputs": [],
   "source": [
    "class RandomForest:\n",
    "    def __init__(self, n_trees=10, min_samples_split=2, max_depth=100, max_features=None):\n",
    "        # hyperparameter for fixing number of trees to be generated\n",
    "        self.n_trees = n_trees  \n",
    "\n",
    "        # min no of samples required for split\n",
    "        self.min_samples_split = min_samples_split\n",
    "\n",
    "        # maximum depth of decision tree\n",
    "        self.max_depth = max_depth \n",
    "\n",
    "        # maximum no of features to be considered\n",
    "        self.max_features = max_features  \n",
    "        self.trees = []"
   ]
  },
  {
   "cell_type": "markdown",
   "metadata": {},
   "source": [
    "### **Training Random Forest**\n",
    "We implement the `fit` method.\n",
    "\n",
    "* Initialize an empty list of decision tree classifiers.\n",
    "\n",
    "* In the `for` loop, we train each decision tree with parameters set from random forest on a boostrapped sample obtained through the `bag` function."
   ]
  },
  {
   "cell_type": "code",
   "execution_count": 6,
   "metadata": {},
   "outputs": [],
   "source": [
    "def fit(self, X, y):\n",
    "    # Empty array of trees which gets filled in during operations.\n",
    "    self.trees = []\n",
    "\n",
    "    # we are using underscore we are just repeating the operations.\n",
    "    for _ in range(self.n_trees):\n",
    "        tree = DecisionTreeClassifier(\n",
    "            min_samples_split=self.min_samples_split,\n",
    "            max_depth=self.max_depth,\n",
    "            max_features=self.max_features)\n",
    "\n",
    "    X_sample, y_sample = bag(X, y)\n",
    "    tree.fit(X_sample, y_sample)\n",
    "    # we will append each of these tree.\n",
    "    self.trees.append(tree)  "
   ]
  },
  {
   "cell_type": "markdown",
   "metadata": {},
   "source": [
    "### **Inference**\n",
    "Let's implement `predict` function : \n",
    "\n",
    "Here, we need to note that each of the trees will give predictions for all the individual rows of the input data.\n",
    "\n",
    "**For example :** If we have a random forest with 3 trees and 2 classes 0 & 1, let's assume the prediciton for 5 samples is as follows : \n",
    "\n",
    "* Tree 1 gives 00111\n",
    "\n",
    "* Tree 2 gives 11001\n",
    "\n",
    "* Tree 3 gives 10101\n",
    "\n",
    "We need to aggregate the output for the respective samples and take an average / majority vote. For this, we will use `np.swapaxes`."
   ]
  },
  {
   "cell_type": "code",
   "execution_count": 7,
   "metadata": {},
   "outputs": [],
   "source": [
    "def predict(self, X):\n",
    "    tree_predict = np.array([tree.predict(X) for tree in self.trees])\n",
    "\n",
    "    # each of the trees will give out predictions\n",
    "    tree_predict = np.swapaxes(tree_predict, 0, 1)\n",
    "\n",
    "    y_pred = [most_common_label(tree_pred) for tree_pred in tree_predict]\n",
    "    return np.array(y_pred)"
   ]
  },
  {
   "cell_type": "markdown",
   "metadata": {},
   "source": [
    "### **Combined all Components**"
   ]
  },
  {
   "cell_type": "code",
   "execution_count": 8,
   "metadata": {},
   "outputs": [],
   "source": [
    "def bag(X, y):\n",
    "    n_samples = X.shape[0]\n",
    "    indices = np.random.choice(n_samples, size=n_samples, replace=True)\n",
    "    return X[indices], y[indices]\n",
    "\n",
    "\n",
    "def most_common_label(y):\n",
    "  counter = Counter(y)\n",
    "  most_common = counter.most_common(1)[0][0]\n",
    "  return most_common\n",
    "\n",
    "\n",
    "class RandomForest:\n",
    "  def __init__(self, n_trees=10, min_samples_split=2, max_depth=100, max_features=None):\n",
    "    self.n_trees = n_trees  \n",
    "    self.min_samples_split = min_samples_split\n",
    "    self.max_depth = max_depth  \n",
    "    self.max_features = max_features \n",
    "    self.trees = []\n",
    "\n",
    "  def fit(self, X, y):\n",
    "    self.trees = []\n",
    "\n",
    "    for _ in range(self.n_trees):\n",
    "      tree = DecisionTreeClassifier(  \n",
    "          min_samples_split=self.min_samples_split,\n",
    "          max_depth=self.max_depth,\n",
    "          max_features=self.max_features)\n",
    "\n",
    "      X_sample, y_sample = bag(X, y)\n",
    "      tree.fit(X_sample, y_sample)\n",
    "      self.trees.append(tree)  \n",
    "\n",
    "  def predict(self, X):\n",
    "    tree_predict = np.array([tree.predict(X) for tree in self.trees])\n",
    "    tree_predict = np.swapaxes(tree_predict, 0, 1)\n",
    "\n",
    "    y_pred = [most_common_label(tree_pred) for tree_pred in tree_predict]\n",
    "    return np.array(y_pred)"
   ]
  },
  {
   "cell_type": "markdown",
   "metadata": {},
   "source": [
    "### **Demonstration**\n",
    "\n",
    "Let us demonstrate our implementation of Random Forest on a real world dataset."
   ]
  },
  {
   "cell_type": "code",
   "execution_count": 9,
   "metadata": {},
   "outputs": [],
   "source": [
    "from sklearn.datasets import load_breast_cancer\n",
    "from sklearn.model_selection import train_test_split\n",
    "\n",
    "def accuracy(y_true, y_pred):\n",
    "    accuracy = np.sum(y_true == y_pred)/len(y_true)\n",
    "    return accuracy"
   ]
  },
  {
   "cell_type": "code",
   "execution_count": 10,
   "metadata": {},
   "outputs": [],
   "source": [
    "data = load_breast_cancer()\n",
    "X = data.data\n",
    "y = data.target\n",
    "\n",
    "X_train, X_test, y_train, y_test = train_test_split(X, y, test_size=0.2, random_state=1)\n"
   ]
  },
  {
   "cell_type": "code",
   "execution_count": 11,
   "metadata": {},
   "outputs": [],
   "source": [
    "clf = RandomForest(n_trees=10, max_depth=10, max_features='sqrt')\n",
    "clf.fit(X_train, y_train)"
   ]
  },
  {
   "cell_type": "code",
   "execution_count": 12,
   "metadata": {},
   "outputs": [
    {
     "name": "stdout",
     "output_type": "stream",
     "text": [
      "Accuracy: 0.9473684210526315\n"
     ]
    }
   ],
   "source": [
    "y_pred = clf.predict(X_test)\n",
    "acc = accuracy(y_test, y_pred)\n",
    "\n",
    "print(\"Accuracy:\", acc)\n"
   ]
  },
  {
   "cell_type": "markdown",
   "metadata": {},
   "source": [
    "Let us look at the confusion matrix and classification report on the test set."
   ]
  },
  {
   "cell_type": "code",
   "execution_count": 13,
   "metadata": {},
   "outputs": [
    {
     "data": {
      "image/png": "[encoded data removed]",
      "text/plain": [
       "<Figure size 720x504 with 2 Axes>"
      ]
     },
     "metadata": {
      "needs_background": "light"
     },
     "output_type": "display_data"
    }
   ],
   "source": [
    "from sklearn.metrics import confusion_matrix\n",
    "\n",
    "plt.figure(figsize=(10, 7))\n",
    "sns.heatmap(confusion_matrix(y_test, y_pred), annot=True)\n",
    "plt.xlabel('Predicted Label')\n",
    "plt.ylabel('Actual Label')\n",
    "plt.show()"
   ]
  },
  {
   "cell_type": "code",
   "execution_count": 14,
   "metadata": {},
   "outputs": [
    {
     "name": "stdout",
     "output_type": "stream",
     "text": [
      "              precision    recall  f1-score   support\n",
      "\n",
      "           0       1.00      0.86      0.92        42\n",
      "           1       0.92      1.00      0.96        72\n",
      "\n",
      "    accuracy                           0.95       114\n",
      "   macro avg       0.96      0.93      0.94       114\n",
      "weighted avg       0.95      0.95      0.95       114\n",
      "\n"
     ]
    }
   ],
   "source": [
    "from sklearn.metrics import classification_report \n",
    "print(classification_report(y_test,y_pred)) "
   ]
  }
 ],
 "metadata": {
  "kernelspec": {
   "display_name": "Python 3.9.7 ('tensorflow')",
   "language": "python",
   "name": "python3"
  },
  "language_info": {
   "codemirror_mode": {
    "name": "ipython",
    "version": 3
   },
   "file_extension": ".py",
   "mimetype": "text/x-python",
   "name": "python",
   "nbconvert_exporter": "python",
   "pygments_lexer": "ipython3",
   "version": "3.9.7"
  },
  "orig_nbformat": 4,
  "vscode": {
   "interpreter": {
    "hash": "32f02dc107888b055323539767db1f9cf579f03b0ed3a3ace7986ed2d38433ec"
   }
  }
 },
 "nbformat": 4,
 "nbformat_minor": 2
}
