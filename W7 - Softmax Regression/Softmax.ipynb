{
 "cells": [
  {
   "cell_type": "markdown",
   "metadata": {},
   "source": [
    "## **Softmax Regression**\n",
    "\n",
    "* Softmax regression is a **classification** method ,which **generalizes Logistic Regression**. \n",
    "\n",
    "* It is used for **multi-clss clssification**.\n",
    "\n",
    "Working of softmax regression is depicted in the folllowing figure : \n",
    "* For $k$ class labels, the input feature vector goes through $k$ **different linear combinations** ,one per each class label.\n",
    "\n",
    "* These $k$ values are passed through the **softmax activation**, which returns a **probability vector** containing $k$ components.\n",
    "    * The $i-th$ component directly denotes **probability** of an input feature belonging to class label $i$.\n",
    "\n",
    "The softmax classifier is trained with a **categorical cross- entropy** loss, which is computed based on the actual labels and predicted labels.\n",
    "\n",
    "Note that the labels are represented with **one-hot encoding**.\n",
    "\n",
    "![alt text](Images/softmax-working.png)\n",
    "\n",
    "<!-- ![](https://sebastianraschka.com/images/faq/softmax_regression/logistic_regression_schematic.png) -->\n",
    "\n",
    "We will list down five components of the softmax regression classifier :\n",
    "\n",
    "* Training Data \n",
    "\n",
    "* Model \n",
    "\n",
    "* Loss Function \n",
    "\n",
    "* Optimization procedure \n",
    "\n",
    "* Model Evaluation "
   ]
  },
  {
   "cell_type": "markdown",
   "metadata": {},
   "source": [
    "### *Importing Libraries*"
   ]
  },
  {
   "cell_type": "code",
   "execution_count": 1,
   "metadata": {},
   "outputs": [],
   "source": [
    "import numpy as np \n",
    "from keras.datasets import mnist \n",
    "import matplotlib.pyplot as plt "
   ]
  },
  {
   "cell_type": "markdown",
   "metadata": {},
   "source": [
    "### **Training Data** \n",
    "The training data contains : \n",
    "* Feature matrix \n",
    "\n",
    "* Label (one of $k$ labels)\n",
    "\n",
    "For the purpose of illustration, we will use **MNIST hand-written digit** dataset.\n",
    "\n",
    "* Each input is in the form of a 28x28 image of a single-handwritten digit.\n",
    "\n",
    "* Each image is labeled with digit present in it. \n",
    "\n",
    "There are 10 digits in all and hence 10 total classes : [0,1,2 .... ,9]"
   ]
  },
  {
   "cell_type": "markdown",
   "metadata": {},
   "source": [
    "Lets load the dataset and qucikly examine it."
   ]
  },
  {
   "cell_type": "code",
   "execution_count": 2,
   "metadata": {},
   "outputs": [],
   "source": [
    "(X_train ,y_train) ,(X_test ,y_test) = mnist.load_data()"
   ]
  },
  {
   "cell_type": "code",
   "execution_count": 3,
   "metadata": {},
   "outputs": [
    {
     "name": "stdout",
     "output_type": "stream",
     "text": [
      "(60000, 28, 28) (60000,)\n",
      "(10000, 28, 28) (10000,)\n"
     ]
    }
   ],
   "source": [
    "print(X_train.shape ,y_train.shape)\n",
    "print(X_test.shape ,y_test.shape)"
   ]
  },
  {
   "cell_type": "code",
   "execution_count": 4,
   "metadata": {},
   "outputs": [
    {
     "data": {
      "image/png": "[encoded data removed]",
      "text/plain": [
       "<Figure size 864x576 with 15 Axes>"
      ]
     },
     "metadata": {
      "needs_background": "light"
     },
     "output_type": "display_data"
    }
   ],
   "source": [
    "plt.figure(figsize=(12,8))\n",
    "for i in range(15):\n",
    "    plt.subplot(3,5,i+1)\n",
    "    plt.imshow(X_train[i] ,cmap='gray')\n",
    "    plt.title('Label (y): {}'.format(y_train[i]))\n",
    "    plt.axis('off')\n",
    "\n",
    "plt.show()"
   ]
  },
  {
   "cell_type": "markdown",
   "metadata": {},
   "source": [
    "Observe that each image is a grayscale image with 28x28 pixels."
   ]
  },
  {
   "cell_type": "markdown",
   "metadata": {},
   "source": [
    "We flatten each input image into a vector of length 794 (28x28) and these 784 numbers represent the intensity at each pixel in a image."
   ]
  },
  {
   "cell_type": "code",
   "execution_count": 5,
   "metadata": {},
   "outputs": [
    {
     "name": "stdout",
     "output_type": "stream",
     "text": [
      "(60000, 784) (10000, 784)\n"
     ]
    }
   ],
   "source": [
    "X_train = X_train.reshape(X_train.shape[0] ,28*28)\n",
    "X_test = X_test.reshape(X_test.shape[0] ,28*28)\n",
    "\n",
    "print(X_train.shape ,X_test.shape)"
   ]
  },
  {
   "cell_type": "markdown",
   "metadata": {},
   "source": [
    "Each pixel values between 0 to 255. We scale each value by dividing by 255."
   ]
  },
  {
   "cell_type": "code",
   "execution_count": 6,
   "metadata": {},
   "outputs": [],
   "source": [
    "X_train = X_train/255 \n",
    "X_test = X_test/255"
   ]
  },
  {
   "cell_type": "markdown",
   "metadata": {},
   "source": [
    "**Important Step :**\n",
    "\n",
    "For softmax regression, label-vector $y$ need to be represented in **one-hot encoding**."
   ]
  },
  {
   "cell_type": "code",
   "execution_count": 7,
   "metadata": {},
   "outputs": [],
   "source": [
    "def one_hot_encoding(y,k):\n",
    "    # A zero matrix of size (m,k)\n",
    "    y_one_hot = np.zeros((len(y) ,k))\n",
    "\n",
    "    # Putting 1 for column where the label is using multidimensional indexing\n",
    "    y_one_hot[np.arange(len(y)) ,y] = 1 \n",
    "    return y_one_hot"
   ]
  },
  {
   "cell_type": "code",
   "execution_count": 8,
   "metadata": {},
   "outputs": [
    {
     "data": {
      "text/plain": [
       "array([[0., 1., 0., 0., 0., 0., 0., 0.],\n",
       "       [1., 0., 0., 0., 0., 0., 0., 0.],\n",
       "       [0., 0., 1., 0., 0., 0., 0., 0.],\n",
       "       [1., 0., 0., 0., 0., 0., 0., 0.],\n",
       "       [0., 0., 0., 1., 0., 0., 0., 0.],\n",
       "       [1., 0., 0., 0., 0., 0., 0., 0.],\n",
       "       [0., 0., 0., 0., 1., 0., 0., 0.],\n",
       "       [1., 0., 0., 0., 0., 0., 0., 0.]])"
      ]
     },
     "execution_count": 8,
     "metadata": {},
     "output_type": "execute_result"
    }
   ],
   "source": [
    "y = [1,0,2,0,3,0,4,0]\n",
    "np.eye((len(y)))[y]"
   ]
  },
  {
   "cell_type": "code",
   "execution_count": 9,
   "metadata": {},
   "outputs": [
    {
     "name": "stdout",
     "output_type": "stream",
     "text": [
      "[1, 0, 2, 1, 0, 0]\n"
     ]
    }
   ],
   "source": [
    "y = ['b', 'a', 'c', 'b', 'a', 'a']\n",
    "\n",
    "y_unique = list(set(y))\n",
    "y_sort = sorted(y_unique)\n",
    "\n",
    "for i in range(len(y)):\n",
    "    y[i] = y_sort.index(y[i])\n",
    "\n",
    "print(y)"
   ]
  },
  {
   "cell_type": "code",
   "execution_count": 10,
   "metadata": {},
   "outputs": [
    {
     "data": {
      "text/plain": [
       "array([[0., 1., 0.],\n",
       "       [1., 0., 0.],\n",
       "       [0., 0., 1.],\n",
       "       [0., 1., 0.],\n",
       "       [1., 0., 0.],\n",
       "       [1., 0., 0.]])"
      ]
     },
     "execution_count": 10,
     "metadata": {},
     "output_type": "execute_result"
    }
   ],
   "source": [
    "one_hot_encoding(y,3)"
   ]
  },
  {
   "cell_type": "markdown",
   "metadata": {},
   "source": [
    "### **Model**\n",
    "\n",
    "![alt text](Images/model.png)\n",
    "\n",
    "<!-- ![alt text](https://miro.medium.com/max/875/1*xbKo-8awaX5jpuMdPfBLyQ.png) -->\n"
   ]
  },
  {
   "cell_type": "markdown",
   "metadata": {},
   "source": [
    "\n",
    "The **Softmax Regression** has two steps : \n",
    "\n",
    "1. **Linear Combination** (in vectorized form) : \n",
    "\\begin{equation} \n",
    "\\textbf Z_{n\\times k} =\\textbf X_{n \\times m} \\textbf W_{m\\times k} + \\textbf b_{k \\times 1}\n",
    "\\end{equation}\n",
    "\n",
    "\n",
    "2. **Softmax** non-linear transformation (in vectorized form) :\n",
    "\n",
    "\\begin{equation} \n",
    "softmax \\textbf (Z) = \\frac{exp \\textbf (Z)}{\\sum exp(Z)}\n",
    "\\end{equation}\n",
    "\n",
    "Softmax classifier provides a **probablity** of an example belonging to a class : \n",
    "\n",
    "\\begin{equation}\n",
    "p(y = q | x;W ,b) = \\frac{exp \\textbf (z_q)}{\\sum_k exp(z_k)}\n",
    "\\end{equation}"
   ]
  },
  {
   "cell_type": "markdown",
   "metadata": {},
   "source": [
    "### **Softmax Regression Implementation**"
   ]
  },
  {
   "cell_type": "markdown",
   "metadata": {},
   "source": [
    "**STEP 1 :** In vectorized form, we implement : $Z = Xw +b$\n",
    "\n",
    "Each class has $m+1$ parameters, one bias and $m$ weights corresponding to $m$ features."
   ]
  },
  {
   "cell_type": "code",
   "execution_count": 11,
   "metadata": {},
   "outputs": [],
   "source": [
    "def linear_combination(X,w,b):\n",
    "    return X@w +b "
   ]
  },
  {
   "cell_type": "markdown",
   "metadata": {},
   "source": [
    "**STEP 2 :** Calculate the softmax for each class using the above formula.\n",
    "\n",
    "* The sum of the softmax across all the classes for a given sample is 1.\n",
    "\n",
    "* The class label with the highest value of softmax is assigned to the sample.\n",
    "\n",
    "**NOTE :** Every class has a different set of weighs and bias."
   ]
  },
  {
   "cell_type": "code",
   "execution_count": 12,
   "metadata": {},
   "outputs": [],
   "source": [
    "def softmax(z):\n",
    "    # subtracting the max of z for numerical stability.\n",
    "    exp = np.exp(z - np.max(z))\n",
    "\n",
    "    for i in range(len(z)):\n",
    "        exp[i] /= np.sum(exp[i])\n",
    "    return exp"
   ]
  },
  {
   "cell_type": "markdown",
   "metadata": {},
   "source": [
    "### **Loss function : Categorical Cross-Entropy Loss**\n",
    "\n",
    "For sotmax regression, we use cross-entropy (CE) loss.\n",
    "\n",
    "For any pair of label vectors $y_k$ and model predictions $ŷ_k$ over $k$ classes, the loss function $J$ is given as : \n",
    "\n",
    "\\begin{equation} \n",
    "\\textbf Z (W,b) = - \\sum_k y_k log(ŷ_k)\n",
    "\\end{equation}\n"
   ]
  },
  {
   "cell_type": "markdown",
   "metadata": {},
   "source": [
    "### **Optimization**\n",
    "The objective here is to estimate the weight matrix $W_{m \\times k}$ and $b$ by optimizing the loss $J(W,b)$.\n",
    "\n",
    "There are : \n",
    "* $m$ X $k$ entries in the weight matrix $W$\n",
    "\n",
    "* $k$ entries in bias vector $b$.\n",
    "\n",
    "We calculate the partial derivative of the loss function w.r.t each weight $W[j,i]$ and bias unit $b[i]$.\n",
    "\n",
    "* $W[j,i]$ represents weight for j-th feature in the i-th linear combination : \n",
    "\\begin{equation} \n",
    "\\frac {\\partial J(\\mathbf W ,b)}{\\partial \\mathbf W[j,i]}\n",
    "\\end{equation}\n",
    "\n",
    "* $b[i]$ represents bias for the i-th linear combination : \n",
    "\\begin{equation} \n",
    "\\frac {\\partial J(\\mathbf W ,b)}{\\partial \\mathbf b[i]}\n",
    "\\end{equation}\n"
   ]
  },
  {
   "cell_type": "markdown",
   "metadata": {},
   "source": [
    "**Note that** : Softmax is a **two stage process** : \n",
    "\n",
    "1. **Linear Combination** : $z$ = $XW$ + $b$\n",
    "\n",
    "2. **Non-linear Transformation** : softmax ($XW$ + $b$)\n",
    "\n",
    "The weights $W[j,i]$ and $b[i]$ are used for calculating $z[i]$ : \n",
    "\n",
    "\\begin{align}\n",
    "z[i] = b[i] + x[1]*W[1,i]+ x[2]*W[2,i] + .... + x[m]*W[m,i]\n",
    "\\end{align}\n",
    "\n",
    "\\begin{align}\n",
    "= b[i] + \\sum_{j=1}^{m} x[j] * W[j,i]\n",
    "\\end{align}\n",
    "\n",
    "\n",
    "And $z[i]$ is used for softmax calculation in numerator for i-th class and in denominators of all classes.\n",
    "\n",
    "\\begin{align}\n",
    "softmax(z[i]) = \\frac{exp \\textbf (z[i])}{\\sum_k exp(z[i,k])}\n",
    "\\end{align}"
   ]
  },
  {
   "cell_type": "markdown",
   "metadata": {},
   "source": [
    "The loss is computed based on the output of the softmax. \n",
    "\n",
    "Hence the loss and weights are not directly related, but are related through $z$.\n",
    "\n",
    "We need to make use of chain rule of derivatives to calculate derivatives.\n",
    "\n",
    "\\begin{equation} \n",
    "\\frac {\\partial J(\\mathbf W ,b)}{\\partial \\mathbf W[j,i]} = \\frac {\\partial J(\\mathbf W ,b)}{\\partial \\mathbf z [i]} * \\frac {\\partial \\mathbf z [i]}{\\partial \\mathbf W[j,i]}\n",
    "\\end{equation}\n",
    "\n",
    "\\begin{equation} \n",
    "\\frac {\\partial J(\\mathbf W ,b)}{\\partial \\mathbf b[i]} = \\frac {\\partial J(\\mathbf W ,b)}{\\partial \\mathbf z [i]} * \\frac {\\partial \\mathbf z [i]}{\\partial \\mathbf b[i]}\n",
    "\\end{equation}"
   ]
  },
  {
   "cell_type": "markdown",
   "metadata": {},
   "source": [
    "We need to compute three deivatives from eqs (10) and (11) : \n",
    "\n",
    "1.  \\begin{equation}\n",
    "    \\frac {\\partial J(\\mathbf W ,b)}{\\partial \\mathbf z [i]}\n",
    "    \\end{equation}\n",
    "\n",
    "2.  \\begin{equation}\n",
    "    \\frac {\\partial \\mathbf z [i]}{\\partial \\mathbf b [i]}\n",
    "    \\end{equation}\n",
    "\n",
    "3.  \\begin{equation}\n",
    "    \\frac {\\partial \\mathbf z [i]}{\\partial \\mathbf W[j,i]}\n",
    "    \\end{equation}\n",
    "\n",
    "Lets calculate them one-by-one : \n",
    "\n",
    "\\begin{align}\n",
    "\\frac {\\partial \\mathbf z [i]}{\\partial \\mathbf W[j,i]} = \\frac {\\partial}{\\partial \\mathbf W[j,i]}(b[i] + \\sum_{j=1}^{m} x[j] * W[j,i]) = x[j]\n",
    "\\end{align}\n",
    "\n",
    "\\begin{align}\n",
    "\\frac {\\partial \\mathbf z [i]}{\\partial \\mathbf b[i]} = \\frac {\\partial}{\\partial \\mathbf b[i]}(b[i] + \\sum_{j=1}^{m} x[j] * W[j,i]) = 1\n",
    "\\end{align}\n",
    "\n",
    "While calculating : \n",
    "\n",
    "\\begin{equation}\n",
    "\\frac {\\partial J(\\mathbf W ,b)}{\\partial \\mathbf z [i]}\n",
    "\\end{equation}\n",
    "\n",
    "**Note that** : \n",
    "* $z$ is related to loss through the prediction ŷ. Using chain rule one more time for this. \n",
    "\n",
    "* Moreover $z[i]$ is used in calculation of $ŷ[i]$ and $ŷ[j]$, where i≠j. Hence making use of addition.\n",
    "\n",
    "\n",
    "\\begin{align}\n",
    "\\frac {\\partial J(\\mathbf W ,b)}{\\partial \\mathbf z [i]} = \\frac {\\partial J(\\mathbf W ,b)}{\\partial \\mathbf ŷ[i]}\\times \\frac {\\partial \\mathbf ŷ[i]}{\\partial \\mathbf z[i]} + \\sum_{j≠1}\\frac {\\partial J(\\mathbf W ,b)}{\\partial \\mathbf ŷ[j]}\\times \\frac {\\partial \\mathbf ŷ[j]}{\\partial \\mathbf z[i]}\n",
    "\\end{align}\n"
   ]
  },
  {
   "cell_type": "markdown",
   "metadata": {},
   "source": [
    "\n",
    "Now lets calculate : \n",
    "\n",
    "\\begin{align}\n",
    "\\frac {\\partial J(\\mathbf W ,b)}{\\partial \\mathbf ŷ[i]} = \n",
    "\\frac {\\partial}{\\partial \\mathbf ŷ[i]}(- \\sum_k y[k] \\log ŷ[k]) = - \\frac {y[i]}{ ŷ[i]}\n",
    "\\end{align}\n",
    "\n",
    "Hence, \n",
    "\\begin{align}\n",
    "\\frac {\\partial J(\\mathbf W ,b)}{\\partial \\mathbf ŷ[j]} = - \\frac {y[j]}{ ŷ[j]}\n",
    "\\end{align}\n"
   ]
  },
  {
   "cell_type": "markdown",
   "metadata": {},
   "source": [
    "\n",
    "\n",
    "Now calculate : \n",
    "\n",
    "\\begin{align}\n",
    "\\frac {\\partial \\mathbf ŷ[i]}{\\partial \\mathbf z[i]} = \\frac {\\partial }{\\partial \\mathbf z[i]} \\times \\frac {e^{z[i]}}{\\sum_k e^{z[k]}}\n",
    "\\end{align}\n",
    "\n",
    "Using quotient rule of derivative : \n",
    "\n",
    "\\begin{align}\n",
    "\\frac{d}{{dx}}\\left( {\\frac{{f\\left( x \\right)}}{{g\\left( x \\right)}}} \\right) = \\frac{{\\frac{d}{{dx}}f\\left( x \\right)g\\left( x \\right) - f\\left( x \\right)\\frac{d}{{dx}}g\\left( x \\right)}}{{g^2 \\left( x \\right)}}\n",
    "\\end{align}\n",
    "\n",
    "\n",
    "\n",
    "\\begin{align}\n",
    " = \\frac{\\sum_k e^{z[k]} \\frac{\\partial}{\\partial \\mathbf z[i]}e^{z[i]} - e^{z[i]} \\frac{\\partial}{\\partial \\mathbf z[i]} \\sum_k e^{z[k]}}{(\\sum_k e^{z[k]})^2}\n",
    "\\end{align}\n",
    "\n",
    "\\begin{align}\n",
    "= \\frac{e^{z[i]} \\sum_k e^{z[k]} - e^{z[i]} . e^{z[i]}}{(\\sum_k e^{z[k]})^2}\n",
    "\\end{align}\n",
    "\n",
    "Simplifying with algebraic multiplication : \n",
    "\\begin{align}\n",
    "= \\frac{e^{z[i]}}{\\sum_k e^{z[k]}} - (\\frac{e^{z[i]}}{\\sum_k e^{z[k]}})^2\n",
    "\\end{align}\n",
    "\n",
    "\\begin{align}\n",
    "= ŷ[i] - ŷ[i]^2\n",
    "\\end{align}"
   ]
  },
  {
   "cell_type": "markdown",
   "metadata": {},
   "source": [
    "Now calculate:\n",
    "\n",
    "\\begin{align}\n",
    "\\frac {\\partial \\mathbf ŷ[j]}{\\partial \\mathbf z[i]} = \\frac {\\partial}{\\partial \\mathbf z[i]} \\times \\frac {e ^ {z[j]}}{\\sum_k e ^ {z[k]}}\n",
    "\\end{align}\n",
    "\n",
    "Using quotient rule of derivative:\n",
    "\n",
    "\\begin{align}\n",
    "\\frac{d}{{dx}}\\left({\\frac{{f\\left(x \\right)}}{{g\\left(x \\right)}}} \\right) = \\frac{{\\frac{d}{{dx}}f\\left(x \\right)g\\left(x \\right) - f\\left(x \\right)\\frac{d}{{dx}}g\\left(x \\right)}}{{g ^ 2 \\left(x \\right)}}\n",
    "\\end{align}\n",
    "\n",
    "\n",
    "\\begin{align}\n",
    "= \\frac{\\sum_k e ^ {z[k]} \\frac{\\partial}{\\partial \\mathbf z[i]}e ^ {z[j]} - e ^ {z[j]} \\frac{\\partial}{\\partial \\mathbf z[i]} \\sum_k e ^ {z[k]}}{(\\sum_k e ^ {z[k]}) ^ 2}\n",
    "\\end{align}\n",
    "\n",
    "\\begin{align}\n",
    "= \\frac{\\sum_k e ^ {z[k]} \\textcolor{blue}0 - e ^ {z[j]} \\textcolor{blue}{e^{z[i]}} }{(\\sum_k e ^ {z[k]}) ^ 2}\n",
    "\\end{align}\n",
    "\n",
    "\\begin{align}\n",
    "= \\frac{ - e ^ {z[j]} \\textcolor{blue}{e^{z[i]}} }{(\\sum_k e ^ {z[k]}) ^ 2}\n",
    "\\end{align}\n",
    "\n",
    "Simplifying with algebraic multiplication :\n",
    "\n",
    "\\begin{align}\n",
    "= - \\frac{ e^{z[j]}}{\\sum_k e^{z[k]}} \\times \\frac{e^{z[i]}}{\\sum_k e^{z[k]}}\n",
    "\\end{align}\n",
    "\n",
    "\n",
    "\\begin{align} \n",
    "= - ŷ[j]\\times ŷ[i]\n",
    "\\end{align}\n"
   ]
  },
  {
   "cell_type": "markdown",
   "metadata": {},
   "source": [
    "Now we will replace these two parial derivatives in the equation :\n",
    "\n",
    "\\begin{align}\n",
    "\\frac {\\partial J(\\mathbf W ,b)}{\\partial \\mathbf z [i]} = \\frac {\\partial J(\\mathbf W ,b)}{\\partial \\mathbf ŷ[i]}\\times \\frac {\\partial \\mathbf ŷ[i]}{\\partial \\mathbf z[i]} + \\sum_{j≠1}\\frac {\\partial J(\\mathbf W ,b)}{\\partial \\mathbf ŷ[j]}\\times \\frac {\\partial \\mathbf ŷ[j]}{\\partial \\mathbf z[i]}\n",
    "\\end{align}\n",
    "\n",
    "\\begin{align}\n",
    "= - \\frac { \\mathbf y[i]}{ \\mathbf ŷ[i]}\\times  \\mathbf ŷ[i]\\mathbf (1 -ŷ[i] ) + \\sum_{j≠1} - \\frac {\\mathbf y[j]}{\\mathbf ŷ[j]} \\times (\\mathbf - ŷ[j] \\mathbf ŷ[i])\n",
    "\\end{align}\n",
    "\n",
    "\\begin{align}\n",
    "= - \\mathbf y[i] +  \\mathbf y[i] \\mathbf ŷ[i] + \\sum_{j≠1} \\mathbf  y[j] \\mathbf ŷ[i]\n",
    "\\end{align}\n",
    "\n",
    "\\begin{align}\n",
    "= - \\mathbf y[i]  + \\sum_{j} \\mathbf  y[j] \\mathbf ŷ[i]\n",
    "\\end{align}\n",
    "\n",
    "\\begin{align}\n",
    "= \\mathbf ŷ[i]  \\sum_{j} \\mathbf  y[j]  - \\mathbf y[i]\n",
    "\\end{align}\n",
    "\n",
    "\\begin{align}\n",
    "= ŷ[i] - y[i]\n",
    "\\end{align}\n",
    "\n",
    "Substituting equations, we get : \n",
    "\\begin{align}\n",
    "\\frac {\\partial J(\\mathbf W ,b)}{\\partial W [j,i]} = x[j] (ŷ[i] - y[i])\n",
    "\\end{align}"
   ]
  },
  {
   "cell_type": "markdown",
   "metadata": {},
   "source": [
    "##### **Partial derivatives in vectorized form**\n",
    "\n",
    "So, the partial derivative of the loss function are : \n",
    "\n",
    "\\begin{align}\n",
    "\\frac {\\partial J(\\mathbf W ,b)}{\\partial W} = \\mathbf X^T (\\mathbf Ŷ - \\mathbf Y)\n",
    "\\end{align}\n",
    "\n",
    "\\begin{align}\n",
    "\\frac {\\partial J(\\mathbf W ,b)}{\\partial b} = \\mathbf Ŷ - \\mathbf Y\n",
    "\\end{align}\n",
    "\n",
    "##### **Weight Update Rule**\n",
    "\n",
    "Hence, the update rules for weight parameters are following : \n",
    "\\begin{align}\n",
    "\\mathbf W_{t+1} \\impliedby \\mathbf W{t} + \\alpha \\frac{\\partial J (W,b)}{\\partial \\mathbf W}\n",
    "\\end{align}\n",
    "\n",
    "\\begin{align}\n",
    "\\mathbf b_{t+1} \\impliedby \\mathbf b{t} + \\alpha \\frac{\\partial J (W,b)}{\\partial \\mathbf b}\n",
    "\\end{align}"
   ]
  },
  {
   "cell_type": "markdown",
   "metadata": {},
   "source": [
    "### **Training & Prediction Functions**\n",
    "\n",
    "1. Initialize the parameters : $w$ & $b$.\n",
    "\n",
    "2. Find optimal $w$ & $b$ using `gradient descent`.\n",
    "\n",
    "3. Use `softmax` ($wX$ + $b$ ) to predict."
   ]
  },
  {
   "cell_type": "code",
   "execution_count": 13,
   "metadata": {},
   "outputs": [],
   "source": [
    "# X --> Input \n",
    "# y --> Target \n",
    "# lr --> learning rate \n",
    "# c --> no. of classes in classification problem\n",
    "# epochs --> no. of iterations\n",
    "\n",
    "def fit(X, y, lr, c, epochs):  \n",
    "    n, m = X.shape\n",
    "    \n",
    "    # initializing weights and bias randomly\n",
    "    w = np.random.random((m, c))\n",
    "    b = np.random.random(c)\n",
    "\n",
    "    losses = []\n",
    "\n",
    "    for epoch in range(epochs):\n",
    "        z = X@w + b\n",
    "\n",
    "        # Calculating hypothesis/prediction\n",
    "        y_hat = softmax(z)\n",
    "\n",
    "        # convert to one hot encoding\n",
    "        y_hot = one_hot_encoding(y, c)\n",
    "\n",
    "        #Calculating the gradient of loss w.r.t w and b\n",
    "        w_grad = (1/n)*np.dot(X.T, (y_hat - y_hot))\n",
    "        b_grad = (1/n)*np.sum(y_hat - y_hot)\n",
    "\n",
    "        #Updating the parameters\n",
    "\n",
    "        w = w - lr*w_grad\n",
    "        b = b - lr*b_grad\n",
    "\n",
    "        loss = -np.mean(np.log(y_hat[np.arange(len(y)), y]))\n",
    "\n",
    "        losses.append(loss)\n",
    "\n",
    "        #Printing out the loss at every 100th iteration.\n",
    "\n",
    "        if epoch % 10 == 0:\n",
    "            print('Epoch {epoch} --> Loss = {loss}'.format(epoch=epoch, loss=loss))\n",
    "\n",
    "    return w, b, losses"
   ]
  },
  {
   "cell_type": "code",
   "execution_count": 14,
   "metadata": {},
   "outputs": [],
   "source": [
    "def predict(X,w,b):\n",
    "    z = X@w + b \n",
    "    y_hat = softmax(z)\n",
    "    return np.argmax(y_hat, axis=1) \n",
    "\n",
    "def accuracy(y,y_hat):\n",
    "    return np.sum(y==y_hat)/len(y)"
   ]
  },
  {
   "cell_type": "markdown",
   "metadata": {},
   "source": [
    "#### **Training digit recognizer on MNIST dataset**\n",
    "\n"
   ]
  },
  {
   "cell_type": "code",
   "execution_count": 15,
   "metadata": {},
   "outputs": [
    {
     "name": "stdout",
     "output_type": "stream",
     "text": [
      "Epoch 0 --> Loss = 4.795643348661291\n",
      "Epoch 10 --> Loss = 1.1221064524143405\n",
      "Epoch 20 --> Loss = 0.7034138730106039\n",
      "Epoch 30 --> Loss = 0.5868566003098548\n",
      "Epoch 40 --> Loss = 0.5350964147002062\n",
      "Epoch 50 --> Loss = 0.500721448439313\n",
      "Epoch 60 --> Loss = 0.47572019433441487\n",
      "Epoch 70 --> Loss = 0.45650042426593557\n",
      "Epoch 80 --> Loss = 0.4411407995066919\n",
      "Epoch 90 --> Loss = 0.4285088167613513\n"
     ]
    }
   ],
   "source": [
    "w,b, loss = fit(X_train,y_train,lr=0.9,c=10,epochs=100)"
   ]
  },
  {
   "cell_type": "markdown",
   "metadata": {},
   "source": [
    "#### **Learning Curve**"
   ]
  },
  {
   "cell_type": "code",
   "execution_count": 16,
   "metadata": {},
   "outputs": [
    {
     "data": {
      "image/png": "[encoded data removed]",
      "text/plain": [
       "<Figure size 432x288 with 1 Axes>"
      ]
     },
     "metadata": {
      "needs_background": "light"
     },
     "output_type": "display_data"
    }
   ],
   "source": [
    "plt.figure()\n",
    "plt.plot(np.arange(len(loss)), loss)\n",
    "\n",
    "plt.title('Learning Curve')\n",
    "plt.xlabel('No. of Epochs')\n",
    "plt.ylabel('Loss function')\n",
    "plt.show()"
   ]
  },
  {
   "cell_type": "markdown",
   "metadata": {},
   "source": [
    "### **Model Evaluation**"
   ]
  },
  {
   "cell_type": "code",
   "execution_count": 17,
   "metadata": {},
   "outputs": [
    {
     "name": "stdout",
     "output_type": "stream",
     "text": [
      "Accuracy for train set : 0.8778833333333333\n",
      "Accuracy for test set : 0.8824\n"
     ]
    }
   ],
   "source": [
    "# Accuracy for train set \n",
    "train_pred = predict(X_train,w,b) \n",
    "print('Accuracy for train set :',accuracy(y_train,train_pred))\n",
    "\n",
    "# Accuracy for test set \n",
    "test_pred = predict(X_test,w,b) \n",
    "print('Accuracy for test set :',accuracy(y_test,test_pred))"
   ]
  },
  {
   "cell_type": "markdown",
   "metadata": {},
   "source": [
    "##### **1. Confusion Matrix**"
   ]
  },
  {
   "cell_type": "code",
   "execution_count": 18,
   "metadata": {},
   "outputs": [
    {
     "data": {
      "text/plain": [
       "<sklearn.metrics._plot.confusion_matrix.ConfusionMatrixDisplay at 0x24dcb683280>"
      ]
     },
     "execution_count": 18,
     "metadata": {},
     "output_type": "execute_result"
    },
    {
     "data": {
      "image/png": "[encoded data removed]",
      "text/plain": [
       "<Figure size 432x288 with 2 Axes>"
      ]
     },
     "metadata": {
      "needs_background": "light"
     },
     "output_type": "display_data"
    }
   ],
   "source": [
    "from sklearn.metrics import confusion_matrix\n",
    "from sklearn.metrics import ConfusionMatrixDisplay\n",
    "\n",
    "cm_display = ConfusionMatrixDisplay.from_predictions(y_test, test_pred)\n",
    "cm_display"
   ]
  },
  {
   "cell_type": "markdown",
   "metadata": {},
   "source": [
    "##### **2. Classification Report**"
   ]
  },
  {
   "cell_type": "code",
   "execution_count": 19,
   "metadata": {},
   "outputs": [
    {
     "name": "stdout",
     "output_type": "stream",
     "text": [
      "              precision    recall  f1-score   support\n",
      "\n",
      "           0       0.93      0.96      0.94       980\n",
      "           1       0.95      0.97      0.96      1135\n",
      "           2       0.88      0.84      0.86      1032\n",
      "           3       0.87      0.87      0.87      1010\n",
      "           4       0.87      0.90      0.88       982\n",
      "           5       0.83      0.79      0.81       892\n",
      "           6       0.90      0.91      0.91       958\n",
      "           7       0.90      0.89      0.90      1028\n",
      "           8       0.82      0.83      0.82       974\n",
      "           9       0.85      0.84      0.85      1009\n",
      "\n",
      "    accuracy                           0.88     10000\n",
      "   macro avg       0.88      0.88      0.88     10000\n",
      "weighted avg       0.88      0.88      0.88     10000\n",
      "\n"
     ]
    }
   ],
   "source": [
    "from sklearn.metrics import classification_report\n",
    "print(classification_report(y_test, test_pred))"
   ]
  },
  {
   "cell_type": "markdown",
   "metadata": {},
   "source": [
    "##### **3. Precision, Recall & F1 score**"
   ]
  },
  {
   "cell_type": "code",
   "execution_count": 20,
   "metadata": {},
   "outputs": [
    {
     "name": "stdout",
     "output_type": "stream",
     "text": [
      "F1 score (micro) :  0.8824\n",
      "Precision (micro) :  0.8824\n",
      "Recall (micro) :  0.8824\n"
     ]
    }
   ],
   "source": [
    "from sklearn.metrics import precision_score\n",
    "from sklearn.metrics import recall_score\n",
    "from sklearn.metrics import f1_score\n",
    "\n",
    "print('F1 score (micro) : ', f1_score(y_test, test_pred, average='micro'))\n",
    "print('Precision (micro) : ', precision_score(y_test, test_pred, average='micro'))\n",
    "print('Recall (micro) : ', recall_score(y_test, test_pred, average='micro'))"
   ]
  },
  {
   "cell_type": "code",
   "execution_count": 21,
   "metadata": {},
   "outputs": [
    {
     "name": "stdout",
     "output_type": "stream",
     "text": [
      "F1 score (macro):  0.8803607896323994\n",
      "Precision (macro):  0.8804950589998002\n",
      "Recall (macro):  0.8805737939479996\n"
     ]
    }
   ],
   "source": [
    "print('F1 score (macro): ', f1_score(y_test, test_pred, average='macro'))\n",
    "print('Precision (macro): ', precision_score(y_test, test_pred, average='macro'))\n",
    "\n",
    "print('Recall (macro): ', recall_score(y_test, test_pred, average='macro'))"
   ]
  },
  {
   "cell_type": "markdown",
   "metadata": {},
   "source": [
    "### **Prediction visualization**"
   ]
  },
  {
   "cell_type": "code",
   "execution_count": 24,
   "metadata": {},
   "outputs": [
    {
     "ename": "TypeError",
     "evalue": "Invalid shape (784,) for image data",
     "output_type": "error",
     "traceback": [
      "\u001b[1;31m---------------------------------------------------------------------------\u001b[0m",
      "\u001b[1;31mTypeError\u001b[0m                                 Traceback (most recent call last)",
      "\u001b[1;32m~\\AppData\\Local\\Temp/ipykernel_28764/988949944.py\u001b[0m in \u001b[0;36m<module>\u001b[1;34m\u001b[0m\n\u001b[0;32m      2\u001b[0m \u001b[1;32mfor\u001b[0m \u001b[0mi\u001b[0m \u001b[1;32min\u001b[0m \u001b[0mrange\u001b[0m\u001b[1;33m(\u001b[0m\u001b[1;36m64\u001b[0m\u001b[1;33m)\u001b[0m\u001b[1;33m:\u001b[0m\u001b[1;33m\u001b[0m\u001b[1;33m\u001b[0m\u001b[0m\n\u001b[0;32m      3\u001b[0m     \u001b[0max\u001b[0m \u001b[1;33m=\u001b[0m \u001b[0mfig\u001b[0m\u001b[1;33m.\u001b[0m\u001b[0madd_subplot\u001b[0m\u001b[1;33m(\u001b[0m\u001b[1;36m8\u001b[0m\u001b[1;33m,\u001b[0m \u001b[1;36m8\u001b[0m\u001b[1;33m,\u001b[0m \u001b[0mi\u001b[0m\u001b[1;33m+\u001b[0m\u001b[1;36m1\u001b[0m\u001b[1;33m)\u001b[0m\u001b[1;33m\u001b[0m\u001b[1;33m\u001b[0m\u001b[0m\n\u001b[1;32m----> 4\u001b[1;33m     \u001b[0max\u001b[0m\u001b[1;33m.\u001b[0m\u001b[0mimshow\u001b[0m\u001b[1;33m(\u001b[0m\u001b[0mX_test\u001b[0m\u001b[1;33m[\u001b[0m\u001b[0mi\u001b[0m\u001b[1;33m]\u001b[0m \u001b[1;33m,\u001b[0m\u001b[0mcmap\u001b[0m\u001b[1;33m=\u001b[0m\u001b[0mplt\u001b[0m\u001b[1;33m.\u001b[0m\u001b[0mget_cmap\u001b[0m\u001b[1;33m(\u001b[0m\u001b[1;34m'gray'\u001b[0m\u001b[1;33m)\u001b[0m\u001b[1;33m)\u001b[0m\u001b[1;33m\u001b[0m\u001b[1;33m\u001b[0m\u001b[0m\n\u001b[0m\u001b[0;32m      5\u001b[0m     \u001b[0max\u001b[0m\u001b[1;33m.\u001b[0m\u001b[0mset_title\u001b[0m\u001b[1;33m(\u001b[0m\u001b[1;34mf'y : ${y_test[i]}$ |'\u001b[0m \u001b[1;33m+\u001b[0m \u001b[1;34m'$\\hat{y}$ : '\u001b[0m \u001b[1;33m+\u001b[0m \u001b[1;34mf'{test_pred[i]}'\u001b[0m\u001b[1;33m)\u001b[0m\u001b[1;33m\u001b[0m\u001b[1;33m\u001b[0m\u001b[0m\n\u001b[0;32m      6\u001b[0m     \u001b[0mplt\u001b[0m\u001b[1;33m.\u001b[0m\u001b[0maxis\u001b[0m\u001b[1;33m(\u001b[0m\u001b[1;34m'off'\u001b[0m\u001b[1;33m)\u001b[0m\u001b[1;33m\u001b[0m\u001b[1;33m\u001b[0m\u001b[0m\n",
      "\u001b[1;32mc:\\Users\\faizan\\anaconda3\\envs\\tensorflow\\lib\\site-packages\\matplotlib\\_api\\deprecation.py\u001b[0m in \u001b[0;36mwrapper\u001b[1;34m(*args, **kwargs)\u001b[0m\n\u001b[0;32m    454\u001b[0m                 \u001b[1;34m\"parameter will become keyword-only %(removal)s.\"\u001b[0m\u001b[1;33m,\u001b[0m\u001b[1;33m\u001b[0m\u001b[1;33m\u001b[0m\u001b[0m\n\u001b[0;32m    455\u001b[0m                 name=name, obj_type=f\"parameter of {func.__name__}()\")\n\u001b[1;32m--> 456\u001b[1;33m         \u001b[1;32mreturn\u001b[0m \u001b[0mfunc\u001b[0m\u001b[1;33m(\u001b[0m\u001b[1;33m*\u001b[0m\u001b[0margs\u001b[0m\u001b[1;33m,\u001b[0m \u001b[1;33m**\u001b[0m\u001b[0mkwargs\u001b[0m\u001b[1;33m)\u001b[0m\u001b[1;33m\u001b[0m\u001b[1;33m\u001b[0m\u001b[0m\n\u001b[0m\u001b[0;32m    457\u001b[0m \u001b[1;33m\u001b[0m\u001b[0m\n\u001b[0;32m    458\u001b[0m     \u001b[1;31m# Don't modify *func*'s signature, as boilerplate.py needs it.\u001b[0m\u001b[1;33m\u001b[0m\u001b[1;33m\u001b[0m\u001b[0m\n",
      "\u001b[1;32mc:\\Users\\faizan\\anaconda3\\envs\\tensorflow\\lib\\site-packages\\matplotlib\\__init__.py\u001b[0m in \u001b[0;36minner\u001b[1;34m(ax, data, *args, **kwargs)\u001b[0m\n\u001b[0;32m   1410\u001b[0m     \u001b[1;32mdef\u001b[0m \u001b[0minner\u001b[0m\u001b[1;33m(\u001b[0m\u001b[0max\u001b[0m\u001b[1;33m,\u001b[0m \u001b[1;33m*\u001b[0m\u001b[0margs\u001b[0m\u001b[1;33m,\u001b[0m \u001b[0mdata\u001b[0m\u001b[1;33m=\u001b[0m\u001b[1;32mNone\u001b[0m\u001b[1;33m,\u001b[0m \u001b[1;33m**\u001b[0m\u001b[0mkwargs\u001b[0m\u001b[1;33m)\u001b[0m\u001b[1;33m:\u001b[0m\u001b[1;33m\u001b[0m\u001b[1;33m\u001b[0m\u001b[0m\n\u001b[0;32m   1411\u001b[0m         \u001b[1;32mif\u001b[0m \u001b[0mdata\u001b[0m \u001b[1;32mis\u001b[0m \u001b[1;32mNone\u001b[0m\u001b[1;33m:\u001b[0m\u001b[1;33m\u001b[0m\u001b[1;33m\u001b[0m\u001b[0m\n\u001b[1;32m-> 1412\u001b[1;33m             \u001b[1;32mreturn\u001b[0m \u001b[0mfunc\u001b[0m\u001b[1;33m(\u001b[0m\u001b[0max\u001b[0m\u001b[1;33m,\u001b[0m \u001b[1;33m*\u001b[0m\u001b[0mmap\u001b[0m\u001b[1;33m(\u001b[0m\u001b[0msanitize_sequence\u001b[0m\u001b[1;33m,\u001b[0m \u001b[0margs\u001b[0m\u001b[1;33m)\u001b[0m\u001b[1;33m,\u001b[0m \u001b[1;33m**\u001b[0m\u001b[0mkwargs\u001b[0m\u001b[1;33m)\u001b[0m\u001b[1;33m\u001b[0m\u001b[1;33m\u001b[0m\u001b[0m\n\u001b[0m\u001b[0;32m   1413\u001b[0m \u001b[1;33m\u001b[0m\u001b[0m\n\u001b[0;32m   1414\u001b[0m         \u001b[0mbound\u001b[0m \u001b[1;33m=\u001b[0m \u001b[0mnew_sig\u001b[0m\u001b[1;33m.\u001b[0m\u001b[0mbind\u001b[0m\u001b[1;33m(\u001b[0m\u001b[0max\u001b[0m\u001b[1;33m,\u001b[0m \u001b[1;33m*\u001b[0m\u001b[0margs\u001b[0m\u001b[1;33m,\u001b[0m \u001b[1;33m**\u001b[0m\u001b[0mkwargs\u001b[0m\u001b[1;33m)\u001b[0m\u001b[1;33m\u001b[0m\u001b[1;33m\u001b[0m\u001b[0m\n",
      "\u001b[1;32mc:\\Users\\faizan\\anaconda3\\envs\\tensorflow\\lib\\site-packages\\matplotlib\\axes\\_axes.py\u001b[0m in \u001b[0;36mimshow\u001b[1;34m(self, X, cmap, norm, aspect, interpolation, alpha, vmin, vmax, origin, extent, interpolation_stage, filternorm, filterrad, resample, url, **kwargs)\u001b[0m\n\u001b[0;32m   5486\u001b[0m                               **kwargs)\n\u001b[0;32m   5487\u001b[0m \u001b[1;33m\u001b[0m\u001b[0m\n\u001b[1;32m-> 5488\u001b[1;33m         \u001b[0mim\u001b[0m\u001b[1;33m.\u001b[0m\u001b[0mset_data\u001b[0m\u001b[1;33m(\u001b[0m\u001b[0mX\u001b[0m\u001b[1;33m)\u001b[0m\u001b[1;33m\u001b[0m\u001b[1;33m\u001b[0m\u001b[0m\n\u001b[0m\u001b[0;32m   5489\u001b[0m         \u001b[0mim\u001b[0m\u001b[1;33m.\u001b[0m\u001b[0mset_alpha\u001b[0m\u001b[1;33m(\u001b[0m\u001b[0malpha\u001b[0m\u001b[1;33m)\u001b[0m\u001b[1;33m\u001b[0m\u001b[1;33m\u001b[0m\u001b[0m\n\u001b[0;32m   5490\u001b[0m         \u001b[1;32mif\u001b[0m \u001b[0mim\u001b[0m\u001b[1;33m.\u001b[0m\u001b[0mget_clip_path\u001b[0m\u001b[1;33m(\u001b[0m\u001b[1;33m)\u001b[0m \u001b[1;32mis\u001b[0m \u001b[1;32mNone\u001b[0m\u001b[1;33m:\u001b[0m\u001b[1;33m\u001b[0m\u001b[1;33m\u001b[0m\u001b[0m\n",
      "\u001b[1;32mc:\\Users\\faizan\\anaconda3\\envs\\tensorflow\\lib\\site-packages\\matplotlib\\image.py\u001b[0m in \u001b[0;36mset_data\u001b[1;34m(self, A)\u001b[0m\n\u001b[0;32m    713\u001b[0m         if not (self._A.ndim == 2\n\u001b[0;32m    714\u001b[0m                 or self._A.ndim == 3 and self._A.shape[-1] in [3, 4]):\n\u001b[1;32m--> 715\u001b[1;33m             raise TypeError(\"Invalid shape {} for image data\"\n\u001b[0m\u001b[0;32m    716\u001b[0m                             .format(self._A.shape))\n\u001b[0;32m    717\u001b[0m \u001b[1;33m\u001b[0m\u001b[0m\n",
      "\u001b[1;31mTypeError\u001b[0m: Invalid shape (784,) for image data"
     ]
    },
    {
     "data": {
      "image/png": "[encoded data removed]",
      "text/plain": [
       "<Figure size 1080x720 with 1 Axes>"
      ]
     },
     "metadata": {
      "needs_background": "light"
     },
     "output_type": "display_data"
    }
   ],
   "source": [
    "fig = plt.figure(figsize=(15,10))\n",
    "for i in range(64):\n",
    "    ax = fig.add_subplot(8, 8, i+1)\n",
    "    ax.imshow(X_test[i] ,cmap=plt.get_cmap('gray'))\n",
    "    ax.set_title(f'y : ${y_test[i]}$ |' + '$\\hat{y}$ : ' + f'{test_pred[i]}')\n",
    "    plt.axis('off')\n",
    "plt.show()\n"
   ]
  }
 ],
 "metadata": {
  "kernelspec": {
   "display_name": "Python 3.9.7 ('tensorflow')",
   "language": "python",
   "name": "python3"
  },
  "language_info": {
   "codemirror_mode": {
    "name": "ipython",
    "version": 3
   },
   "file_extension": ".py",
   "mimetype": "text/x-python",
   "name": "python",
   "nbconvert_exporter": "python",
   "pygments_lexer": "ipython3",
   "version": "3.9.7"
  },
  "orig_nbformat": 4,
  "vscode": {
   "interpreter": {
    "hash": "32f02dc107888b055323539767db1f9cf579f03b0ed3a3ace7986ed2d38433ec"
   }
  }
 },
 "nbformat": 4,
 "nbformat_minor": 2
}
