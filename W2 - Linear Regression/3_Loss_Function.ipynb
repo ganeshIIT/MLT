{
 "cells": [
  {
   "cell_type": "markdown",
   "metadata": {},
   "source": [
    "Let's first import necessary libraries"
   ]
  },
  {
   "cell_type": "code",
   "execution_count": 1,
   "metadata": {},
   "outputs": [],
   "source": [
    "# Imported for proper rendering of latex in colab.\n",
    "from IPython.display import display, Math, Latex\n",
    "import numpy as np\n",
    "\n",
    "# Import for generating plots\n",
    "import matplotlib.pyplot as plt\n",
    "import seaborn as sns\n",
    "%matplotlib inline"
   ]
  },
  {
   "cell_type": "markdown",
   "metadata": {},
   "source": [
    "### N3 : Loss Function\n",
    "\n",
    "##### a. Quick Recap\n",
    "1. Training data contains features and label that is real number.\n",
    "\n",
    "2. Model or inference: $\\textbf y = \\textbf {Xw}$\n",
    "\n",
    "3. Loss function: $ \\begin{equation} \n",
    "J(\\textbf w)= \\frac{1}{2} (\\textbf {Xw}-\\textbf y)^T(\\textbf{Xw}-\\textbf y)\\end{equation}$ \n",
    "\n",
    "##### b. Objective\n",
    "The objective of this notebook is to implement loss function of linear regression model from scratch."
   ]
  },
  {
   "cell_type": "markdown",
   "metadata": {},
   "source": [
    "#### **Implementation**\n",
    "\n",
    "The loss function is calculated as follows:\n",
    "\\begin{equation} \n",
    "J(\\textbf w)= \\frac{1}{2} (\\textbf {Xw}-\\textbf y)^T(\\textbf{Xw}-\\textbf y)\n",
    "\\end{equation}\n",
    "\n",
    "    where :\n",
    "* $\\textbf X$ is a feature matrix contain $(m+1)$ features for n examples along rows.\n",
    "\n",
    "* $\\textbf w$ is a weight vector containing $(m+1)$ weights one for each feature.\n",
    "\n",
    "* $\\textbf y$ is a label matrix containing labels for $n$ examples in a vector of shape $(n,)$"
   ]
  },
  {
   "cell_type": "code",
   "execution_count": 2,
   "metadata": {},
   "outputs": [],
   "source": [
    "def predict(X, w):\n",
    "    assert X.shape[-1] == w.shape[0], \"X and w don't have compatible dimensions\"\n",
    "    return X @ w"
   ]
  },
  {
   "cell_type": "code",
   "execution_count": 3,
   "metadata": {},
   "outputs": [],
   "source": [
    "def loss(X, y, w):\n",
    "    e = (predict(X, w)) - y\n",
    "\n",
    "    ''' Calculates loss for a model based on known labels.\n",
    "\n",
    "        Args:\n",
    "            X: Feature matrix for given inputs.\n",
    "            y: Output label vecto as predicted by the given mdoel.\n",
    "            w: Weight vector\n",
    "        Returns: \n",
    "            Loss\n",
    "    '''\n",
    "    return (1/2)*((np.transpose(e))@e)\n"
   ]
  },
  {
   "cell_type": "markdown",
   "metadata": {},
   "source": [
    "\n",
    "We will test this function with the following configuration:\n",
    "1. Feature matrix $(\\textbf X)$: \n",
    "\\begin{equation} \n",
    "\\textbf X_{2\\times4}=\\begin{bmatrix} \n",
    "1&3&2&5\\\\ \n",
    "1&9&4&7\\end{bmatrix}\n",
    "\\end{equation}\n",
    "\n",
    "2. Weight vector $(\\textbf w)$: \n",
    "\\begin{equation} \\textbf w_{4\\times 1}=\\begin{bmatrix} \n",
    "1\\\\1\\\\1\\\\1 \\end{bmatrix} \n",
    "\\end{equation}\n",
    "\n",
    "3. Label vector $\\textbf y$: \n",
    " \\begin{equation} \n",
    " \\textbf y_{2\\times 1}=\\begin{bmatrix} \n",
    " 6\\\\11 \\end{bmatrix} \n",
    " \\end{equation}\n",
    "\n",
    " Let's compute the loss $J(\\textbf w)$ i.e.\n",
    "\n",
    "\\begin{align}\n",
    "\\textit J \\left(\\begin{bmatrix} \n",
    "1\\\\1\\\\1\\\\1 \\end{bmatrix}\\right)&=& \\frac{1}{2} (\\textbf {Xw}-\\textbf y)^T(\\textbf{Xw}-\\textbf y)\\\\\n",
    "\\end{align} \n",
    "\n",
    "\\begin{align} \n",
    "&=& \\frac{1}{2}\\left(\\begin{bmatrix}1&3&2&5\\\\1&9&4&7 \\end{bmatrix}\\times \\begin{bmatrix} 1\\\\1\\\\1\\\\1\\end{bmatrix}-\\begin{bmatrix} 6\\\\11\\end{bmatrix}\\right)^T \\left(\\begin{bmatrix}1&3&2&5\\\\1&9&4&7 \\end{bmatrix}\\times \\begin{bmatrix} 1\\\\1\\\\1\\\\1\\end{bmatrix}-\\begin{bmatrix} 6\\\\11\\end{bmatrix}\\right)\\\\\n",
    "\\end{align}\n",
    "\n",
    "\\begin{align}\n",
    "&=&\\frac{1}{2}\\left(\\begin{bmatrix} \n",
    "11\\\\21\\end{bmatrix}-\\begin{bmatrix} \n",
    "6\\\\11\\end{bmatrix}\\right)^T\\left(\\begin{bmatrix} \n",
    "11\\\\21\\end{bmatrix}-\\begin{bmatrix} 6\\\\11\\end{bmatrix}\\right)\\\\\n",
    "\\end{align}\n",
    "\n",
    "\\begin{align}\n",
    "&=&\\frac{1}{2}\\left(\\begin{bmatrix} 5\\\\10\\end{bmatrix}\\right)^T\\left(\\begin{bmatrix} 5\\\\10\\end{bmatrix}\\right)\\\\\n",
    "\\end{align}\n",
    "\n",
    "\\begin{align}\n",
    "&=&\\frac{1}{2}\\left(\\begin{bmatrix} 5&10\\end{bmatrix}\\begin{bmatrix} 5\\\\10\\end{bmatrix}\\right)\\\\\n",
    "\\end{align}\n",
    "\n",
    "\\begin{align}\n",
    "&=&\\frac{1}{2}\\left(\\begin{bmatrix} 5\\times5+10\\times10\\end{bmatrix}\\right)\\\\\n",
    "\\end{align}\n",
    "\n",
    "\\begin{align}\n",
    "&=&\\frac{1}{2}[125]=[62.5]\n",
    "\\end{align} \n"
   ]
  },
  {
   "cell_type": "code",
   "execution_count": 4,
   "metadata": {},
   "outputs": [
    {
     "name": "stderr",
     "output_type": "stream",
     "text": [
      "test_loss_function (__main__.TestLossFunction)\n",
      "Test case for loss function of linear regression ... ok\n",
      "\n",
      "----------------------------------------------------------------------\n",
      "Ran 1 test in 0.002s\n",
      "\n",
      "OK\n"
     ]
    },
    {
     "data": {
      "text/plain": [
       "<unittest.main.TestProgram at 0x29ebe294100>"
      ]
     },
     "execution_count": 4,
     "metadata": {},
     "output_type": "execute_result"
    }
   ],
   "source": [
    "import unittest\n",
    "\n",
    "\n",
    "class TestLossFunction(unittest.TestCase):\n",
    "    def test_loss_function(self):\n",
    "        '''Test case for loss function of linear regression'''\n",
    "        #set up\n",
    "        feature_matrix = np.array([[1, 3, 2, 5], [1, 9, 4, 7]])\n",
    "        weight_vector = np.array([1, 1, 1, 1])\n",
    "\n",
    "        label_vector = np.array([6, 11])\n",
    "        expected_loss = np.array([62.5])\n",
    "\n",
    "        #call\n",
    "        loss_value = loss(feature_matrix, label_vector, weight_vector)\n",
    "        #asserts\n",
    "        #test the shape\n",
    "        self.assertEqual(loss_value.shape, ())\n",
    "        #and contents\n",
    "        np.testing.assert_array_equal(expected_loss, loss_value)\n",
    "\n",
    "\n",
    "unittest.main(argv=[''], defaultTest='TestLossFunction',verbosity=2, exit=False)\n"
   ]
  },
  {
   "cell_type": "markdown",
   "metadata": {},
   "source": [
    "Since we have not yet trained our model, using a random weight vector to calculate loss for linear regression model with single feature on synthetic dataset."
   ]
  }
 ],
 "metadata": {
  "interpreter": {
   "hash": "32f02dc107888b055323539767db1f9cf579f03b0ed3a3ace7986ed2d38433ec"
  },
  "kernelspec": {
   "display_name": "Python 3.9.7 ('tensorflow')",
   "language": "python",
   "name": "python3"
  },
  "language_info": {
   "codemirror_mode": {
    "name": "ipython",
    "version": 3
   },
   "file_extension": ".py",
   "mimetype": "text/x-python",
   "name": "python",
   "nbconvert_exporter": "python",
   "pygments_lexer": "ipython3",
   "version": "3.9.7"
  },
  "orig_nbformat": 4
 },
 "nbformat": 4,
 "nbformat_minor": 2
}
