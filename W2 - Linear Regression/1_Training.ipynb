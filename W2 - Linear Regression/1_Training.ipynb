{
 "cells": [
  {
   "cell_type": "markdown",
   "metadata": {},
   "source": [
    "\n",
    "Let's first import necessary libraries\n"
   ]
  },
  {
   "cell_type": "code",
   "execution_count": 1,
   "metadata": {},
   "outputs": [],
   "source": [
    "# Imported for proper rendering of latex in colab.\n",
    "from IPython.display import display, Math, Latex\n",
    "import numpy as np\n",
    "\n",
    "# Import for generating plots\n",
    "import matplotlib.pyplot as plt\n",
    "import seaborn as sns\n",
    "%matplotlib inline"
   ]
  },
  {
   "cell_type": "markdown",
   "metadata": {},
   "source": [
    "### N1: Traning Data\n",
    "\n",
    "##### a. Quick recap\n",
    "1. Traning data contains features and label that is real number.\n",
    "2. Model or inference: **y=Xw**\n",
    "\n",
    "##### b. Objective\n",
    "The objective of this notebook is to : \n",
    "* Demonstrate training data and model components of linear regression model.\n",
    "* Demonstrate how simple it is to implement ML components and algorithms.\n"
   ]
  },
  {
   "cell_type": "code",
   "execution_count": 2,
   "metadata": {},
   "outputs": [],
   "source": [
    "# Create a dataset of 100 examples with a single feature and a label.\n",
    "# For this construction, we use the following three parameters:\n",
    "\n",
    "w1 = 5\n",
    "w0 = 6\n",
    "n = 100\n",
    "x = 10*np.random.rand(n,)"
   ]
  },
  {
   "cell_type": "code",
   "execution_count": 3,
   "metadata": {},
   "outputs": [],
   "source": [
    "X = 10*np.random.rand(100) \n",
    "\n",
    "# Obtain y = 5 + 6*x + noise . \n",
    "# Noise is randomly sampled.\n",
    "y = w0 + w1 *X + np.random.rand(n,)"
   ]
  },
  {
   "cell_type": "markdown",
   "metadata": {},
   "source": [
    "Examining the shapes of training data for sanity check"
   ]
  },
  {
   "cell_type": "code",
   "execution_count": 4,
   "metadata": {},
   "outputs": [
    {
     "name": "stdout",
     "output_type": "stream",
     "text": [
      "Shape of the training data feature matrix: (100,)\n",
      "Shape of the label vector: (100,)\n"
     ]
    }
   ],
   "source": [
    "print('Shape of the training data feature matrix:', X.shape)\n",
    "print('Shape of the label vector:', y.shape)"
   ]
  },
  {
   "cell_type": "markdown",
   "metadata": {},
   "source": [
    "Dividing the data into training and test set. Set aside 20% of the examples for testing purpose."
   ]
  },
  {
   "cell_type": "code",
   "execution_count": 5,
   "metadata": {},
   "outputs": [],
   "source": [
    "from sklearn.model_selection import train_test_split\n",
    "X_train, X_test, y_train, y_test = train_test_split(X,y,test_size=0.2, random_state=42)"
   ]
  },
  {
   "cell_type": "markdown",
   "metadata": {},
   "source": [
    "Checking to make sure the sizes of feature and labels set are identical both in training and test sets:"
   ]
  },
  {
   "cell_type": "code",
   "execution_count": 6,
   "metadata": {},
   "outputs": [
    {
     "name": "stdout",
     "output_type": "stream",
     "text": [
      "Shape of training feature matrix: (80,)\n",
      "Shape of training feature matrix: (80,)\n"
     ]
    }
   ],
   "source": [
    "print(\"Shape of training feature matrix:\", X_train.shape)\n",
    "print(\"Shape of training feature matrix:\", y_train.shape)"
   ]
  },
  {
   "cell_type": "code",
   "execution_count": 7,
   "metadata": {},
   "outputs": [
    {
     "name": "stdout",
     "output_type": "stream",
     "text": [
      "Shape of test feature matrix: (20,)\n",
      "Shape of test feature matrix: (20,)\n"
     ]
    }
   ],
   "source": [
    "print('Shape of test feature matrix:', X_test.shape)\n",
    "print('Shape of test feature matrix:', y_test.shape)"
   ]
  },
  {
   "cell_type": "markdown",
   "metadata": {},
   "source": [
    "Visualizing the training set"
   ]
  },
  {
   "cell_type": "code",
   "execution_count": 8,
   "metadata": {},
   "outputs": [
    {
     "data": {
      "image/png": "[encoded data removed]",
      "text/plain": [
       "<Figure size 576x576 with 1 Axes>"
      ]
     },
     "metadata": {
      "needs_background": "light"
     },
     "output_type": "display_data"
    }
   ],
   "source": [
    "plt.figure(figsize=(8,8))\n",
    "sns.set_style(\"white\")\n",
    "sns.set_context(\"notebook\",font_scale=1.5, rc={\"lines.linewidth\":2.5})\n",
    "\n",
    "plt.plot(X_train,y_train, \"b.\")\n",
    "plt.title(\"Data Points\")\n",
    "plt.grid(True)\n",
    "plt.xlabel(\"$x_1$\",fontsize=18)\n",
    "plt.ylabel(\"$y$\",fontsize=18)\n",
    "plt.axis([0,10,0,40])\n",
    "plt.show()"
   ]
  },
  {
   "cell_type": "markdown",
   "metadata": {},
   "source": [
    "We have a training set consisting a single feature so we will fit a simple linear regression model with one feature. It's form is $y=w_0 + w_1 x_1$.\n",
    "\n",
    "Also adding a special dummy feature $x_0$ and set it to 1."
   ]
  },
  {
   "cell_type": "code",
   "execution_count": 9,
   "metadata": {},
   "outputs": [],
   "source": [
    "def add_dummy_feature(X):\n",
    "    ''' Adds a dummy feature to the dataset.\n",
    "\n",
    "    Args:\n",
    "        x: Training dataset\n",
    "    Returns:\n",
    "        Training dataset with an addition of dummy feature.\n",
    "    '''\n",
    "\n",
    "    # np.ones(x.shape[0]) create a vector of 1's having the same number of rows as number of samples in dataset.\n",
    "\n",
    "    return np.column_stack((np.ones(X.shape[0]) ,X))"
   ]
  },
  {
   "cell_type": "markdown",
   "metadata": {},
   "source": [
    "Let's write a test case to test this function:\n",
    "\n",
    "For that let's take two examples and three features. The first example is a feature vector :\n",
    "\n",
    "\\begin{align}\n",
    "X_{3 \\times 1} ^{(1)} = \\begin{bmatrix} \n",
    "3\\\\2\\\\5\\\\ \\end{bmatrix} \n",
    "\\end{align}\n",
    "\n",
    "and the second example is:\n",
    "\\begin{align} \n",
    "\\textbf X_{3\\times 1} ^{(2)} = \\begin{bmatrix} 9\\\\4\\\\7 \\end{bmatrix} \n",
    "\\end{align} \n",
    "\n",
    "And recall that a feature matrix $\\textbf X$ has shape $(n,m)$ corresponding to features of all examples before adding the dummy feature $x_0$.\n",
    "\n",
    "\\begin{align}\n",
    "X_{n\\times m}  = \\begin{bmatrix} \n",
    "-(\\textbf x^{(1)})^{T} -\\\\-(\\textbf x^{(2)})^{T} -\\\\ \\vdots\\\\-(\\textbf x^{(n)})^{T} -\\\\ \\end{bmatrix} \n",
    "\\end{align}\n",
    "\n",
    "In our current example, this becomes:\n",
    "\\begin{align}\n",
    "X_{2\\times 3}  = \\begin{bmatrix} \n",
    "-(\\textbf x^{(1)})^{T} -\\\\-(\\textbf x^{(2)})^{T} - \\end{bmatrix} \n",
    "\\end{align}\n",
    "\n",
    "\n",
    "The corresponding feature matrix $\\textbf X $ appears as follows:\n",
    "\\begin{align}\n",
    "X_{2\\times 3}  = \\begin{bmatrix} \n",
    "3 &2&5\\\\\n",
    "9&4&7 \\end{bmatrix} \n",
    "\\end{align}\n",
    "\n",
    "Here the feature vectors are transposed and represented as rows:\n",
    "* The first row corresponds to the first exam $\\textbf (x^{(1)})^{T}$\n",
    "and \n",
    "\n",
    "* The second row corresponds to the second example $(x^{(2)})^{T}$"
   ]
  },
  {
   "cell_type": "markdown",
   "metadata": {},
   "source": [
    "Once we add the dummy feature, the resulting matrix becomes:"
   ]
  },
  {
   "cell_type": "code",
   "execution_count": 10,
   "metadata": {},
   "outputs": [
    {
     "name": "stderr",
     "output_type": "stream",
     "text": [
      "test_add_dummy_feature (__main__.TestAddDummyFeature)\n",
      "Test case function for add_dummy_feature ... ok\n",
      "\n",
      "----------------------------------------------------------------------\n",
      "Ran 1 test in 0.002s\n",
      "\n",
      "OK\n"
     ]
    },
    {
     "data": {
      "text/plain": [
       "<unittest.main.TestProgram at 0x19a1e8a4520>"
      ]
     },
     "execution_count": 10,
     "metadata": {},
     "output_type": "execute_result"
    }
   ],
   "source": [
    "import unittest\n",
    "\n",
    "class TestAddDummyFeature(unittest.TestCase):\n",
    "    def test_add_dummy_feature(self):\n",
    "        ''' Test case function for add_dummy_feature'''\n",
    "\n",
    "        train_matrix =np.array([[3,2,5],[9,4,7]])\n",
    "        train_matrix_with_dummy_feature = add_dummy_feature(train_matrix)\n",
    "\n",
    "        # test the shape\n",
    "        self.assertEqual(train_matrix_with_dummy_feature.shape,(2,4))\n",
    "\n",
    "        # add contents\n",
    "        np.testing.assert_array_equal(\n",
    "            train_matrix_with_dummy_feature,\n",
    "            np.array([[1,3,2,5],[1,9,4,7]])\n",
    "        )\n",
    "\n",
    "unittest.main(argv=[''],defaultTest='TestAddDummyFeature',verbosity=3,exit=False)"
   ]
  },
  {
   "cell_type": "code",
   "execution_count": 11,
   "metadata": {},
   "outputs": [
    {
     "data": {
      "text/plain": [
       "array([[1., 3., 2., 5.],\n",
       "       [1., 9., 4., 7.]])"
      ]
     },
     "execution_count": 11,
     "metadata": {},
     "output_type": "execute_result"
    }
   ],
   "source": [
    "add_dummy_feature(np.array([[3,2,5],[9,4,7]]))"
   ]
  },
  {
   "cell_type": "markdown",
   "metadata": {},
   "source": [
    "Now preprocessing the training set to add the dummy feature."
   ]
  },
  {
   "cell_type": "code",
   "execution_count": 12,
   "metadata": {},
   "outputs": [
    {
     "name": "stdout",
     "output_type": "stream",
     "text": [
      "Before adding the dummy feature:\n",
      " [4.33751855 0.2660726  4.08943612 5.61999499 5.41732977]\n",
      "\n",
      "After adding dummy feature:\n",
      " [[1.         4.33751855]\n",
      " [1.         0.2660726 ]\n",
      " [1.         4.08943612]\n",
      " [1.         5.61999499]\n",
      " [1.         5.41732977]]\n"
     ]
    }
   ],
   "source": [
    "print('Before adding the dummy feature:\\n', X_train[:5])\n",
    "print()\n",
    "\n",
    "X_train_with_dummy_feature = add_dummy_feature(X_train)\n",
    "print(\"After adding dummy feature:\\n\",X_train_with_dummy_feature[:5])"
   ]
  }
 ],
 "metadata": {
  "interpreter": {
   "hash": "32f02dc107888b055323539767db1f9cf579f03b0ed3a3ace7986ed2d38433ec"
  },
  "kernelspec": {
   "display_name": "Python 3.9.7 ('tensorflow')",
   "language": "python",
   "name": "python3"
  },
  "language_info": {
   "codemirror_mode": {
    "name": "ipython",
    "version": 3
   },
   "file_extension": ".py",
   "mimetype": "text/x-python",
   "name": "python",
   "nbconvert_exporter": "python",
   "pygments_lexer": "ipython3",
   "version": "3.9.7"
  },
  "orig_nbformat": 4
 },
 "nbformat": 4,
 "nbformat_minor": 2
}
