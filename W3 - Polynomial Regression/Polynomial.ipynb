{
 "cells": [
  {
   "cell_type": "markdown",
   "metadata": {},
   "source": [
    "Importing necessary libraries"
   ]
  },
  {
   "cell_type": "code",
   "execution_count": 1,
   "metadata": {},
   "outputs": [],
   "source": [
    "from numpy import linalg as lg\n",
    "from IPython.display import display, Math, Latex\n",
    "\n",
    "import numpy as np\n",
    "import matplotlib.pyplot as plt\n",
    "import seaborn as sns\n",
    "%matplotlib inline"
   ]
  },
  {
   "cell_type": "markdown",
   "metadata": {},
   "source": [
    "### **Polynomial regression**\n",
    "\n",
    "This colab implements polynomial regression from scratch with basic python libraties like `numpy`. Recall that polynomial regression is linear regression wtih  an additional step of polynomial transformation.\n",
    "    \n",
    "                            Features --> polynomial transformation --> Linear regression --> Label\n",
    "we will use `LinReg` class that implements linear regression model.\n",
    "We will implement:\n",
    "* Polynomial transformation function.\n",
    "\n",
    "* Function for generation of training data with non-linear relationship between features and labels. We generate examples with single features $x_1$ and label $y$.\n",
    "* Also a function for visualization of training data and model fitting.\n",
    "\n",
    "We use polynomial transformations of different degress for modelling relationship between input features and labels. Each degree results in a new polynomial model. \n",
    "\n",
    "Thus, we have multiple polynomial models from which we need to select the best performing model. Implementation of the model selection scheme is performed at the end of this notebook."
   ]
  },
  {
   "cell_type": "markdown",
   "metadata": {},
   "source": [
    "Combining the implementation of different components of Linear Regression that we implemented so far into a single `LinearRegression` class."
   ]
  },
  {
   "cell_type": "code",
   "execution_count": 2,
   "metadata": {},
   "outputs": [],
   "source": [
    "class LinReg(object):\n",
    "    '''\n",
    "    Linear regression model \n",
    "    -----------------------\n",
    "    y = X@w \n",
    "    X : A feature matrix \n",
    "    w : weight vector\n",
    "    y : label vector\n",
    "\n",
    "    '''\n",
    "\n",
    "    def __init__(self):\n",
    "        self.t0 = 200\n",
    "        self.t1 = 100_000\n",
    "\n",
    "    def predict(self, X: np.ndarray) -> np.ndarray:\n",
    "        '''\n",
    "        Prediction of output label for a given input.\n",
    "\n",
    "        Args: \n",
    "        X: Feature matrix for given inputs.\n",
    "        \n",
    "        Returns:\n",
    "        y: Output label vector as predicted by the given model\n",
    "\n",
    "        '''\n",
    "        y = X@self.w\n",
    "        return y\n",
    "\n",
    "    def loss(self, X: np.ndarray, y: np.ndarray) -> float:\n",
    "        ''' \n",
    "        Calculates loss for a model based on known labels:\n",
    "\n",
    "        Args: \n",
    "        X: Feature matrix for given inputs.\n",
    "        Returns:\n",
    "        y: Output label vector as predicted by the given model\n",
    "        \n",
    "        Returns:\n",
    "        y: Output label vector as predicted by the given model\n",
    "\n",
    "        '''\n",
    "        e = self.predict(X) - y\n",
    "\n",
    "        return (1/2) * (np.transpose(e)@e)\n",
    "\n",
    "    def rmse(self, X: np.ndarray, y: np.ndarray) -> float:\n",
    "\n",
    "        '''\n",
    "        Calculates root mean squared error of prediction w.r.t. actual label:\n",
    "\n",
    "        Args: \n",
    "        X: Feature matrix for given inputs.\n",
    "        Returns:\n",
    "        y: Output label vector as predicted by the given model\n",
    "        \n",
    "        Returns:\n",
    "        rmse \n",
    "\n",
    "        '''\n",
    "        return np.sqrt(2/X.shape[0] * self.loss(X, y))\n",
    "\n",
    "    def fit(self, X: np.ndarray, y: np.ndarray) -> np.ndarray:\n",
    "\n",
    "        '''' \n",
    "        Estimates parameters of the linear regression model with normal equation.\n",
    "\n",
    "        Args:\n",
    "        X: Feature matrix for given inputs \n",
    "        y: output label vector as predicted by the given model\n",
    "\n",
    "        Returns:\n",
    "        weight vector \n",
    "\n",
    "        '''\n",
    "        self.w = np.linalg.pinv(X)@y\n",
    "\n",
    "    def calculate_gradient(self, X: np.ndarray, y: np.ndarray) -> np.ndarray:\n",
    "        ''' \n",
    "        calculates gradients of loss function w.r.t weight vector on training set.\n",
    "\n",
    "        Returns:\n",
    "        A vector of gradient .\n",
    "        '''\n",
    "\n",
    "        return np.transpose(X)@(self.predict(X)-y)\n",
    "\n",
    "    def update_weight(self, grad: np.ndarray, lr: float) -> np.ndarray:\n",
    "        return(self.w - lr*grad)\n",
    "\n",
    "    def learning_schedule(self, t):\n",
    "        return self.t0/(t+self.t1)\n",
    "\n",
    "    def gd(self, X: np.ndarray, y: np.ndarray, num_epochs: int, lr: float) -> np.ndarray:\n",
    "        self.w = np.zeros(X.shape[1])\n",
    "        self.w_all = []\n",
    "        self.err_all = []\n",
    "        for i in np.arange(0, num_epochs):\n",
    "            djdw = self.calculate_gradient(X, y)\n",
    "            self.w_all.append(w)\n",
    "            self.err_all.append(self.loss(X, y))\n",
    "            self.w = self.update_weights(djdw, lr)\n",
    "        return self.w\n"
   ]
  },
  {
   "cell_type": "markdown",
   "metadata": {},
   "source": [
    "##### **Polynomial transformation**\n",
    "\n",
    "Steps for generating polynomial transformation of degree *M*.\n",
    "1. Generate combination of input features of lengths $= 0,1,\\ldots, \\textit M.$\n",
    "2. Perform multiplication operation between features to obtain the new features.\n",
    "\n",
    "\n",
    "For example:\n",
    "* For a single feature $x_1$ , $ \\phi_m = [1,x_1^1,x_1^2, \\ldots , x_1^m]$\n",
    "\n",
    "  * Generate combinations of : $\\{1,x_1,(x_1,x_1), (x_1,x_1,x_1),\\ldots, (x_1,x_1), \\ldots, (m times)\\}$\n",
    "\n",
    "    * 0-th degree: 1\n",
    "\n",
    "    * 1st degree: $x_1$\n",
    "\n",
    "    * 2nd degree: $x_1,x_1$\n",
    "\n",
    "    * 3rd degree: $x_1,x_1,x_1$\n",
    "\n",
    "    * mth degree:$(x_1,x_1,x_1,\\ldots ,m \\ times)$\n",
    "\n",
    "  * Taking the product of elements in combination:"
   ]
  },
  {
   "cell_type": "code",
   "execution_count": 3,
   "metadata": {},
   "outputs": [],
   "source": [
    "import itertools \n",
    "import functools \n",
    "\n",
    "def get_combinations(X, degree):\n",
    "    return itertools.combinations_with_replacement(X,degree)\n",
    "\n",
    "def compute_new_feature(items):\n",
    "    return functools.reduce(lambda x ,y : x*y , items)"
   ]
  },
  {
   "cell_type": "code",
   "execution_count": 4,
   "metadata": {},
   "outputs": [
    {
     "name": "stdout",
     "output_type": "stream",
     "text": [
      "4\n"
     ]
    }
   ],
   "source": [
    "char_lst = []\n",
    "for i in range(0, 4):\n",
    "    a = (get_combinations(['a', 'b'], i))\n",
    "\n",
    "    #print((tuple(a)))\n",
    "\n",
    "for tuple in a:\n",
    "    temp = ''\n",
    "    for char in tuple:\n",
    "        temp += char\n",
    "    char_lst.append(temp)\n",
    "\n",
    "print(len(char_lst))"
   ]
  },
  {
   "cell_type": "code",
   "execution_count": 5,
   "metadata": {},
   "outputs": [
    {
     "data": {
      "text/plain": [
       "70"
      ]
     },
     "execution_count": 5,
     "metadata": {},
     "output_type": "execute_result"
    }
   ],
   "source": [
    "len({item: compute_new_feature(item) for item in get_combinations([1,2,3,4,5],4)})"
   ]
  },
  {
   "cell_type": "code",
   "execution_count": 6,
   "metadata": {},
   "outputs": [
    {
     "name": "stdout",
     "output_type": "stream",
     "text": [
      "1\n",
      "[1 2 3 4 5]\n",
      "[[1]\n",
      " [2]\n",
      " [3]\n",
      " [4]\n",
      " [5]]\n"
     ]
    }
   ],
   "source": [
    "x = np.array([1, 2, 3, 4, 5])\n",
    "\n",
    "print(x.ndim)\n",
    "print(x)\n",
    "\n",
    "if x.ndim == 1:\n",
    "    x = x[:, None]\n",
    "\n",
    "print(x)"
   ]
  },
  {
   "cell_type": "code",
   "execution_count": 7,
   "metadata": {},
   "outputs": [
    {
     "data": {
      "text/plain": [
       "array([[[1., 1., 1., 1.]]])"
      ]
     },
     "execution_count": 7,
     "metadata": {},
     "output_type": "execute_result"
    }
   ],
   "source": [
    "features = np.array([np.ones(4)])\n",
    "features = features[:, None]\n",
    "features"
   ]
  },
  {
   "cell_type": "code",
   "execution_count": 8,
   "metadata": {},
   "outputs": [
    {
     "data": {
      "text/plain": [
       "array([[ 1.,  1.,  8.,  1.,  8., 64.],\n",
       "       [ 1.,  5.,  2., 25., 10.,  4.],\n",
       "       [ 1.,  2.,  0.,  4.,  0.,  0.]])"
      ]
     },
     "execution_count": 8,
     "metadata": {},
     "output_type": "execute_result"
    }
   ],
   "source": [
    "def polynomial_transform(x,degree):\n",
    "    if x.ndim ==1:\n",
    "        x=x[:, None]\n",
    "    x_t = x.transpose()\n",
    "    features = [np.ones(len(x))]\n",
    "    for degree in range(1, degree+1):\n",
    "        for items in itertools.combinations_with_replacement(x_t ,degree):\n",
    "            features.append(functools.reduce(lambda x ,y : x*y , items)) \n",
    "    return np.asarray(features).transpose() \n",
    "\n",
    "polynomial_transform(np.array([[1,8],[5,2],[2,0]]),2)"
   ]
  },
  {
   "cell_type": "markdown",
   "metadata": {},
   "source": [
    "**Creating a non-linear training dataset**"
   ]
  },
  {
   "cell_type": "code",
   "execution_count": 9,
   "metadata": {},
   "outputs": [],
   "source": [
    "def create_nonlinear_training_set(func, sample_size, std):\n",
    "    x = np.linspace(0, 1, sample_size)\n",
    "    y = func(x) + np.random.normal(scale=std, size=x.shape)\n",
    "    return x, y\n",
    "\n",
    "def nonlin(x):\n",
    "    return np.sin(2*np.pi*x)"
   ]
  },
  {
   "cell_type": "markdown",
   "metadata": {},
   "source": [
    "**Visualization of training set**"
   ]
  },
  {
   "cell_type": "code",
   "execution_count": 10,
   "metadata": {},
   "outputs": [
    {
     "data": {
      "image/png": "[encoded data removed]",
      "text/plain": [
       "<Figure size 432x288 with 1 Axes>"
      ]
     },
     "metadata": {
      "needs_background": "light"
     },
     "output_type": "display_data"
    }
   ],
   "source": [
    "x, y = create_nonlinear_training_set(nonlin, 50, 0.1)\n",
    "plt.scatter(x, y)\n",
    "plt.show()"
   ]
  },
  {
   "cell_type": "markdown",
   "metadata": {},
   "source": [
    "**Combining different components**"
   ]
  },
  {
   "cell_type": "code",
   "execution_count": 11,
   "metadata": {},
   "outputs": [],
   "source": [
    "def polynomial_transform(x, degree):\n",
    "    if x.ndim == 1:\n",
    "        x = x[:, None]\n",
    "    x_t = x.transpose()\n",
    "    features = [np.ones(len(x))]\n",
    "    for degree in range(1, degree+1):\n",
    "        for items in itertools.combinations_with_replacement(x_t, degree):\n",
    "            features.append(functools.reduce(lambda x, y: x*y, items))\n",
    "    return np.asarray(features).transpose()\n",
    "\n",
    "def coef(X, y):\n",
    "    return np.linalg.pinv(X)@y\n",
    "\n",
    "def model_error(X, y, degree):\n",
    "    X_transformed = polynomial_transform(X, degree)\n",
    "    w = coef(X_transformed, y)\n",
    "    e = X_transformed@w - y\n",
    "    return np.sqrt(1/X_transformed.shape[0] * e.T@e)\n"
   ]
  }
 ],
 "metadata": {
  "interpreter": {
   "hash": "32f02dc107888b055323539767db1f9cf579f03b0ed3a3ace7986ed2d38433ec"
  },
  "kernelspec": {
   "display_name": "Python 3.9.7 ('tensorflow')",
   "language": "python",
   "name": "python3"
  },
  "language_info": {
   "codemirror_mode": {
    "name": "ipython",
    "version": 3
   },
   "file_extension": ".py",
   "mimetype": "text/x-python",
   "name": "python",
   "nbconvert_exporter": "python",
   "pygments_lexer": "ipython3",
   "version": "3.9.7"
  },
  "orig_nbformat": 4
 },
 "nbformat": 4,
 "nbformat_minor": 2
}
