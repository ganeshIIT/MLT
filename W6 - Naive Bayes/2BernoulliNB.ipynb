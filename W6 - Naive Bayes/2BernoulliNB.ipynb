{
 "cells": [
  {
   "cell_type": "markdown",
   "metadata": {},
   "source": [
    "## **Bernoulli Naive Bayes: Implementation**\n",
    "\n",
    "### **Parameter estimation** : Class conditional density and prior\n",
    "\n",
    "Remember that the **class conditional density** for Bernoulli NB is calculated as follows:\n",
    "\n",
    "\\begin{equation} \n",
    "w_{y_c} = \\frac{\\sum_{i=1}^{n} \\mathbb {1} (y^{(i)}=y_c)}{n} \n",
    "\\end{equation} \n",
    "\n",
    "Here : \n",
    "\n",
    "The numerator gives us **total number of examples with label $y_c$ and is divided by the total number of examples in the training set**.\n",
    "\n",
    "While estimating parameters of the model, we process examples from each label separately and estimate the parameters."
   ]
  },
  {
   "cell_type": "code",
   "execution_count": 1,
   "metadata": {},
   "outputs": [],
   "source": [
    "import numpy as np\n",
    "\n",
    "def fit(X, y):\n",
    "    n_samples, n_features = X.shape\n",
    "    class_count = np.unique(y)\n",
    "    n_classes = len(class_count)\n",
    "\n",
    "    #initialize the weight vectors\n",
    "    w = np.zeros((n_classes, n_features), dtype=np.float64)\n",
    "    w_priors = np.zeros(n_classes, dtype=np.float64)\n",
    "\n",
    "    for c in range(n_classes):\n",
    "\n",
    "        # processing examples from each class separately.\n",
    "        # get examples with label = c\n",
    "\n",
    "        X_c = X[y == c]\n",
    "\n",
    "        # estimation of w_{jy_c}: The parameter of bernoulli separately. i.e P(x_j | y_c) ~ Ber(w_{jy_c})\n",
    "\n",
    "        # We have vectorized this operation and we obtain vector w_{y_c} that contains w_{jy_c} for each x_j.\n",
    "\n",
    "        w[c, :] = np.sum(X_c, axis=0)/X_c.shape[0]\n",
    "        w_priors[c] = X_c.shape[0]/(n_samples)\n",
    "\n",
    "    print('Weight vector : \\n', w)\n",
    "    print()\n",
    "    print('Prior : \\n', w_priors)\n"
   ]
  },
  {
   "cell_type": "markdown",
   "metadata": {},
   "source": [
    "Demonstration of above code"
   ]
  },
  {
   "cell_type": "code",
   "execution_count": 2,
   "metadata": {},
   "outputs": [
    {
     "data": {
      "text/plain": [
       "((3, 3), (3, 3))"
      ]
     },
     "execution_count": 2,
     "metadata": {},
     "output_type": "execute_result"
    }
   ],
   "source": [
    "X = np.array([[1,1,40],[1,100,2],[2,3,4]])\n",
    "y = np.array([[0,1,1],[2,1,3],[2,2,1]])\n",
    "\n",
    "X.shape ,y.shape"
   ]
  },
  {
   "cell_type": "code",
   "execution_count": 3,
   "metadata": {},
   "outputs": [
    {
     "name": "stdout",
     "output_type": "stream",
     "text": [
      "[1] [  1  40 100   4] [1 2 3] [2]\n",
      "\n",
      "(1,) (4,) (3,) (1,)\n"
     ]
    }
   ],
   "source": [
    "X_0 = X[y == 0]\n",
    "X_1 = X[y == 1]\n",
    "X_2 = X[y == 2]\n",
    "X_3 = X[y == 3]\n",
    "\n",
    "print(X_0, X_1, X_2, X_3)\n",
    "print()\n",
    "print(X_0.shape ,X_1.shape ,X_2.shape ,X_3.shape)"
   ]
  },
  {
   "cell_type": "code",
   "execution_count": 4,
   "metadata": {},
   "outputs": [
    {
     "name": "stdout",
     "output_type": "stream",
     "text": [
      "Weight vector : \n",
      " [[ 1.    1.    1.  ]\n",
      " [36.25 36.25 36.25]\n",
      " [ 2.    2.    2.  ]\n",
      " [ 2.    2.    2.  ]]\n",
      "\n",
      "Prior : \n",
      " [0.33333333 1.33333333 1.         0.33333333]\n"
     ]
    }
   ],
   "source": [
    "fit(X, y)"
   ]
  },
  {
   "cell_type": "markdown",
   "metadata": {},
   "source": [
    "Let's look at the parameter estimation in step by step manner:"
   ]
  },
  {
   "cell_type": "code",
   "execution_count": 5,
   "metadata": {},
   "outputs": [
    {
     "data": {
      "text/plain": [
       "((4, 2), (4,))"
      ]
     },
     "execution_count": 5,
     "metadata": {},
     "output_type": "execute_result"
    }
   ],
   "source": [
    "# feature matrix with shape (4,2). x_1 ~ Ber(w_1), x_2~ Ber(w_2)\n",
    "X = np.array([[1, 0], [0, 1], [0, 1], [1, 0]])\n",
    "\n",
    "# label vector with shape(4,)\n",
    "y = np.array([1, 0, 0, 1])\n",
    "\n",
    "X.shape , y.shape"
   ]
  },
  {
   "cell_type": "code",
   "execution_count": 6,
   "metadata": {},
   "outputs": [
    {
     "name": "stdout",
     "output_type": "stream",
     "text": [
      "[[0 1]\n",
      " [0 1]]\n",
      "[[1 0]\n",
      " [1 0]]\n",
      "\n",
      "(2, 2) (2, 2)\n"
     ]
    }
   ],
   "source": [
    "X_0 = X[y == 0]\n",
    "X_1 = X[y == 1]\n",
    "\n",
    "\n",
    "print(X_0)\n",
    "print(X_1)\n",
    "print()\n",
    "print(X_0.shape ,X_1.shape)"
   ]
  },
  {
   "cell_type": "code",
   "execution_count": 7,
   "metadata": {},
   "outputs": [
    {
     "name": "stdout",
     "output_type": "stream",
     "text": [
      "Weight vector : \n",
      " [[0. 1.]\n",
      " [1. 0.]]\n",
      "\n",
      "Prior : \n",
      " [0.5 0.5]\n"
     ]
    }
   ],
   "source": [
    "# call fit with feature matrix and label vector as arguments.\n",
    "fit(X, y)"
   ]
  },
  {
   "cell_type": "markdown",
   "metadata": {},
   "source": [
    "A few observations:\n",
    "\n",
    "* Since there are 50% examples of each class 1 and class 0, the prior probability vector has 0.5 for each class.\n",
    "\n",
    "* Note that:\n",
    "\n",
    "  * For class 0, $x_1=0 \\ \\text {and} \\ x_2=1$ and hence the parameters of bernoulli distributions are 0 and 1 respectively.\n",
    "\n",
    "   * $w_{01}=0,w_{02}=1$\n",
    "\n",
    "* For class 1, $x_1=1 \\ \\text {and} \\ x_2=0$ and hence the parameters of bernoulli distributions are 0 and 1 respectively.\n",
    "\n",
    "   * $w_{11}=1,w_{21}=0$\n",
    "\n",
    "Let's understand class conditional density calculation step-by-step :\n"
   ]
  },
  {
   "cell_type": "markdown",
   "metadata": {},
   "source": [
    "##### **STEP 1** : Filter examples for a class ,say c=1"
   ]
  },
  {
   "cell_type": "code",
   "execution_count": 8,
   "metadata": {},
   "outputs": [
    {
     "data": {
      "text/plain": [
       "array([[1, 0],\n",
       "       [1, 0]])"
      ]
     },
     "execution_count": 8,
     "metadata": {},
     "output_type": "execute_result"
    }
   ],
   "source": [
    "X_c = X[y==1]\n",
    "X_c"
   ]
  },
  {
   "cell_type": "markdown",
   "metadata": {},
   "source": [
    "##### **STEP 2** : Feature wise sum"
   ]
  },
  {
   "cell_type": "code",
   "execution_count": 9,
   "metadata": {},
   "outputs": [
    {
     "data": {
      "text/plain": [
       "array([2, 0])"
      ]
     },
     "execution_count": 9,
     "metadata": {},
     "output_type": "execute_result"
    }
   ],
   "source": [
    "np.sum(X_c, axis=0)"
   ]
  },
  {
   "cell_type": "markdown",
   "metadata": {},
   "source": [
    "##### **STEP 3**: Dividing by class count"
   ]
  },
  {
   "cell_type": "code",
   "execution_count": 10,
   "metadata": {},
   "outputs": [
    {
     "data": {
      "text/plain": [
       "array([1., 0.])"
      ]
     },
     "execution_count": 10,
     "metadata": {},
     "output_type": "execute_result"
    }
   ],
   "source": [
    "w = np.sum(X_c, axis=0)/X_c.shape[0]\n",
    "w"
   ]
  },
  {
   "cell_type": "markdown",
   "metadata": {},
   "source": [
    "### **Incorporating Laplace correction**\n",
    "\n",
    "The zero (0) value for parameter is a problem as it leads to 0 posterior probability. \n",
    "\n",
    "We can fix this problem with **Laplace correction** or by adding a small dummy counts in each class for each feature.\n",
    "\n",
    "* The **class priors** with laplace correction can be calculated as follows:\n",
    "\n",
    "\\begin{equation} \n",
    "p(y=y_c)= \\frac{\\sum \\limits_{i=1}^n 1(y^{(i)}=y_c) + \\alpha}{n+k\\alpha}\n",
    "\\end{equation}\n",
    "\n",
    "* The **class conditional density** with laplace correction is computed as follows:\n",
    "\n",
    "\\begin{equation} \n",
    "\\frac{\\sum \\limits_{i=1}^n 1(y^{(i)}=y_c)x_j^{(i)}+\\alpha}{\\sum \\limits_{i=1}^n 1(y^{(i)}=y_c)+2\\alpha}\n",
    "\\end{equation} \n",
    "\n",
    "In both cases, we use $\\alpha=1$. (**Laplace correction or smoothing**)\n"
   ]
  },
  {
   "cell_type": "markdown",
   "metadata": {},
   "source": [
    "### **Inference** \n",
    "#### Determine class label\n",
    "\n",
    "Remember that we assign class label $y_c$ that results in the largest product of likelihood and prior.\n",
    "\n",
    "\\begin{align} \n",
    "y_c &=& \\text{argmax}_{y_c}\\left(\\sum \\limits_{j=1}^m \\log \\ p(x_j|y_c;\\mathbf w)\\right)+ \\log \\ p(y_c;\\mathbf w) \\\\\n",
    "\\end{align}\n",
    "\n",
    "\\begin{align} \n",
    "&=& \\text{argmax}_{y_c} \\left(\\sum \\limits_{j=1}^m w_{jy_c}^{x_j}(1-w_{jy_c})^{1-x_j}\\right)+\\log \\ p(y_c;\\mathbf w)\\\\\n",
    "\\end{align}\n",
    "\n",
    "\\begin{align} \n",
    "&=& \\text{argmax}_{y_c}\\left(\\sum \\limits_{j=1}^m x_j \\log \\ w_{jy_c}+(1-x_j) \\log \\ (1-w_{jy_c})\\right)+\\log \\ p(y_c; \\mathbf w)\n",
    "\\end{align} \n",
    "\n",
    "**NOTE :** We performed these computations in log space to avoid problems with underflow.\n",
    "\n",
    "Further with vectorization, this is implemented as follows :\n",
    "\n",
    "\\begin{align}\n",
    "y=\\text{argmax}_y \\mathbf X \\log \\mathbf w^T + (1-\\mathbf X) \\log (1-\\mathbf w)^T + \\log \\mathbf w_{\\text {prior}}\n",
    "\\end{align}"
   ]
  },
  {
   "cell_type": "markdown",
   "metadata": {},
   "source": [
    "### **Implementation**"
   ]
  },
  {
   "cell_type": "code",
   "execution_count": 11,
   "metadata": {},
   "outputs": [],
   "source": [
    "class BernoulliNB(object):\n",
    "    def __init__(self,alpha=1.0):\n",
    "        self.alpha = alpha\n",
    "\n",
    "    def fit(self,X,y):\n",
    "        n_samples, n_features = X.shape\n",
    "        class_count = np.unique(y)\n",
    "        n_classes = len(class_count)\n",
    "\n",
    "        self.w = np.zeros((n_classes, n_features),dtype=np.float64)\n",
    "        self.w_priors = np.zeros(n_classes,dtype=np.float64)\n",
    "\n",
    "        for  c in range(n_classes):\n",
    "            X_c = X[y==c]\n",
    "\n",
    "            self.w[c,:]= (np.sum(X_c, axis=0)+ self.alpha)/(X_c.shape[0]+2*self.alpha)\n",
    "\n",
    "            self.w_priors[c] = (X_c.shape[0]+self.alpha)/(float(n_samples) + n_classes * self.alpha)\n",
    "\n",
    "        print('Class conditional density :', self.w)\n",
    "        print() \n",
    "        print('Prior :', self.w_priors)\n",
    "        \n",
    "\n",
    "    def log_likelihood_prior_prod(self,X):\n",
    "        return X@(np.log(self.w).T)+(1-X)@np.log((1-self.w).T)+ np.log(self.w_priors)\n",
    "\n",
    "    def predict_proba(self,X):\n",
    "        q = self.log_likelihood_prior_prod(X)\n",
    "        return np.exp(q)/np.expand_dims(np.sum(np.exp(q),axis=1),axis=1)\n",
    "\n",
    "    #print(np.exp(q))\n",
    "    #return np.expand_dims(np.sum(np.exp(q),axis=1),axis=1)\n",
    "\n",
    "    def predict(self,X):\n",
    "        return np.argmax(self.log_likelihood_prior_prod(X),axis=1)"
   ]
  },
  {
   "cell_type": "markdown",
   "metadata": {},
   "source": [
    "### **Demonstration**\n",
    "\n",
    "We will demonstrate working on least square classification in the following set ups:\n",
    "1. Binary classification set up.\n",
    "\n",
    "2. Multi-class classification set up "
   ]
  },
  {
   "cell_type": "markdown",
   "metadata": {},
   "source": [
    "#### DEMO 1 : *Binary classification*"
   ]
  },
  {
   "cell_type": "code",
   "execution_count": 12,
   "metadata": {},
   "outputs": [
    {
     "name": "stdout",
     "output_type": "stream",
     "text": [
      "Class conditional density : [[0.25 0.75]\n",
      " [0.75 0.25]]\n",
      "\n",
      "Prior : [0.5 0.5]\n"
     ]
    }
   ],
   "source": [
    "ber_nb = BernoulliNB() \n",
    "ber_nb.fit(X ,y)"
   ]
  },
  {
   "cell_type": "code",
   "execution_count": 13,
   "metadata": {},
   "outputs": [
    {
     "data": {
      "text/plain": [
       "array([1, 0, 0, 1], dtype=int64)"
      ]
     },
     "execution_count": 13,
     "metadata": {},
     "output_type": "execute_result"
    }
   ],
   "source": [
    "#Let's predict classes for input example.\n",
    "ber_nb.predict(X)"
   ]
  },
  {
   "cell_type": "code",
   "execution_count": 14,
   "metadata": {},
   "outputs": [
    {
     "data": {
      "text/plain": [
       "array([[-3.4657359 , -1.26851133],\n",
       "       [-1.26851133, -3.4657359 ],\n",
       "       [-1.26851133, -3.4657359 ],\n",
       "       [-3.4657359 , -1.26851133]])"
      ]
     },
     "execution_count": 14,
     "metadata": {},
     "output_type": "execute_result"
    }
   ],
   "source": [
    "# The class labels are inferred by selecting the label that results into highest value of product of likelihood and priors:\n",
    "\n",
    "ber_nb.log_likelihood_prior_prod(X)"
   ]
  },
  {
   "cell_type": "markdown",
   "metadata": {},
   "source": [
    "Observe that based on this calculation, the first example gets class 1, second one gets class 0, third also gets class 0 and the last one gets class 1.\n"
   ]
  },
  {
   "cell_type": "code",
   "execution_count": 15,
   "metadata": {},
   "outputs": [
    {
     "data": {
      "text/plain": [
       "array([[0.1, 0.9],\n",
       "       [0.9, 0.1],\n",
       "       [0.9, 0.1],\n",
       "       [0.1, 0.9]])"
      ]
     },
     "execution_count": 15,
     "metadata": {},
     "output_type": "execute_result"
    }
   ],
   "source": [
    "# let's predict probabilities for each example.\n",
    "ber_nb.predict_proba(X)"
   ]
  },
  {
   "cell_type": "markdown",
   "metadata": {},
   "source": [
    "#### DEMO 2 : *Multi-class classification*\n",
    "\n",
    "The NB implementation also works in multi-class setting. Here is an example with three classes."
   ]
  },
  {
   "cell_type": "code",
   "execution_count": 16,
   "metadata": {},
   "outputs": [],
   "source": [
    "X = np.array([[1,0],[0,1],[0,1],[1,0],[1,1],[1,1]])\n",
    "y = np.array([1, 0, 0, 1, 2, 2])"
   ]
  },
  {
   "cell_type": "markdown",
   "metadata": {},
   "source": [
    "Estimation of parameters of Bernoulli distribution and class priors."
   ]
  },
  {
   "cell_type": "code",
   "execution_count": 17,
   "metadata": {},
   "outputs": [
    {
     "name": "stdout",
     "output_type": "stream",
     "text": [
      "Class conditional density : [[0.25 0.75]\n",
      " [0.75 0.25]\n",
      " [0.75 0.75]]\n",
      "\n",
      "Prior : [0.33333333 0.33333333 0.33333333]\n"
     ]
    }
   ],
   "source": [
    "ber_nb = BernoulliNB() \n",
    "ber_nb.fit(X,y)"
   ]
  },
  {
   "cell_type": "code",
   "execution_count": 18,
   "metadata": {},
   "outputs": [
    {
     "data": {
      "text/plain": [
       "array([[-3.87120101, -1.67397643, -2.77258872],\n",
       "       [-1.67397643, -3.87120101, -2.77258872],\n",
       "       [-1.67397643, -3.87120101, -2.77258872],\n",
       "       [-3.87120101, -1.67397643, -2.77258872],\n",
       "       [-2.77258872, -2.77258872, -1.67397643],\n",
       "       [-2.77258872, -2.77258872, -1.67397643]])"
      ]
     },
     "execution_count": 18,
     "metadata": {},
     "output_type": "execute_result"
    }
   ],
   "source": [
    "ber_nb.log_likelihood_prior_prod(X)"
   ]
  },
  {
   "cell_type": "code",
   "execution_count": 19,
   "metadata": {},
   "outputs": [
    {
     "data": {
      "text/plain": [
       "array([[0.07692308, 0.69230769, 0.23076923],\n",
       "       [0.69230769, 0.07692308, 0.23076923],\n",
       "       [0.69230769, 0.07692308, 0.23076923],\n",
       "       [0.07692308, 0.69230769, 0.23076923],\n",
       "       [0.2       , 0.2       , 0.6       ],\n",
       "       [0.2       , 0.2       , 0.6       ]])"
      ]
     },
     "execution_count": 19,
     "metadata": {},
     "output_type": "execute_result"
    }
   ],
   "source": [
    "# let's predict probabilities for each example.\n",
    "ber_nb.predict_proba(X)"
   ]
  }
 ],
 "metadata": {
  "kernelspec": {
   "display_name": "Python 3.9.7 ('tensorflow')",
   "language": "python",
   "name": "python3"
  },
  "language_info": {
   "codemirror_mode": {
    "name": "ipython",
    "version": 3
   },
   "file_extension": ".py",
   "mimetype": "text/x-python",
   "name": "python",
   "nbconvert_exporter": "python",
   "pygments_lexer": "ipython3",
   "version": "3.9.7"
  },
  "orig_nbformat": 4,
  "vscode": {
   "interpreter": {
    "hash": "32f02dc107888b055323539767db1f9cf579f03b0ed3a3ace7986ed2d38433ec"
   }
  }
 },
 "nbformat": 4,
 "nbformat_minor": 2
}
