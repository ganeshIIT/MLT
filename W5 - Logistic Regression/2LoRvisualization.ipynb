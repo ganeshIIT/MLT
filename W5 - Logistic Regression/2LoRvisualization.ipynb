{
 "cells": [
  {
   "cell_type": "markdown",
   "metadata": {},
   "source": [
    "### **Logistic regression visualization**\n"
   ]
  },
  {
   "cell_type": "markdown",
   "metadata": {},
   "source": [
    "\n",
    "### 1. **Loss surface**\n",
    "\n",
    "We had visualized logistic regression loss function in the slides.\n",
    "Here is the step by step process to generate this visualization:\n",
    "\n",
    "1. Generate a grid of weights $=w_1 \\text { and } w_2$ \n",
    "\n",
    "2. For each point on the grid, calculate cross entropy on the fix training set.\n",
    "\n",
    "3. Plot contour of weights and loss.\n",
    "\n",
    "The basic idea here is to calculate loss for a given weight vector on a fixed estimator and training set."
   ]
  },
  {
   "cell_type": "code",
   "execution_count": 1,
   "metadata": {},
   "outputs": [],
   "source": [
    "from matplotlib import cm \n",
    "from matplotlib.colors import colorConverter, ListedColormap"
   ]
  },
  {
   "cell_type": "markdown",
   "metadata": {},
   "source": [
    "We need to instantiate a logistic regression estimator for cross entropy calculation."
   ]
  },
  {
   "cell_type": "code",
   "execution_count": 2,
   "metadata": {},
   "outputs": [],
   "source": [
    "import numpy as np\n",
    "\n",
    "def create_toy_data():\n",
    "    x0 = np.random.normal(size=50).reshape(-1,2)-1\n",
    "    x1 = np.random.normal(size=50).reshape(-1,2)+1\n",
    "    \n",
    "    return np.concatenate([x0,x1]),np.concatenate([np.zeros(x1.shape[0]),np.ones(x1.shape[0])]).astype(int) "
   ]
  },
  {
   "cell_type": "code",
   "execution_count": 3,
   "metadata": {},
   "outputs": [],
   "source": [
    "import itertools\n",
    "import functools\n",
    "\n",
    "def polynomial_transform(x, degree):\n",
    "    if x.ndim == 1:\n",
    "        x = x[:, None]\n",
    "    x_t = x.transpose()\n",
    "    features = [np.ones(len(x))]\n",
    "\n",
    "    for degree in range(1, degree+1):\n",
    "        for items in itertools.combinations_with_replacement(x_t, degree):\n",
    "            features.append(functools.reduce(lambda x, y: x*y, items))\n",
    "    return np.asarray(features).transpose()"
   ]
  },
  {
   "cell_type": "code",
   "execution_count": 4,
   "metadata": {},
   "outputs": [],
   "source": [
    "class LogisticRegression(object):\n",
    "  #y_hat = sigmoid(X@w)\n",
    "\n",
    "  def set_weight_vector(self,w):\n",
    "    self.w = w \n",
    "\n",
    "  def linear_combination(self,X):\n",
    "    #z=x@w \n",
    "    return X@self.w \n",
    "\n",
    "  def sigmoid(self,z):\n",
    "    return 1/(1+np.exp(-z)) \n",
    "\n",
    "  def activation(self,X):\n",
    "    #act = sigmoid(Xw)\n",
    "    return self.sigmoid(self.linear_combination(X))\n",
    "\n",
    "  def predict(self,X, threshold:float=0.5):\n",
    "    return (self.activation(X)>threshold).astype(int)\n",
    "\n",
    "  def loss(self,X,y,reg_rate:float):\n",
    "    predicted_prob = self.activation(X) \n",
    "    return (-1*(np.sum(y*np.log(predicted_prob)+(1-y)*np.log(1-predicted_prob)))) + reg_rate*np.dot(np.transpose(self.w),self.w)\n",
    "  \n",
    "  def calculate_gradient(self,X,y,reg_rate):\n",
    "    return X.T@(self.activation(X)-y) + reg_rate*self.w \n",
    "\n",
    "  def update_weights(self,grad,lr):\n",
    "    return self.w -lr*grad\n",
    "\n",
    "  def gd(self,X,y, num_epochs,lr, reg_rate):\n",
    "    self.w = np.zeros(X.shape[1])\n",
    "    self.w_all=[] \n",
    "    self.err_all=[]\n",
    "    for i in np.arange(0,num_epochs):\n",
    "      dJdW = self.calculate_gradient(X,y,reg_rate) #grad=djdw \n",
    "      self.w_all.append(self.w)\n",
    "      self.err_all.append(self.loss(X,y,reg_rate))\n",
    "      self.w = self.update_weights(dJdW,lr)\n",
    "    return self.w"
   ]
  },
  {
   "cell_type": "code",
   "execution_count": 5,
   "metadata": {},
   "outputs": [],
   "source": [
    "log_reg_visualization = LogisticRegression()"
   ]
  },
  {
   "cell_type": "markdown",
   "metadata": {},
   "source": [
    "We also need training data for calculation of loss for a given weight vector."
   ]
  },
  {
   "cell_type": "code",
   "execution_count": 6,
   "metadata": {},
   "outputs": [],
   "source": [
    "from sklearn.model_selection import train_test_split\n",
    "\n",
    "feature_matrix, label_vector = create_toy_data() \n",
    "feature_matrix_bias = polynomial_transform(feature_matrix, degree=1)\n",
    "\n",
    "x_train, x_test, y_train, y_test = train_test_split(feature_matrix_bias,label_vector)"
   ]
  },
  {
   "cell_type": "code",
   "execution_count": 7,
   "metadata": {},
   "outputs": [
    {
     "data": {
      "text/plain": [
       "((37, 3), (13, 3), (37,), (13,))"
      ]
     },
     "execution_count": 7,
     "metadata": {},
     "output_type": "execute_result"
    }
   ],
   "source": [
    "x_train.shape, x_test.shape, y_train.shape, y_test.shape"
   ]
  },
  {
   "cell_type": "markdown",
   "metadata": {},
   "source": [
    "Next we generate a grid of 25 weights."
   ]
  },
  {
   "cell_type": "code",
   "execution_count": 8,
   "metadata": {},
   "outputs": [],
   "source": [
    "point_count = 25\n",
    "\n",
    "w1 = np.linspace(-5,5, num=point_count)\n",
    "w2 = np.linspace(-5,5, num=point_count)\n",
    "\n",
    "w1_list, w2_list = np.meshgrid(w1,w2)"
   ]
  },
  {
   "cell_type": "markdown",
   "metadata": {},
   "source": [
    "Calculate loss at each point on the grid."
   ]
  },
  {
   "cell_type": "code",
   "execution_count": 9,
   "metadata": {},
   "outputs": [],
   "source": [
    "# initialize loss matrix\n",
    "loss = np.zeros((point_count, point_count)) \n",
    "\n",
    "# fill the loss matrix for each combination of weights\n",
    "\n",
    "for i in range(point_count):\n",
    "    for j in range(point_count):\n",
    "        weight_vector = np.array([0,w1_list[i,j], w2_list[i,j]])\n",
    "\n",
    "        log_reg_visualization.set_weight_vector(weight_vector)\n",
    "        loss[i,j] = log_reg_visualization.loss(x_train, y_train, reg_rate=0)"
   ]
  },
  {
   "cell_type": "markdown",
   "metadata": {},
   "source": [
    "Now plot the loss surface."
   ]
  },
  {
   "cell_type": "code",
   "execution_count": 10,
   "metadata": {},
   "outputs": [
    {
     "data": {
      "image/png": "[encoded data removed]",
      "text/plain": [
       "<Figure size 432x288 with 2 Axes>"
      ]
     },
     "metadata": {
      "needs_background": "light"
     },
     "output_type": "display_data"
    }
   ],
   "source": [
    "import matplotlib.pyplot as plt\n",
    "\n",
    "plt.figure(figsize=(6, 4))\n",
    "plt.contourf(w1_list, w2_list, loss, 20, cmap=cm.viridis)\n",
    "\n",
    "cbar = plt.colorbar()\n",
    "cbar.ax.set_ylabel('$J\\mathbf{w})$', fontsize=12)\n",
    "\n",
    "plt.xlabel('$w_1$', fontsize=12)\n",
    "plt.ylabel('$w_2$', fontsize=12)\n",
    "plt.title('Loss function contours')\n",
    "plt.show()"
   ]
  },
  {
   "cell_type": "markdown",
   "metadata": {},
   "source": [
    "### 2. **Gradient descent trajectory**"
   ]
  },
  {
   "cell_type": "code",
   "execution_count": 11,
   "metadata": {},
   "outputs": [
    {
     "data": {
      "text/plain": [
       "array([0.77181357, 3.75284553, 4.56612429])"
      ]
     },
     "execution_count": 11,
     "metadata": {},
     "output_type": "execute_result"
    }
   ],
   "source": [
    "log_reg_visualization.gd(x_train, y_train, num_epochs=1000, reg_rate=0,lr=1e-2)"
   ]
  },
  {
   "cell_type": "markdown",
   "metadata": {},
   "source": [
    "Here we make use of weights stored during the gradient descent procedure."
   ]
  },
  {
   "cell_type": "code",
   "execution_count": 12,
   "metadata": {},
   "outputs": [
    {
     "data": {
      "image/png": "[encoded data removed]",
      "text/plain": [
       "<Figure size 432x288 with 2 Axes>"
      ]
     },
     "metadata": {
      "needs_background": "light"
     },
     "output_type": "display_data"
    }
   ],
   "source": [
    "import matplotlib.pyplot as plt\n",
    "\n",
    "#First plot the loss contours based on the grid in the previous subsection.\n",
    "plt.figure(figsize=(6, 4))\n",
    "plt.contourf(w1_list, w2_list, loss, 20, alpha=0.75, cmap=cm.viridis)\n",
    "cbar = plt.colorbar()\n",
    "cbar.ax.set_ylabel('loss')\n",
    "\n",
    "# plot weights after each few epochs\n",
    "for i in range(1, 900, 100):\n",
    "    w1 = log_reg_visualization.w_all[i-1]\n",
    "    w2 = log_reg_visualization.w_all[i+100]\n",
    "\n",
    "    #plt the weight loss values that represents the update\n",
    "    plt.plot(w1[1], w1[2], marker='o', color='c')  # Plot the weight-loss value.\n",
    "    plt.plot([w1[1], w2[1]], [w1[2], w2[2]], linestyle='-', color='b')\n",
    "\n",
    "#plot the last weight\n",
    "w1 = log_reg_visualization.w_all[-1]\n",
    "plt.plot(w1[1], w1[2], marker='o', color='r')\n",
    "\n",
    "#show figure\n",
    "\n",
    "plt.xlabel('$w_1$', fontsize=12)\n",
    "plt.ylabel('$w_2$', fontsize=12)\n",
    "plt.title(\"Gradient descent updates on loss surface\")\n",
    "plt.show()\n"
   ]
  }
 ],
 "metadata": {
  "kernelspec": {
   "display_name": "Python 3.9.7 ('tensorflow')",
   "language": "python",
   "name": "python3"
  },
  "language_info": {
   "codemirror_mode": {
    "name": "ipython",
    "version": 3
   },
   "file_extension": ".py",
   "mimetype": "text/x-python",
   "name": "python",
   "nbconvert_exporter": "python",
   "pygments_lexer": "ipython3",
   "version": "3.9.7"
  },
  "orig_nbformat": 4,
  "vscode": {
   "interpreter": {
    "hash": "32f02dc107888b055323539767db1f9cf579f03b0ed3a3ace7986ed2d38433ec"
   }
  }
 },
 "nbformat": 4,
 "nbformat_minor": 2
}
