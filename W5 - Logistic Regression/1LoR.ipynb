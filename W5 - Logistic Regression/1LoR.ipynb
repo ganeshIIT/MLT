{
 "cells": [
  {
   "cell_type": "markdown",
   "metadata": {},
   "source": [
    "## **Logistic Regression Implementation**\n",
    "* Logisitic regression is the **workhorse** of machine learning.\n",
    "\n",
    "* Before deep learning era, logisitc regression was **the default choice** for solving  real life classification problems with hundreds of thousands of features.\n",
    "\n",
    "* It works in binary, multi-class and multi-label classification set ups.\n",
    "\n",
    "* The two limitations of using a linear regression model for classification problems are:\n",
    "\n",
    "    * the predicted value may exceed the range (0,1)\n",
    "    \n",
    "    * error rate increases if the data has outliers."
   ]
  },
  {
   "cell_type": "markdown",
   "metadata": {},
   "source": [
    "### **Objective** \n",
    "In this notebook, we will implement **binary logistic regression** from scratch and employ it for solving a couple of classification problems.\n",
    "\n",
    "* In one of the settings, we have linearly separable classes and the other one has non-linear decision boundary between classes.\n",
    "\n",
    "* The first problem can be addressed with basic logistic regression classifier, while the second problem require an additional step of **polynomial transformation** before using logisitic regression.\n"
   ]
  },
  {
   "cell_type": "markdown",
   "metadata": {},
   "source": [
    "### **Importing libraries**\n",
    "\n",
    "Let's begin by importing basic python libraries that are required for the implementation:\n",
    "\n",
    "* `numpy` for implementing components of logistic regression in vectrorized form.\n",
    "\n",
    "* `matplotlib` and `seaborn` for visualization.\n",
    "\n",
    "* `Math` and `Latex` libraries for proper rendering of mathematical expressions."
   ]
  },
  {
   "cell_type": "code",
   "execution_count": 1,
   "metadata": {},
   "outputs": [],
   "source": [
    "from IPython.display import display, Math, Latex\n",
    "\n",
    "import numpy as np\n",
    "import pandas as pd \n",
    "import matplotlib.pyplot as plt\n",
    "import seaborn as sns"
   ]
  },
  {
   "cell_type": "markdown",
   "metadata": {},
   "source": [
    "As a good practice, set the random seed in order to reproduce same results across different runs of this colab.\n",
    "\n",
    "We will set it to 123, you can set it to any other number of your choice."
   ]
  },
  {
   "cell_type": "code",
   "execution_count": 2,
   "metadata": {},
   "outputs": [],
   "source": [
    "np.random.seed(123)"
   ]
  },
  {
   "cell_type": "markdown",
   "metadata": {},
   "source": [
    "### **Implementation**\n",
    "In this first part of this exercise, we will implement **individual components** of binary logistic regression one by one :"
   ]
  },
  {
   "cell_type": "markdown",
   "metadata": {},
   "source": [
    "#### 1. **Model**\n",
    "\n",
    "* As you know, the logisitic regression classifier calculates the probability of a sample, represented with a feature vector $ \\mathbf x $, belonging to class 1: $ P(y=1| \\mathbf x) $.\n",
    "\n",
    "* It has two steps:\n",
    "  1. **linear combination of features** and obtain $z = \\mathbf {w^Tx}$.\n",
    "\n",
    "  2. The second step applies **sigmoid of logistic activation** on $z$ to obtain the probability:\n",
    "  \n",
    "  $$ P(y=1| \\mathbf x) = \\text {sigmoid}(z)$$\n",
    "  $$     =\\frac{1}{1+e^{-z}}$$\n",
    "\n",
    "  As we have discussed several times in the past, performing this computation example is not efficient. We can make it efficient by rewriting it in vectorized form.\n",
    "\n",
    " The vectorized form enables us to compute probabilities for several examples all at once as follows:"
   ]
  },
  {
   "cell_type": "markdown",
   "metadata": {},
   "source": [
    "  1. By vectorizing **linear combination of features** leading to efficient computation: \n",
    "  $$ \\mathbf z_{n \\times 1} = \\mathbf {X_{n \\times m}w_{m \\times 1}} $$\n",
    "    Here : \n",
    "\n",
    "  * The feature matrix $ \\mathbf X$ has shape $(n,m)$, \n",
    "\n",
    "  * The weight vector $\\mathbf w$ has m components and \n",
    "\n",
    "  * The resulting linear combination $ \\mathbf z$ is a vector with n components.\n",
    "  \n",
    "Let's implement linear combination in vectorized form."
   ]
  },
  {
   "cell_type": "code",
   "execution_count": 3,
   "metadata": {},
   "outputs": [],
   "source": [
    "def linear_combination(X,w):\n",
    "    z = X@w\n",
    "    return z"
   ]
  },
  {
   "cell_type": "markdown",
   "metadata": {},
   "source": [
    "2. By vectorizing **sigmoid or logistic activation** to obtain a vector of probability or activation:\n",
    "\n",
    "$$ P(y=1| \\mathbf X)_{n \\times 1}= \\text {sigmoid}(\\mathbf z_{n \\times 1})$$ \n",
    "\n",
    "  * The sigmoid function is applied on the vector $\\mathbf z$ with $n$ components and the result is **probability** or an **activation vector** with $n$ components.\n",
    "\n",
    "  Let's implement sigmoid funciton in a vectorized form."
   ]
  },
  {
   "cell_type": "code",
   "execution_count": 4,
   "metadata": {},
   "outputs": [],
   "source": [
    "def sigmoid(z):\n",
    "    return 1/(1+np.exp(-z))"
   ]
  },
  {
   "cell_type": "markdown",
   "metadata": {},
   "source": [
    "Further we apply vectorized prediction or inference function on activations to obtain a class label.\n",
    "\n",
    " Specifically, if **activation or probability > threshold**, then we label the sample with class 1, else 0."
   ]
  },
  {
   "cell_type": "code",
   "execution_count": 5,
   "metadata": {},
   "outputs": [],
   "source": [
    "def predict(X ,w,threshold:float):\n",
    "    return np.where(sigmoid(linear_combination(X,w)) > threshold,1,0)"
   ]
  },
  {
   "cell_type": "markdown",
   "metadata": {},
   "source": [
    "Let's label a couple of samples through the code that we have written so far : \n",
    "\n",
    "* Two samples - each with two features : `np.array([1,20,2],[1,2,2])` where, the first one is a dummy feature set to 1 corresponding to the bias.\n",
    "\n",
    "* weight vector : `np.array([-1,0,1])` \n"
   ]
  },
  {
   "cell_type": "code",
   "execution_count": 6,
   "metadata": {},
   "outputs": [],
   "source": [
    "feature_matrix = np.array([[1,20,2],[1,2,2]])\n",
    "weight_vector = np.array([-1,0,1])"
   ]
  },
  {
   "cell_type": "code",
   "execution_count": 7,
   "metadata": {},
   "outputs": [
    {
     "name": "stdout",
     "output_type": "stream",
     "text": [
      "Shape of feature matrix :  (2, 3)\n",
      "Shape of weight vector :  (3,)\n"
     ]
    }
   ],
   "source": [
    "print('Shape of feature matrix : ', feature_matrix.shape)\n",
    "print('Shape of weight vector : ', weight_vector.shape)"
   ]
  },
  {
   "cell_type": "code",
   "execution_count": 8,
   "metadata": {},
   "outputs": [
    {
     "name": "stdout",
     "output_type": "stream",
     "text": [
      "Shape of class labels :  (2,)\n",
      "The class label vector :  [1 1]\n"
     ]
    }
   ],
   "source": [
    "class_labels = predict(feature_matrix, weight_vector, 0.5)\n",
    "\n",
    "print('Shape of class labels : ', class_labels.shape)\n",
    "print('The class label vector : ', class_labels)"
   ]
  },
  {
   "cell_type": "markdown",
   "metadata": {},
   "source": [
    "Both the sample are labeled with class 1."
   ]
  },
  {
   "cell_type": "markdown",
   "metadata": {},
   "source": [
    "#### 2. **Loss function**\n",
    "\n",
    "Next we will implement binary cross entropy (BCE) loss with regularization. The base loss without regularization can be obtained by setting the regularizaiton rate $ \\lambda$ to 0.\n",
    "\n",
    "* The generic form of loss is as follows: \n",
    "\n",
    "        BCE = BCE on training examples +  λ regularization penalty\n",
    "\n",
    "* Note that the **regularization rate $ \\lambda$** controls the amount of regularization penalty to be used.\n",
    "\n",
    "\n",
    "* By setting $\\lambda =0$, we get binary cross entropy loss:\n",
    "  \n",
    "                BCE = BCE on training examples + 0  \n",
    "    \n",
    "                    = BCE on training examples\n",
    "\n",
    "* We use both $L_{1}$ and $L_{2}$ regularization in logistic regression.\n",
    "\n",
    "* Using $L_1$ regularization, the loss function is calculated as follows:\n",
    "\n",
    "\\begin{equation} \n",
    "J(\\mathbf w)=-\\left( \\sum_{i=1}^{n}y^{(i)} \\text {log}(\\text {sigmoid}(\\mathbf w^Tx^{(i)}))+(1-y^{(i)}) \\text {log}(1- \\text {sigmoid}(\\mathbf w^Tx^{(i)}))\\right) + \\frac{\\lambda}{2} ||\\mathbf w||\n",
    "\\end{equation}\n",
    "\n",
    "* Using $L_2$ **regularization**, the loss function is calculated as:\n",
    "\n",
    "\\begin{equation} \n",
    "J(\\mathbf w)=-\\left( \\sum_{i=1}^{n}y^{(i)} \\text {log}(\\text {sigmoid}(\\mathbf w^Tx^{(i)}))+(1-y^{(i)}) \\text {log}(1- \\text {sigmoid}(\\mathbf w^Tx^{(i)}))\\right) + \\frac{\\lambda}{2} ||\\mathbf w||^2\n",
    "\\end{equation}"
   ]
  },
  {
   "cell_type": "markdown",
   "metadata": {},
   "source": [
    "In order to write the loss in vectorized form, we will first calculate the term inside summation in vectorized form : \n",
    "\n",
    "\\begin{equation} \n",
    "\\mathbf e = \\mathbf y \\text {log}( \\text {sigmoid}\\mathbf {(Xw))}+ (1-\\mathbf y)\\text{log}(1-\\text{sigmoid}(\\mathbf {Xw})) \n",
    "\\end{equation}\n",
    "\n",
    "\n",
    "With this, the loss becomes:\n",
    "\\begin{equation} \n",
    "J(\\mathbf w)=-\\mathbf 1_{1 \\times n}^T \\mathbf e_{n \\times 1}\n",
    "\\end{equation}\n",
    "\n",
    "Adding $L_2$ penalty, we get :\n",
    "\\begin{equation} \n",
    "J(\\mathbf w)=-\\mathbf 1^T \\mathbf e+\\lambda \\mathbf w^T \\mathbf w\n",
    "\\end{equation}\n",
    "\n",
    "Adding $L_1$ penalty, we get:\n",
    "\n",
    "\\begin{equation} \n",
    "J(\\mathbf w)=-\\mathbf 1^T \\mathbf e +\\lambda \\mathbf 1^T  |\\mathbf w|  \n",
    "\\end{equation}\n",
    "\n",
    "The loss function implements vectorized loss calculation with actual label vector, activation vector, weight vector, and $L_1$ and $L_2$ regularization rates.\n",
    "\n",
    "Set the regularization rate that is not needed to 0.\n",
    "\n",
    "If we set the regularization rates such that there sum is 1, we get elastic net regularization. In other words, for **elasticnet** classifier, we have : \n",
    "\n",
    "                                                    l1_reg_rate + l2_reg_rate = 1\n",
    "\n",
    "The loss function returns a scalar quantity that denotes the loss on all training examples for a particular choice of the weight vector."
   ]
  },
  {
   "cell_type": "code",
   "execution_count": 9,
   "metadata": {},
   "outputs": [],
   "source": [
    "def loss(y, sigmoid_vector, weight_vector, l1_reg_rate, l2_reg_rate):\n",
    "    # sigmoid_vector = z = X@w\n",
    "\n",
    "    return (-1*(np.sum(y*np.log(sigmoid_vector)+(1-y)*np.log(1-sigmoid_vector))))+ l2_reg_rate * np.dot(np.transpose(weight_vector), weight_vector) + l1_reg_rate * np.sum(np.abs(weight_vector))"
   ]
  },
  {
   "cell_type": "markdown",
   "metadata": {},
   "source": [
    "### 3. **Optimization**\n",
    "\n",
    "Next we will implement optimization. For that we will make use of iterative optimization techniques like gradient descent (GD), mini-batch gradient descent (MBGD) or stochastic gradient descent (SGD).\n",
    "\n",
    "We will demonstrate GD in this notebook and for that we will adopt the GD implementation from linear regression.\n",
    "\n",
    "We need to modify the gradient update rule such that it is suitable for logistic regression loss:\n",
    "\n",
    "* **STEP 1** : Calculate gradient descent loss function and \n",
    "\n",
    "* **STEP 2** : Scale the gradient with learning rate and use it for updating the weight vector.\n"
   ]
  },
  {
   "cell_type": "markdown",
   "metadata": {},
   "source": [
    "#### Gradient of loss function.\n",
    "The gradient of loss function can be calculated (in vectorized form) as follows:\n",
    "\n",
    "\\begin{equation} \n",
    "\\frac {\\partial}{\\partial \\mathbf w}J(\\mathbf w)= \\mathbf X^T(\\text {sigmoid}(\\mathbf {(Xw)-y})+ \\lambda \\mathbf w\n",
    "\\end{equation}\n",
    "\n",
    "        where : \n",
    "* sigmoid $(\\mathbf {Xw})$ is the sigmoid activation vector of samples and \n",
    "\n",
    "* $\\mathbf y$ is a label vector\n",
    "\n",
    "* $\\mathbf w$ is a weight vector\n",
    "\n",
    "* $\\lambda$ is a regularization rate\n",
    "\n",
    "It is implemented with `calculate_graidient` function that takes feature matrix $\\mathbf X$, label vector $\\mathbf y$, weight vector $\\mathbf w$ and regualarization rate $\\lambda$ as arguments and efficiently calculates gradient of loss function w.r.t the weight vector in vectorized form.\n"
   ]
  },
  {
   "cell_type": "code",
   "execution_count": 10,
   "metadata": {},
   "outputs": [],
   "source": [
    "def calculate_gradient(X,y,w,reg_rate):\n",
    "    return np.transpose(X)@(sigmoid(linear_combination(X,w))-y)+reg_rate*w"
   ]
  },
  {
   "cell_type": "markdown",
   "metadata": {},
   "source": [
    "As part of the implementation, we store loss and weight vectors in each GD step as a class member  variable : \n",
    "\n",
    "* The step-wise loss is used for plotting a learning curve in order to ensure that the model is training as expected.\n",
    "\n",
    "* The step-wise weight vector is useful in studying the **trajectory of gradient descent** in the loss landscape."
   ]
  },
  {
   "cell_type": "markdown",
   "metadata": {},
   "source": [
    "### **Logistic Regression Class Implementation**\n",
    "\n",
    "We combine these different components into a single python class with name `LogisticRegression`.\n",
    "\n",
    "It has the following class member variables : \n",
    "1. Weight vector\n",
    "\n",
    "2. Loss and weight vectors in each GD step.\n"
   ]
  },
  {
   "cell_type": "code",
   "execution_count": 11,
   "metadata": {},
   "outputs": [],
   "source": [
    "class LogisticRegression(object):\n",
    "  #y_hat = sigmoid(X@w)\n",
    "\n",
    "  def set_weight_vector(self,w):\n",
    "    self.w = w \n",
    "  \n",
    "  def linear_combination(self,X):\n",
    "    #z=xw \n",
    "    return X@self.w \n",
    "\n",
    "  def sigmoid(self,z):\n",
    "    return 1/(1+np.exp(-z)) \n",
    "\n",
    "  def activation(self,X):\n",
    "    #act = sigmoid(Xw)\n",
    "    return self.sigmoid(self.linear_combination(X))\n",
    "\n",
    "  def predict(self,X, threshold:float=0.5):\n",
    "    return (self.activation(X)>threshold).astype(int)\n",
    "\n",
    "  def loss(self,X,y,reg_rate:float):\n",
    "    predicted_prob = self.activation(X) \n",
    "    return (-1*(np.sum(y*np.log(predicted_prob)+(1-y)*np.log(1-predicted_prob)))) + reg_rate*np.dot(np.transpose(self.w),self.w)\n",
    "  \n",
    "  def calculate_gradient(self,X,y,reg_rate):\n",
    "    return X.T@(self.activation(X)-y) + reg_rate*self.w \n",
    "\n",
    "  def update_weights(self,grad,lr):\n",
    "    return self.w -lr*grad\n",
    "\n",
    "  def gd(self,X,y, num_epochs,lr, reg_rate):\n",
    "    self.w = np.zeros(X.shape[1])\n",
    "    self.w_all=[] \n",
    "    self.err_all=[]\n",
    "    for i in np.arange(0,num_epochs):\n",
    "      dJdW = self.calculate_gradient(X,y,reg_rate) #grad=djdw \n",
    "      self.w_all.append(self.w)\n",
    "      self.err_all.append(self.loss(X,y,reg_rate))\n",
    "      self.w = self.update_weights(dJdW,lr)\n",
    "    return self.w"
   ]
  },
  {
   "cell_type": "markdown",
   "metadata": {},
   "source": [
    "In this section, we implemented binary logistic regression classifier from scratch. \n",
    "\n",
    "First we implemented all its components in vectorized form and then clubbed all of them together in a python class.\n",
    "\n",
    "In the next section, we will use this implementation to solve a couple of classificiation problems."
   ]
  },
  {
   "cell_type": "markdown",
   "metadata": {},
   "source": [
    "### DEMO 1 : *Logistic regression for linearly-separable binary classification.*\n",
    "In the first experiment, we will use logistic regression to learn decision boundary between two linearly separable classes."
   ]
  },
  {
   "cell_type": "markdown",
   "metadata": {},
   "source": [
    "##### **STEP 1** : Generate two linearly separable classes with 25 samples each. Each example is represented with two features."
   ]
  },
  {
   "cell_type": "code",
   "execution_count": 12,
   "metadata": {},
   "outputs": [],
   "source": [
    "def create_toy_data():\n",
    "    x0 = np.random.normal(size=50).reshape(-1,2)-1\n",
    "    x1 = np.random.normal(size=50).reshape(-1,2)+1\n",
    "    \n",
    "    return np.concatenate([x0,x1]),np.concatenate([np.zeros(x1.shape[0]),np.ones(x1.shape[0])]).astype(int) "
   ]
  },
  {
   "cell_type": "code",
   "execution_count": 13,
   "metadata": {},
   "outputs": [
    {
     "name": "stdout",
     "output_type": "stream",
     "text": [
      "Shape of feature matrix :  (50, 2)\n",
      "Shape of label vector :  (50,)\n"
     ]
    }
   ],
   "source": [
    "feature_matrix , label_vector = create_toy_data()\n",
    "print('Shape of feature matrix : ', feature_matrix.shape)\n",
    "print('Shape of label vector : ', label_vector.shape)"
   ]
  },
  {
   "cell_type": "markdown",
   "metadata": {},
   "source": [
    "As a sanity check, compare the first element of shape of feature matrix and label vector. Make sure they are identical."
   ]
  },
  {
   "cell_type": "code",
   "execution_count": 14,
   "metadata": {},
   "outputs": [],
   "source": [
    "assert feature_matrix.shape[0] == label_vector.shape[0]"
   ]
  },
  {
   "cell_type": "markdown",
   "metadata": {},
   "source": [
    "##### **STEP 2** : Add a dummy feature corresponding to this bias. \n",
    "\n",
    "* We make use of polynomial feature transformation code that we have been using in the previous notebooks.\n",
    "\n",
    "* The dummy feature can be added by performing polynomial transformation of degree 1.\n",
    "\n",
    "##### Polynomial transformation"
   ]
  },
  {
   "cell_type": "code",
   "execution_count": 15,
   "metadata": {},
   "outputs": [],
   "source": [
    "import itertools\n",
    "import functools\n",
    "\n",
    "def polynomial_transform(x, degree):\n",
    "    if x.ndim == 1:\n",
    "        x = x[:, None]\n",
    "    x_t = x.transpose()\n",
    "    features = [np.ones(len(x))]\n",
    "\n",
    "    for degree in range(1, degree+1):\n",
    "        for items in itertools.combinations_with_replacement(x_t, degree):\n",
    "            features.append(functools.reduce(lambda x, y: x*y, items))\n",
    "    return np.asarray(features).transpose()"
   ]
  },
  {
   "cell_type": "code",
   "execution_count": 16,
   "metadata": {},
   "outputs": [],
   "source": [
    "feature_matrix_bias = polynomial_transform(feature_matrix, degree=1)"
   ]
  },
  {
   "cell_type": "markdown",
   "metadata": {},
   "source": [
    "##### **STEP 3 :** Separate data into training and test sets."
   ]
  },
  {
   "cell_type": "code",
   "execution_count": 17,
   "metadata": {},
   "outputs": [],
   "source": [
    "from sklearn.model_selection import train_test_split\n",
    "x_train , x_test , y_train , y_test = train_test_split(feature_matrix_bias, label_vector, test_size=0.2)"
   ]
  },
  {
   "cell_type": "markdown",
   "metadata": {},
   "source": [
    "It is good practice to assert that the training feature matrix and labels have the same number of rows. The same assertion should be extended to the test set."
   ]
  },
  {
   "cell_type": "code",
   "execution_count": 18,
   "metadata": {},
   "outputs": [],
   "source": [
    "assert x_train.shape[0] == y_train.shape[0]\n",
    "assert x_test.shape[0]==y_test.shape[0]"
   ]
  },
  {
   "cell_type": "markdown",
   "metadata": {},
   "source": [
    "##### **STEP 4** : Let's visualize the training data to get an idea of its distribution.\n",
    "\n",
    "Note that it won't be possible to visualize the real world datasets as there are many features. \n",
    "\n",
    "In this case, we have only two features in our dataset and hence we can visualize it."
   ]
  },
  {
   "cell_type": "code",
   "execution_count": 19,
   "metadata": {},
   "outputs": [
    {
     "data": {
      "image/png": "[encoded data removed]",
      "text/plain": [
       "<Figure size 576x576 with 1 Axes>"
      ]
     },
     "metadata": {},
     "output_type": "display_data"
    }
   ],
   "source": [
    "sns.set_style('white')\n",
    "f = plt.figure(figsize=(8, 8))\n",
    "sns.set_context('notebook', font_scale=1.5, rc={'lines.linewidth': 2.5})\n",
    "\n",
    "sns.scatterplot(data=x_train, x=x_train[:, -2], y=x_train[:, -1], hue=y_train)\n",
    "plt.xlabel('$x_1$')\n",
    "plt.ylabel('$x_2$')\n",
    "plt.show()"
   ]
  },
  {
   "cell_type": "markdown",
   "metadata": {},
   "source": [
    "##### **STEP 5 :** We are all set to training a logisitic regression on this problem.\n",
    "\n",
    "1. First instantiate a logistic regression object.\n",
    "\n",
    "2. Train the model with gradient descent procedure on the given training set."
   ]
  },
  {
   "cell_type": "code",
   "execution_count": 20,
   "metadata": {},
   "outputs": [
    {
     "data": {
      "text/plain": [
       "array([-0.116632  ,  1.203628  ,  1.05257202])"
      ]
     },
     "execution_count": 20,
     "metadata": {},
     "output_type": "execute_result"
    }
   ],
   "source": [
    "log_reg = LogisticRegression() \n",
    "log_reg.gd(x_train, y_train, num_epochs=1000, lr=0.01, reg_rate=0)"
   ]
  },
  {
   "cell_type": "markdown",
   "metadata": {},
   "source": [
    "It is good practice to examine the learning curve to make sure the model is able to learn with the current training set up. \n",
    "\n",
    "In cases, where the model is learning, the loss will reduce from one iteration to the next in gradient descent."
   ]
  },
  {
   "cell_type": "code",
   "execution_count": 21,
   "metadata": {},
   "outputs": [],
   "source": [
    "def plot_learning_curve(err):\n",
    "    plt.plot(np.arange(len(err)), err, 'g-')\n",
    "    plt.xlabel('Number of iterations : ')\n",
    "    plt.ylabel('$\\mathbf {J(w)}$')\n",
    "    plt.show()"
   ]
  },
  {
   "cell_type": "markdown",
   "metadata": {},
   "source": [
    "We use loss values stored during each step of GD for plotting the learning curve.\n",
    "\n",
    "Here is our learning curve-the iteration number is on x-axis and the loss is on y-axis."
   ]
  },
  {
   "cell_type": "code",
   "execution_count": 22,
   "metadata": {},
   "outputs": [
    {
     "data": {
      "image/png": "[encoded data removed]",
      "text/plain": [
       "<Figure size 432x288 with 1 Axes>"
      ]
     },
     "metadata": {},
     "output_type": "display_data"
    }
   ],
   "source": [
    "plot_learning_curve(log_reg.err_all)"
   ]
  },
  {
   "cell_type": "markdown",
   "metadata": {},
   "source": [
    "Note that the loss drops smoothly as we proceed with GD.\n",
    "\n",
    "This is an ideal learning curve for the model training task."
   ]
  },
  {
   "cell_type": "markdown",
   "metadata": {},
   "source": [
    "##### **STEP 6 :** Model Visualization"
   ]
  },
  {
   "cell_type": "code",
   "execution_count": 23,
   "metadata": {},
   "outputs": [],
   "source": [
    "sns.set_context('notebook', font_scale=1.5, rc={'lines.linewidth': 2.5})\n",
    "\n",
    "def visualize_model(X_train, labels, log_reg, degree=1):\n",
    "    f = plt.figure(figsize=(8, 8))\n",
    "\n",
    "    #compute xlim and ylim\n",
    "    x1_min = np.min(x_train[:, 1])\n",
    "    x1_max = np.max(x_train[:, 1])\n",
    "    x2_min = np.min(x_train[:, 2])\n",
    "    x2_max = np.max(x_train[:, 2])\n",
    "\n",
    "    x1_test, x2_test = np.meshgrid(np.linspace(x1_min, x1_max, 100),\n",
    "                                    np.linspace(x2_min, x2_max, 100))\n",
    "    x_test = np.array([x1_test, x2_test]).reshape(2, -1).T\n",
    "\n",
    "    x_test_poly = polynomial_transform(x_test, degree=degree)\n",
    "    y_test = log_reg.predict(x_test_poly)\n",
    "\n",
    "    sns.scatterplot(data=X_train, x=X_train[:, 1], y=X_train[:, 2], hue=labels)\n",
    "\n",
    "    plt.contourf(x1_test, x2_test, y_test.reshape(100, 100), alpha=0.5,\n",
    "                levels=np.linspace(0, 1, 3))\n",
    "\n",
    "    plt.xlabel(\"$x_1$\")\n",
    "    plt.ylabel(\"$x_2$\")\n",
    "    plt.xlim(x1_min, x1_max)\n",
    "    plt.ylim(x2_min, x2_max)\n",
    "\n",
    "    plt.gca().set_aspect('equal', adjustable='box')\n",
    "    return plt.show()"
   ]
  },
  {
   "cell_type": "code",
   "execution_count": 24,
   "metadata": {},
   "outputs": [
    {
     "data": {
      "image/png": "[encoded data removed]",
      "text/plain": [
       "<Figure size 576x576 with 1 Axes>"
      ]
     },
     "metadata": {},
     "output_type": "display_data"
    }
   ],
   "source": [
    "visualize_model(x_train, y_train, log_reg)"
   ]
  },
  {
   "cell_type": "markdown",
   "metadata": {},
   "source": [
    "Our model learnt a reasonable decision boundary that is able to separate most point from two classes."
   ]
  },
  {
   "cell_type": "markdown",
   "metadata": {},
   "source": [
    "##### **STEP 7 :** Model Evaluation\n",
    "\n",
    "The next step is to use the model for making predictions on the new inputs. \n",
    "\n",
    "Let's predict labels on the test set-that was set aside for evaluating model performance."
   ]
  },
  {
   "cell_type": "code",
   "execution_count": 25,
   "metadata": {},
   "outputs": [],
   "source": [
    "y_test_hat = log_reg.predict(x_test)"
   ]
  },
  {
   "cell_type": "markdown",
   "metadata": {},
   "source": [
    "We compare these predictions with the actual labels and generate a classification report that includes several metrics like confusion matrix, precision, recall, F1-score etc."
   ]
  },
  {
   "cell_type": "code",
   "execution_count": 26,
   "metadata": {},
   "outputs": [
    {
     "name": "stdout",
     "output_type": "stream",
     "text": [
      "              precision    recall  f1-score   support\n",
      "\n",
      "           0       1.00      1.00      1.00         6\n",
      "           1       1.00      1.00      1.00         4\n",
      "\n",
      "    accuracy                           1.00        10\n",
      "   macro avg       1.00      1.00      1.00        10\n",
      "weighted avg       1.00      1.00      1.00        10\n",
      "\n"
     ]
    }
   ],
   "source": [
    "from sklearn.metrics import classification_report \n",
    "print(classification_report(y_test, y_test_hat,zero_division=0))"
   ]
  },
  {
   "cell_type": "markdown",
   "metadata": {},
   "source": [
    "### DEMO 2 : *Polynomial least square classification*\n",
    "\n",
    "In the second demonstration, we will use logistic regression to fit a circular decision boundary between two classes.\n"
   ]
  },
  {
   "cell_type": "markdown",
   "metadata": {},
   "source": [
    "##### **STEP 1:** For this demonstration , we will generate samples from two classes such that they are separated by a circular decision boundary."
   ]
  },
  {
   "cell_type": "code",
   "execution_count": 27,
   "metadata": {},
   "outputs": [
    {
     "name": "stdout",
     "output_type": "stream",
     "text": [
      "Shape of feature matrix :  (100, 2)\n",
      "Shape of label vector :  (100,)\n"
     ]
    }
   ],
   "source": [
    "from sklearn.datasets import make_circles \n",
    "feature_matrix ,label_vector = make_circles()\n",
    "\n",
    "print('Shape of feature matrix : ', feature_matrix.shape)\n",
    "print('Shape of label vector : ', label_vector.shape)"
   ]
  },
  {
   "cell_type": "markdown",
   "metadata": {},
   "source": [
    "As a sanity check, compare the first element of shape of feature matrix and label vector. Make sure they are identical."
   ]
  },
  {
   "cell_type": "code",
   "execution_count": 28,
   "metadata": {},
   "outputs": [],
   "source": [
    "assert feature_matrix.shape[0] == label_vector.shape[0]"
   ]
  },
  {
   "cell_type": "markdown",
   "metadata": {},
   "source": [
    "##### **STEP 2**: As the next step, we will make use of polynomial feature transformation to transform the features to polynomials of desired degree.\n",
    "\n",
    "**Note**:\n",
    "\n",
    "* It is important to note that we would not have an idea about an appropriate degree for polynomial transformation in real world problem setting.\n",
    "\n",
    "* We perform hyperparameter tuning to determine the right degree for polynomial transformation.\n",
    "\n",
    "* Another option is to use model diagnostic tools-in case the model is underfitting, we can make model fit better by increasing the degree of the polynomial. \n",
    "\n",
    "* On the other hand, if the model is overfitting, we can either reduce the degree of polynomial or increase regularization penalty.\n",
    "\n",
    "\n",
    "We use `polynomial_transform` with `degree =2` for transforming input features into the second order polynomial features."
   ]
  },
  {
   "cell_type": "code",
   "execution_count": 29,
   "metadata": {},
   "outputs": [],
   "source": [
    "x_poly = polynomial_transform(feature_matrix, degree=2)"
   ]
  },
  {
   "cell_type": "markdown",
   "metadata": {},
   "source": [
    "Polynomial feature transformation results in more features. \n",
    "\n",
    "Let's compare number of feature before and after the transformation."
   ]
  },
  {
   "cell_type": "code",
   "execution_count": 30,
   "metadata": {},
   "outputs": [
    {
     "name": "stdout",
     "output_type": "stream",
     "text": [
      "Number of features before transformation :  2\n",
      "Number of features after transformation :  6\n"
     ]
    }
   ],
   "source": [
    "print('Number of features before transformation : ',feature_matrix.shape[1])\n",
    "print('Number of features after transformation : ',x_poly.shape[1])"
   ]
  },
  {
   "cell_type": "markdown",
   "metadata": {},
   "source": [
    "The four additional features are as follows:\n",
    "\n",
    "1. Dummy feature corresponding to bias. It is set to 1.\n",
    "\n",
    "2. Squares of the original features-that adds two more features: $x_1^2, x_2^2$\n",
    "\n",
    "3. One more feature corresponding to interaction between two features: $x_1,x_2$.\n",
    "\n",
    "Let's look at the first 5 samples from original and transformed feature matrix : "
   ]
  },
  {
   "cell_type": "code",
   "execution_count": 31,
   "metadata": {},
   "outputs": [
    {
     "data": {
      "text/plain": [
       "array([[ 0.18738131,  0.98228725],\n",
       "       [ 0.05023242, -0.79842138],\n",
       "       [-0.72896863, -0.68454711],\n",
       "       [ 0.34062343,  0.72386164],\n",
       "       [ 0.77486653, -0.19895191]])"
      ]
     },
     "execution_count": 31,
     "metadata": {},
     "output_type": "execute_result"
    }
   ],
   "source": [
    "feature_matrix[:5]"
   ]
  },
  {
   "cell_type": "code",
   "execution_count": 32,
   "metadata": {},
   "outputs": [
    {
     "data": {
      "text/plain": [
       "array([[ 1.        ,  0.18738131,  0.98228725,  0.03511176,  0.18406228,\n",
       "         0.96488824],\n",
       "       [ 1.        ,  0.05023242, -0.79842138,  0.0025233 , -0.04010663,\n",
       "         0.6374767 ],\n",
       "       [ 1.        , -0.72896863, -0.68454711,  0.53139526,  0.49901336,\n",
       "         0.46860474],\n",
       "       [ 1.        ,  0.34062343,  0.72386164,  0.11602432,  0.24656424,\n",
       "         0.52397568],\n",
       "       [ 1.        ,  0.77486653, -0.19895191,  0.60041814, -0.15416118,\n",
       "         0.03958186]])"
      ]
     },
     "execution_count": 32,
     "metadata": {},
     "output_type": "execute_result"
    }
   ],
   "source": [
    "x_poly[:5]"
   ]
  },
  {
   "cell_type": "markdown",
   "metadata": {},
   "source": [
    "Note : \n",
    "* The second and the third feature are the original input features, whereas the first, fourth, fifth and sixth features are newly added features during transformation.\n",
    "\n",
    "* The first feature from the transformed feature corresponds to the bias and is set to 1 for all the samples."
   ]
  },
  {
   "cell_type": "markdown",
   "metadata": {},
   "source": [
    "##### **STEP 3**: Split the training set consisting of transformed feature matrix and label vector into train and test sets.\n",
    "\n",
    "For this - we will make use of `train_test_split` util from `sklearn` that takes feature matrix and label vector as input and returns train and test feature matrices and label vectors."
   ]
  },
  {
   "cell_type": "code",
   "execution_count": 33,
   "metadata": {},
   "outputs": [],
   "source": [
    "x_train, x_test, y_train, y_test = train_test_split(x_poly, label_vector)"
   ]
  },
  {
   "cell_type": "markdown",
   "metadata": {},
   "source": [
    "It is good practice to assert that the training feature matrix and labels have same number of rows. The same assertion should be extended to the test set."
   ]
  },
  {
   "cell_type": "code",
   "execution_count": 34,
   "metadata": {},
   "outputs": [],
   "source": [
    "assert x_train.shape[0]==y_train.shape[0]\n",
    "assert x_test.shape[0]==y_test.shape[0]"
   ]
  },
  {
   "cell_type": "markdown",
   "metadata": {},
   "source": [
    "##### **STEP 4 :** Next we plot the training data in original feature space and check its distribution."
   ]
  },
  {
   "cell_type": "code",
   "execution_count": 35,
   "metadata": {},
   "outputs": [
    {
     "data": {
      "image/png": "[encoded data removed]",
      "text/plain": [
       "<Figure size 576x576 with 1 Axes>"
      ]
     },
     "metadata": {},
     "output_type": "display_data"
    }
   ],
   "source": [
    "sns.set_style('white')\n",
    "f = plt.figure(figsize=(8, 8))\n",
    "sns.set_context('notebook', font_scale=1.5, rc={'lines.linewidth': 2.5})\n",
    "\n",
    "sns.scatterplot(data=x_train, x=x_train[:, 1], y=x_train[:, 2], hue=y_train)\n",
    "plt.xlabel('$x_1$')\n",
    "plt.ylabel('$x_2$')\n",
    "plt.show()"
   ]
  },
  {
   "cell_type": "markdown",
   "metadata": {},
   "source": [
    "##### **STEP 5 :** Train a logistic regression model on the training set and visualize the model.\n"
   ]
  },
  {
   "cell_type": "code",
   "execution_count": 36,
   "metadata": {},
   "outputs": [
    {
     "data": {
      "text/plain": [
       "array([ 20.3236705 ,  -0.09956493,   0.04608154, -24.77274063,\n",
       "        -0.07925223, -24.88454228])"
      ]
     },
     "execution_count": 36,
     "metadata": {},
     "output_type": "execute_result"
    }
   ],
   "source": [
    "log_reg_poly = LogisticRegression() \n",
    "log_reg_poly.gd(x_train, y_train, reg_rate=0,num_epochs=10000, lr=1e-2)"
   ]
  },
  {
   "cell_type": "markdown",
   "metadata": {},
   "source": [
    "We use loss values stored during each step of GD for plotting the learning curve.\n",
    "\n",
    "Here is our learning curve-the iteration number is on x-axis and the loss is on y-axis."
   ]
  },
  {
   "cell_type": "code",
   "execution_count": 37,
   "metadata": {},
   "outputs": [
    {
     "data": {
      "image/png": "[encoded data removed]",
      "text/plain": [
       "<Figure size 432x288 with 1 Axes>"
      ]
     },
     "metadata": {},
     "output_type": "display_data"
    }
   ],
   "source": [
    "plot_learning_curve(log_reg_poly.err_all)"
   ]
  },
  {
   "cell_type": "markdown",
   "metadata": {},
   "source": [
    "##### **STEP 6 :** Visualizing the model"
   ]
  },
  {
   "cell_type": "markdown",
   "metadata": {},
   "source": [
    "We will visualize the decision boundary learnt by the logistic regression classifier."
   ]
  },
  {
   "cell_type": "code",
   "execution_count": 38,
   "metadata": {},
   "outputs": [
    {
     "data": {
      "image/png": "[encoded data removed]",
      "text/plain": [
       "<Figure size 576x576 with 1 Axes>"
      ]
     },
     "metadata": {},
     "output_type": "display_data"
    }
   ],
   "source": [
    "visualize_model(x_train, y_train, log_reg_poly, degree=2)"
   ]
  },
  {
   "cell_type": "markdown",
   "metadata": {},
   "source": [
    "##### **STEP 6**: Model evaluation\n",
    "The next step is to use the model for making predictions on the new inputs. \n",
    "\n",
    "Let's predict labels on the test set-that was set aside for evaluating model performance."
   ]
  },
  {
   "cell_type": "code",
   "execution_count": 39,
   "metadata": {},
   "outputs": [],
   "source": [
    "y_test_hat = log_reg_poly.predict(x_test)"
   ]
  },
  {
   "cell_type": "markdown",
   "metadata": {},
   "source": [
    "We compare these predictions with the actual labels and generate a classification report."
   ]
  },
  {
   "cell_type": "code",
   "execution_count": 40,
   "metadata": {},
   "outputs": [
    {
     "name": "stdout",
     "output_type": "stream",
     "text": [
      "              precision    recall  f1-score   support\n",
      "\n",
      "           0       1.00      1.00      1.00        13\n",
      "           1       1.00      1.00      1.00        12\n",
      "\n",
      "    accuracy                           1.00        25\n",
      "   macro avg       1.00      1.00      1.00        25\n",
      "weighted avg       1.00      1.00      1.00        25\n",
      "\n"
     ]
    }
   ],
   "source": [
    "print(classification_report(y_test, y_test_hat, zero_division=0))"
   ]
  },
  {
   "cell_type": "markdown",
   "metadata": {},
   "source": [
    "**NOTE :** \n",
    "\n",
    "Observe that we have a perfect classifier here. \n",
    "\n",
    "It was a toy settting-however such a thing may not be possible on the real world dataset."
   ]
  }
 ],
 "metadata": {
  "kernelspec": {
   "display_name": "Python 3.9.7 ('tensorflow')",
   "language": "python",
   "name": "python3"
  },
  "language_info": {
   "codemirror_mode": {
    "name": "ipython",
    "version": 3
   },
   "file_extension": ".py",
   "mimetype": "text/x-python",
   "name": "python",
   "nbconvert_exporter": "python",
   "pygments_lexer": "ipython3",
   "version": "3.9.7"
  },
  "orig_nbformat": 4,
  "vscode": {
   "interpreter": {
    "hash": "32f02dc107888b055323539767db1f9cf579f03b0ed3a3ace7986ed2d38433ec"
   }
  }
 },
 "nbformat": 4,
 "nbformat_minor": 2
}
